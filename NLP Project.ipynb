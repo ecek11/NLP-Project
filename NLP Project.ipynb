{
  "nbformat": 4,
  "nbformat_minor": 0,
  "metadata": {
    "accelerator": "GPU",
    "colab": {
      "name": "Cs412_RESNETV2_Yusufcan",
      "provenance": [],
      "collapsed_sections": [
        "Afcv0mnUWtEb",
        "r_gqprKWW2IS",
        "l_sf0FXhXaGT",
        "PyZmDZv6Xh8Q",
        "xJ8cAOX8Xs9h",
        "1QuA5_Q1EKYR",
        "OItNBlpevqN8",
        "j7N55BHh5vWH",
        "rvpGSKMuwYr5",
        "mEPV896TL2bp",
        "jpDYnIdi0-NQ",
        "b5qsnUXaO5Rm",
        "LbHZAbyzOeaZ",
        "SDLBKn2T1NY1",
        "1mj4y3yUPgXo",
        "3qVzSJw3Prqr",
        "gmjhOWZy1Vgc",
        "34HnT9OVQiCw",
        "bVjPSpa4QmVt",
        "OcTNIW84TBns",
        "Pc1PiQbiShTN",
        "Yl8cMNtlVivX"
      ]
    },
    "kernelspec": {
      "display_name": "Python 3",
      "name": "python3"
    },
    "language_info": {
      "name": "python"
    }
  },
  "cells": [
    {
      "cell_type": "markdown",
      "metadata": {
        "id": "Afcv0mnUWtEb"
      },
      "source": [
        "#Importing libraries"
      ]
    },
    {
      "cell_type": "code",
      "metadata": {
        "id": "EigtJy7cF-FJ"
      },
      "source": [
        "import numpy as np\n",
        "import pandas as pd\n",
        "import time\n",
        "from matplotlib import pyplot as plt\n",
        "from sklearn.model_selection import train_test_split\n",
        "from os.path import join\n",
        "import os\n",
        "from tqdm import tqdm"
      ],
      "execution_count": null,
      "outputs": []
    },
    {
      "cell_type": "code",
      "metadata": {
        "id": "Yxt9fsaW3DRD",
        "colab": {
          "base_uri": "https://localhost:8080/"
        },
        "outputId": "569cd9dd-1c34-4bd5-b08b-94ab2536d8f6"
      },
      "source": [
        "!nvidia-smi"
      ],
      "execution_count": null,
      "outputs": [
        {
          "output_type": "stream",
          "name": "stdout",
          "text": [
            "Fri Sep 10 16:39:47 2021       \n",
            "+-----------------------------------------------------------------------------+\n",
            "| NVIDIA-SMI 470.63.01    Driver Version: 460.32.03    CUDA Version: 11.2     |\n",
            "|-------------------------------+----------------------+----------------------+\n",
            "| GPU  Name        Persistence-M| Bus-Id        Disp.A | Volatile Uncorr. ECC |\n",
            "| Fan  Temp  Perf  Pwr:Usage/Cap|         Memory-Usage | GPU-Util  Compute M. |\n",
            "|                               |                      |               MIG M. |\n",
            "|===============================+======================+======================|\n",
            "|   0  Tesla K80           Off  | 00000000:00:04.0 Off |                    0 |\n",
            "| N/A   64C    P8    35W / 149W |      0MiB / 11441MiB |      0%      Default |\n",
            "|                               |                      |                  N/A |\n",
            "+-------------------------------+----------------------+----------------------+\n",
            "                                                                               \n",
            "+-----------------------------------------------------------------------------+\n",
            "| Processes:                                                                  |\n",
            "|  GPU   GI   CI        PID   Type   Process name                  GPU Memory |\n",
            "|        ID   ID                                                   Usage      |\n",
            "|=============================================================================|\n",
            "|  No running processes found                                                 |\n",
            "+-----------------------------------------------------------------------------+\n"
          ]
        }
      ]
    },
    {
      "cell_type": "code",
      "metadata": {
        "id": "4xquwbymI0V4"
      },
      "source": [
        "import keras\n",
        "from keras.layers import Dense, Dropout, Activation, Flatten, Conv2D, MaxPooling2D, Lambda, MaxPool2D, BatchNormalization\n",
        "from keras.utils import np_utils\n",
        "from keras.utils.np_utils import to_categorical\n",
        "from keras.preprocessing.image import ImageDataGenerator\n",
        "from keras import models, layers, optimizers\n",
        "from sklearn.model_selection import train_test_split\n",
        "from sklearn.metrics import confusion_matrix, accuracy_score\n",
        "from sklearn.utils import class_weight\n",
        "from keras.optimizers import SGD, RMSprop, Adam, Adagrad, Adadelta, RMSprop\n",
        "from keras.models import Sequential, model_from_json\n",
        "from keras.layers import Activation,Dense, Dropout, Flatten, Conv2D, MaxPool2D,MaxPooling2D,AveragePooling2D, BatchNormalization,GlobalAveragePooling2D\n",
        "from keras.preprocessing.image import ImageDataGenerator\n",
        "from keras.callbacks import ReduceLROnPlateau, ModelCheckpoint\n",
        "from keras import backend as K\n",
        "from keras.applications.vgg16 import VGG16\n",
        "from keras.models import Model\n",
        "from keras.applications.inception_v3 import InceptionV3\n",
        "import os\n",
        "from glob import glob\n",
        "import matplotlib.pyplot as plt\n",
        "import random\n",
        "import cv2\n",
        "import pandas as pd\n",
        "import numpy as np\n",
        "import matplotlib.gridspec as gridspec\n",
        "import seaborn as sns\n",
        "import zlib\n",
        "import itertools\n",
        "import sklearn\n",
        "import itertools\n",
        "import scipy\n",
        "import skimage\n",
        "from skimage.transform import resize\n",
        "import csv\n",
        "from tqdm import tqdm\n",
        "from sklearn import model_selection\n",
        "from sklearn.model_selection import train_test_split, learning_curve,KFold,cross_val_score,StratifiedKFold\n",
        "from sklearn.utils import class_weight\n",
        "from sklearn.metrics import confusion_matrix\n",
        "from imblearn.over_sampling import RandomOverSampler\n",
        "from imblearn.under_sampling import RandomUnderSampler\n",
        "\n",
        "%matplotlib inline"
      ],
      "execution_count": null,
      "outputs": []
    },
    {
      "cell_type": "code",
      "metadata": {
        "id": "74zljnrbuBIL"
      },
      "source": [
        "\n",
        "from google.colab import drive\n",
        "drive.mount('/content/drive')"
      ],
      "execution_count": null,
      "outputs": []
    },
    {
      "cell_type": "code",
      "metadata": {
        "id": "DrGOYeJl9TUN"
      },
      "source": [
        "from pathlib import Path"
      ],
      "execution_count": null,
      "outputs": []
    },
    {
      "cell_type": "code",
      "metadata": {
        "id": "jKWTO2Okm3-v"
      },
      "source": [
        "import tensorflow as tf"
      ],
      "execution_count": null,
      "outputs": []
    },
    {
      "cell_type": "markdown",
      "metadata": {
        "id": "O0bE-JKhWiwY"
      },
      "source": [
        "#Loading JPG Data"
      ]
    },
    {
      "cell_type": "markdown",
      "metadata": {
        "id": "r_gqprKWW2IS"
      },
      "source": [
        "##TRAIN DATA"
      ]
    },
    {
      "cell_type": "code",
      "metadata": {
        "id": "74xq05mAW6OQ"
      },
      "source": [
        "imageSize=200\n",
        "train_dir = Path( \"/content/drive/MyDrive/Cs412Projectdata/train_data/\")"
      ],
      "execution_count": null,
      "outputs": []
    },
    {
      "cell_type": "code",
      "metadata": {
        "colab": {
          "base_uri": "https://localhost:8080/"
        },
        "id": "idrnzXb0faM3",
        "outputId": "5111f09b-6242-4f42-f954-b88002c849d0"
      },
      "source": [
        "train_dir.glob(r'**/*.jpg')\n"
      ],
      "execution_count": null,
      "outputs": [
        {
          "output_type": "execute_result",
          "data": {
            "text/plain": [
              "<generator object Path.glob at 0x7f7d04805ed0>"
            ]
          },
          "metadata": {
            "tags": []
          },
          "execution_count": 8
        }
      ]
    },
    {
      "cell_type": "code",
      "metadata": {
        "id": "kbQ03XzmXKsY"
      },
      "source": [
        "filepath = list(train_dir.glob(r'**/*.jpg'))"
      ],
      "execution_count": null,
      "outputs": []
    },
    {
      "cell_type": "code",
      "metadata": {
        "id": "VDsAyhmh-1Gc"
      },
      "source": [
        "classes = list(map(lambda x: os.path.split(os.path.split(x)[0])[1],filepath))"
      ],
      "execution_count": null,
      "outputs": []
    },
    {
      "cell_type": "code",
      "metadata": {
        "id": "FINm-2j8_HE1"
      },
      "source": [
        "df = pd.concat([pd.Series(filepath).astype(str), pd.Series(classes)], axis=1)\n",
        "df.columns = ['Images', 'Image_label']"
      ],
      "execution_count": null,
      "outputs": []
    },
    {
      "cell_type": "code",
      "metadata": {
        "id": "SCfBix7b_Ivm"
      },
      "source": [
        "sample_size = 100\n",
        "df = df.groupby(\"Image_label\").sample(n=sample_size)"
      ],
      "execution_count": null,
      "outputs": []
    },
    {
      "cell_type": "code",
      "metadata": {
        "colab": {
          "base_uri": "https://localhost:8080/",
          "height": 419
        },
        "id": "18g4iTAWFA9v",
        "outputId": "3b259f31-50c6-4fd6-f3a8-18de95e5c83e"
      },
      "source": [
        "df"
      ],
      "execution_count": null,
      "outputs": [
        {
          "output_type": "execute_result",
          "data": {
            "text/html": [
              "<div>\n",
              "<style scoped>\n",
              "    .dataframe tbody tr th:only-of-type {\n",
              "        vertical-align: middle;\n",
              "    }\n",
              "\n",
              "    .dataframe tbody tr th {\n",
              "        vertical-align: top;\n",
              "    }\n",
              "\n",
              "    .dataframe thead th {\n",
              "        text-align: right;\n",
              "    }\n",
              "</style>\n",
              "<table border=\"1\" class=\"dataframe\">\n",
              "  <thead>\n",
              "    <tr style=\"text-align: right;\">\n",
              "      <th></th>\n",
              "      <th>Images</th>\n",
              "      <th>Image_label</th>\n",
              "    </tr>\n",
              "  </thead>\n",
              "  <tbody>\n",
              "    <tr>\n",
              "      <th>4481</th>\n",
              "      <td>/content/drive/MyDrive/Cs412Projectdata/train_...</td>\n",
              "      <td>A</td>\n",
              "    </tr>\n",
              "    <tr>\n",
              "      <th>4488</th>\n",
              "      <td>/content/drive/MyDrive/Cs412Projectdata/train_...</td>\n",
              "      <td>A</td>\n",
              "    </tr>\n",
              "    <tr>\n",
              "      <th>4139</th>\n",
              "      <td>/content/drive/MyDrive/Cs412Projectdata/train_...</td>\n",
              "      <td>A</td>\n",
              "    </tr>\n",
              "    <tr>\n",
              "      <th>4172</th>\n",
              "      <td>/content/drive/MyDrive/Cs412Projectdata/train_...</td>\n",
              "      <td>A</td>\n",
              "    </tr>\n",
              "    <tr>\n",
              "      <th>4671</th>\n",
              "      <td>/content/drive/MyDrive/Cs412Projectdata/train_...</td>\n",
              "      <td>A</td>\n",
              "    </tr>\n",
              "    <tr>\n",
              "      <th>...</th>\n",
              "      <td>...</td>\n",
              "      <td>...</td>\n",
              "    </tr>\n",
              "    <tr>\n",
              "      <th>17185</th>\n",
              "      <td>/content/drive/MyDrive/Cs412Projectdata/train_...</td>\n",
              "      <td>space</td>\n",
              "    </tr>\n",
              "    <tr>\n",
              "      <th>17760</th>\n",
              "      <td>/content/drive/MyDrive/Cs412Projectdata/train_...</td>\n",
              "      <td>space</td>\n",
              "    </tr>\n",
              "    <tr>\n",
              "      <th>17749</th>\n",
              "      <td>/content/drive/MyDrive/Cs412Projectdata/train_...</td>\n",
              "      <td>space</td>\n",
              "    </tr>\n",
              "    <tr>\n",
              "      <th>17125</th>\n",
              "      <td>/content/drive/MyDrive/Cs412Projectdata/train_...</td>\n",
              "      <td>space</td>\n",
              "    </tr>\n",
              "    <tr>\n",
              "      <th>17892</th>\n",
              "      <td>/content/drive/MyDrive/Cs412Projectdata/train_...</td>\n",
              "      <td>space</td>\n",
              "    </tr>\n",
              "  </tbody>\n",
              "</table>\n",
              "<p>2900 rows × 2 columns</p>\n",
              "</div>"
            ],
            "text/plain": [
              "                                                  Images Image_label\n",
              "4481   /content/drive/MyDrive/Cs412Projectdata/train_...           A\n",
              "4488   /content/drive/MyDrive/Cs412Projectdata/train_...           A\n",
              "4139   /content/drive/MyDrive/Cs412Projectdata/train_...           A\n",
              "4172   /content/drive/MyDrive/Cs412Projectdata/train_...           A\n",
              "4671   /content/drive/MyDrive/Cs412Projectdata/train_...           A\n",
              "...                                                  ...         ...\n",
              "17185  /content/drive/MyDrive/Cs412Projectdata/train_...       space\n",
              "17760  /content/drive/MyDrive/Cs412Projectdata/train_...       space\n",
              "17749  /content/drive/MyDrive/Cs412Projectdata/train_...       space\n",
              "17125  /content/drive/MyDrive/Cs412Projectdata/train_...       space\n",
              "17892  /content/drive/MyDrive/Cs412Projectdata/train_...       space\n",
              "\n",
              "[2900 rows x 2 columns]"
            ]
          },
          "metadata": {
            "tags": []
          },
          "execution_count": 13
        }
      ]
    },
    {
      "cell_type": "markdown",
      "metadata": {
        "id": "l_sf0FXhXaGT"
      },
      "source": [
        "##TEST DATA"
      ]
    },
    {
      "cell_type": "code",
      "metadata": {
        "id": "092F1zA7JP1R"
      },
      "source": [
        "\n",
        "test_dir = Path(\"/content/drive/MyDrive/Cs412Projectdata/test_data/\")\n"
      ],
      "execution_count": null,
      "outputs": []
    },
    {
      "cell_type": "code",
      "metadata": {
        "colab": {
          "base_uri": "https://localhost:8080/"
        },
        "id": "0ce2-0ThXGn7",
        "outputId": "b96f5792-37ea-4cfe-bbfd-270eaa55cf7c"
      },
      "source": [
        "test_dir.glob(r'**/*.jpg')"
      ],
      "execution_count": null,
      "outputs": [
        {
          "output_type": "execute_result",
          "data": {
            "text/plain": [
              "<generator object Path.glob at 0x7ff610ebbe50>"
            ]
          },
          "metadata": {
            "tags": []
          },
          "execution_count": 14
        }
      ]
    },
    {
      "cell_type": "code",
      "metadata": {
        "id": "J5MX674490eL"
      },
      "source": [
        "filepath_Test = list(test_dir.glob(r'**/*.jpg'))"
      ],
      "execution_count": null,
      "outputs": []
    },
    {
      "cell_type": "code",
      "metadata": {
        "id": "pHViqK267Z-b"
      },
      "source": [
        "classes_test = list(map(lambda x: os.path.split(os.path.split(x)[0])[1],filepath_Test))"
      ],
      "execution_count": null,
      "outputs": []
    },
    {
      "cell_type": "code",
      "metadata": {
        "id": "_FVsDShu7Zfy"
      },
      "source": [
        "df_test = pd.concat([pd.Series(filepath_Test).astype(str), pd.Series(classes_test)], axis=1)\n",
        "df_test.columns = ['Images', 'Image_label']"
      ],
      "execution_count": null,
      "outputs": []
    },
    {
      "cell_type": "code",
      "metadata": {
        "colab": {
          "base_uri": "https://localhost:8080/"
        },
        "id": "VPsr-aXfYaQy",
        "outputId": "5dd3f11b-6185-486f-bd53-993c5fdcd82a"
      },
      "source": [
        "df_test.shape"
      ],
      "execution_count": null,
      "outputs": [
        {
          "output_type": "execute_result",
          "data": {
            "text/plain": [
              "(7250, 2)"
            ]
          },
          "metadata": {
            "tags": []
          },
          "execution_count": 18
        }
      ]
    },
    {
      "cell_type": "code",
      "metadata": {
        "id": "8PYKs3IUAG4Q"
      },
      "source": [
        "# sample_size_test = 50\n",
        "# df_test = df_test.head(100)\n",
        "# df_test"
      ],
      "execution_count": null,
      "outputs": []
    },
    {
      "cell_type": "markdown",
      "metadata": {
        "id": "rbGG-0z4IzTZ"
      },
      "source": [
        "#Splitting data and Image process"
      ]
    },
    {
      "cell_type": "markdown",
      "metadata": {
        "id": "PyZmDZv6Xh8Q"
      },
      "source": [
        "##TRAIN DATA"
      ]
    },
    {
      "cell_type": "code",
      "metadata": {
        "colab": {
          "base_uri": "https://localhost:8080/"
        },
        "id": "kvDKgrClE4b0",
        "outputId": "56db5047-3bb1-42f8-c160-7af273d2c212"
      },
      "source": [
        "train_new, valid = train_test_split(df, test_size = 0.2, random_state = 42)\n",
        "print(f\"train set shape: {train_new.shape}\")\n",
        "\n",
        "print(f\"validation set shape: {valid.shape}\")"
      ],
      "execution_count": null,
      "outputs": [
        {
          "output_type": "stream",
          "text": [
            "train set shape: (2320, 2)\n",
            "validation set shape: (580, 2)\n"
          ],
          "name": "stdout"
        }
      ]
    },
    {
      "cell_type": "code",
      "metadata": {
        "id": "OKfAgH9a_9JZ"
      },
      "source": [
        "train_datagen = ImageDataGenerator(rescale = 1.0/255.)\n"
      ],
      "execution_count": null,
      "outputs": []
    },
    {
      "cell_type": "code",
      "metadata": {
        "colab": {
          "base_uri": "https://localhost:8080/"
        },
        "id": "X-7agdUM_-e6",
        "outputId": "e5064afb-4f19-4a8e-f33e-7f83917ac9f3"
      },
      "source": [
        "train_gen = train_datagen.flow_from_dataframe(dataframe = train_new,\n",
        "                                              x_col = 'Images', y_col ='Image_label',\n",
        "                                              target_size = (200,200), batch_size = 16, \n",
        "                                              class_mode = 'categorical', shuffle = True,featurewise_center=True)\n",
        "val_gen = train_datagen.flow_from_dataframe(valid, \n",
        "                                            target_size=(200,200), x_col = 'Images', y_col ='Image_label', \n",
        "                                            class_mode='categorical',\n",
        "                                            batch_size= 16, shuffle=False ,featurewise_center=True )\n"
      ],
      "execution_count": null,
      "outputs": [
        {
          "output_type": "stream",
          "text": [
            "Found 2320 validated image filenames belonging to 29 classes.\n",
            "Found 580 validated image filenames belonging to 29 classes.\n"
          ],
          "name": "stdout"
        }
      ]
    },
    {
      "cell_type": "code",
      "metadata": {
        "colab": {
          "base_uri": "https://localhost:8080/"
        },
        "id": "OVqMp2wcYULN",
        "outputId": "7d75f8d6-791d-4d1d-9e3b-38cd056bedde"
      },
      "source": [
        "train_gen.image_shape"
      ],
      "execution_count": null,
      "outputs": [
        {
          "output_type": "execute_result",
          "data": {
            "text/plain": [
              "(200, 200, 3)"
            ]
          },
          "metadata": {
            "tags": []
          },
          "execution_count": 17
        }
      ]
    },
    {
      "cell_type": "markdown",
      "metadata": {
        "id": "xJ8cAOX8Xs9h"
      },
      "source": [
        "##TEST DATA"
      ]
    },
    {
      "cell_type": "code",
      "metadata": {
        "id": "GxStJx0HXof7"
      },
      "source": [
        "test_datagen = ImageDataGenerator(rescale = 1.0/255.)"
      ],
      "execution_count": null,
      "outputs": []
    },
    {
      "cell_type": "code",
      "metadata": {
        "id": "_DhYJDXe-F57"
      },
      "source": [
        "test_gen = test_datagen.flow_from_dataframe(df_test,\n",
        "                                           target_size = (200,200), x_col = 'Images', y_col ='Image_label',\n",
        "                                            class_mode = 'categorical',\n",
        "                                           batch_size = 16, shuffle = False,featurewise_center = True)"
      ],
      "execution_count": null,
      "outputs": []
    },
    {
      "cell_type": "code",
      "metadata": {
        "id": "wCsLdUlZCMAv"
      },
      "source": [
        "import tensorflow as tf\n",
        "tf.test.gpu_device_name()"
      ],
      "execution_count": null,
      "outputs": []
    },
    {
      "cell_type": "markdown",
      "metadata": {
        "id": "CE04F53kV1uN"
      },
      "source": [
        "#Creating model and tuning"
      ]
    },
    {
      "cell_type": "markdown",
      "metadata": {
        "id": "1QuA5_Q1EKYR"
      },
      "source": [
        "##Base Model"
      ]
    },
    {
      "cell_type": "code",
      "metadata": {
        "id": "KoryGrNBbeOa"
      },
      "source": [
        "base_model = tf.keras.applications.ResNet50V2(weights='imagenet', input_shape = (200,200,3),\n",
        "                                                     include_top=False)\n",
        "\n",
        "for layer in base_model.layers:\n",
        "    layer.trainable = False\n",
        "    \n",
        "base_model.summary()     #transfer learning"
      ],
      "execution_count": null,
      "outputs": []
    },
    {
      "cell_type": "markdown",
      "metadata": {
        "id": "OItNBlpevqN8"
      },
      "source": [
        "## Model With Random Parametre"
      ]
    },
    {
      "cell_type": "code",
      "metadata": {
        "id": "O7Wihp5eh9NG"
      },
      "source": [
        "model = Sequential()\n",
        "model.add(base_model)\n",
        "model.add(GlobalAveragePooling2D())\n",
        "model.add(Dense(256,activation=\"relu\"))\n",
        "model.add(Dense(128,activation=\"relu\"))\n",
        "model.add(Dense(29,activation=\"softmax\"))"
      ],
      "execution_count": null,
      "outputs": []
    },
    {
      "cell_type": "code",
      "metadata": {
        "id": "KRAI160h4Yq5"
      },
      "source": [
        "base_model.summary()"
      ],
      "execution_count": null,
      "outputs": []
    },
    {
      "cell_type": "code",
      "metadata": {
        "id": "otz2yQGXiLyB",
        "colab": {
          "base_uri": "https://localhost:8080/"
        },
        "outputId": "8c3e004e-4540-4d95-e1c1-925acd8dbd48"
      },
      "source": [
        "callbacks = tf.keras.callbacks.EarlyStopping(monitor='val_loss', patience=5)\n",
        "model.compile(loss='categorical_crossentropy', optimizer=Adam(lr=0.001), metrics=['accuracy'])"
      ],
      "execution_count": null,
      "outputs": [
        {
          "output_type": "stream",
          "text": [
            "/usr/local/lib/python3.7/dist-packages/tensorflow/python/keras/optimizer_v2/optimizer_v2.py:375: UserWarning: The `lr` argument is deprecated, use `learning_rate` instead.\n",
            "  \"The `lr` argument is deprecated, use `learning_rate` instead.\")\n"
          ],
          "name": "stderr"
        }
      ]
    },
    {
      "cell_type": "code",
      "metadata": {
        "id": "AQSA-3rGikJv",
        "colab": {
          "base_uri": "https://localhost:8080/"
        },
        "outputId": "50b66acc-e17b-4ad2-d4e7-83bc82257aff"
      },
      "source": [
        "history = model.fit(train_gen, validation_data = val_gen, epochs = 5000, \n",
        "                    callbacks = [callbacks], verbose = 1)\n",
        "\n",
        "#loss: 0.0015 - accuracy: 1.0000 - val_loss: 0.1857 - val_accuracy: 0.9552"
      ],
      "execution_count": null,
      "outputs": [
        {
          "output_type": "stream",
          "text": [
            "Epoch 1/5000\n",
            "145/145 [==============================] - 1305s 9s/step - loss: 2.4476 - accuracy: 0.3458 - val_loss: 0.7682 - val_accuracy: 0.7759\n",
            "Epoch 2/5000\n",
            "145/145 [==============================] - 20s 136ms/step - loss: 0.5440 - accuracy: 0.8487 - val_loss: 0.4422 - val_accuracy: 0.8776\n",
            "Epoch 3/5000\n",
            "145/145 [==============================] - 20s 135ms/step - loss: 0.2499 - accuracy: 0.9270 - val_loss: 0.3749 - val_accuracy: 0.8759\n",
            "Epoch 4/5000\n",
            "145/145 [==============================] - 20s 136ms/step - loss: 0.1605 - accuracy: 0.9508 - val_loss: 0.2838 - val_accuracy: 0.9069\n",
            "Epoch 5/5000\n",
            "145/145 [==============================] - 20s 136ms/step - loss: 0.0730 - accuracy: 0.9861 - val_loss: 0.2933 - val_accuracy: 0.9138\n",
            "Epoch 6/5000\n",
            "145/145 [==============================] - 20s 135ms/step - loss: 0.0645 - accuracy: 0.9868 - val_loss: 0.3392 - val_accuracy: 0.8931\n",
            "Epoch 7/5000\n",
            "145/145 [==============================] - 20s 136ms/step - loss: 0.0394 - accuracy: 0.9954 - val_loss: 0.2117 - val_accuracy: 0.9362\n",
            "Epoch 8/5000\n",
            "145/145 [==============================] - 20s 135ms/step - loss: 0.0123 - accuracy: 0.9985 - val_loss: 0.2051 - val_accuracy: 0.9328\n",
            "Epoch 9/5000\n",
            "145/145 [==============================] - 20s 136ms/step - loss: 0.0052 - accuracy: 1.0000 - val_loss: 0.1904 - val_accuracy: 0.9483\n",
            "Epoch 10/5000\n",
            "145/145 [==============================] - 20s 135ms/step - loss: 0.0046 - accuracy: 1.0000 - val_loss: 0.1856 - val_accuracy: 0.9534\n",
            "Epoch 11/5000\n",
            "145/145 [==============================] - 20s 136ms/step - loss: 0.0031 - accuracy: 1.0000 - val_loss: 0.1945 - val_accuracy: 0.9466\n",
            "Epoch 12/5000\n",
            "145/145 [==============================] - 19s 134ms/step - loss: 0.0022 - accuracy: 1.0000 - val_loss: 0.1975 - val_accuracy: 0.9500\n",
            "Epoch 13/5000\n",
            "145/145 [==============================] - 20s 137ms/step - loss: 0.0021 - accuracy: 1.0000 - val_loss: 0.1902 - val_accuracy: 0.9466\n",
            "Epoch 14/5000\n",
            "145/145 [==============================] - 20s 135ms/step - loss: 0.0015 - accuracy: 1.0000 - val_loss: 0.1857 - val_accuracy: 0.9552\n",
            "Epoch 15/5000\n",
            "145/145 [==============================] - 20s 135ms/step - loss: 0.0015 - accuracy: 1.0000 - val_loss: 0.1858 - val_accuracy: 0.9517\n"
          ],
          "name": "stdout"
        }
      ]
    },
    {
      "cell_type": "markdown",
      "metadata": {
        "id": "j7N55BHh5vWH"
      },
      "source": [
        "## Optimization of Learning Rate"
      ]
    },
    {
      "cell_type": "code",
      "metadata": {
        "id": "5RLHKtUJfVoO",
        "colab": {
          "base_uri": "https://localhost:8080/"
        },
        "outputId": "b4eb7fbb-db57-4bcc-af5e-4e803b68bf89"
      },
      "source": [
        "model_onelayer_lr = Sequential()\n",
        "model_onelayer_lr.add(base_model)\n",
        "model_onelayer_lr.add(GlobalAveragePooling2D())\n",
        "model_onelayer_lr.add(Dense(256,activation=\"relu\"))\n",
        "model_onelayer_lr.add(Dense(29,activation=\"softmax\"))\n",
        "\n",
        "callbacks = tf.keras.callbacks.EarlyStopping(monitor='val_loss', patience=5)\n",
        "\n",
        "model_onelayer_lr.compile(loss='categorical_crossentropy', optimizer=Adam(lr=0.1), metrics=['accuracy'])\n",
        "history_onelayer_lr = model_onelayer_lr.fit(train_gen, validation_data = val_gen, epochs = 5000, \n",
        "                    callbacks = [callbacks], verbose = 1)\n",
        "\n",
        "#loss: 39.3147 - accuracy: 0.0407 - val_loss: 3.3921 - val_accuracy: 0.0448"
      ],
      "execution_count": null,
      "outputs": [
        {
          "output_type": "stream",
          "text": [
            "/usr/local/lib/python3.7/dist-packages/tensorflow/python/keras/optimizer_v2/optimizer_v2.py:375: UserWarning: The `lr` argument is deprecated, use `learning_rate` instead.\n",
            "  \"The `lr` argument is deprecated, use `learning_rate` instead.\")\n"
          ],
          "name": "stderr"
        },
        {
          "output_type": "stream",
          "text": [
            "Epoch 1/5000\n",
            "145/145 [==============================] - 26s 144ms/step - loss: 39.3147 - accuracy: 0.0407 - val_loss: 3.3921 - val_accuracy: 0.0448\n",
            "Epoch 2/5000\n",
            "145/145 [==============================] - 19s 134ms/step - loss: 3.4077 - accuracy: 0.0372 - val_loss: 3.3983 - val_accuracy: 0.0293\n",
            "Epoch 3/5000\n",
            "145/145 [==============================] - 20s 136ms/step - loss: 3.5118 - accuracy: 0.0425 - val_loss: 3.3922 - val_accuracy: 0.0276\n",
            "Epoch 4/5000\n",
            "145/145 [==============================] - 20s 134ms/step - loss: 3.4003 - accuracy: 0.0271 - val_loss: 3.4280 - val_accuracy: 0.0345\n",
            "Epoch 5/5000\n",
            "145/145 [==============================] - 19s 133ms/step - loss: 3.4125 - accuracy: 0.0333 - val_loss: 3.4203 - val_accuracy: 0.0293\n",
            "Epoch 6/5000\n",
            "145/145 [==============================] - 19s 134ms/step - loss: 3.3983 - accuracy: 0.0341 - val_loss: 3.3884 - val_accuracy: 0.0310\n",
            "Epoch 7/5000\n",
            "145/145 [==============================] - 19s 134ms/step - loss: 3.3927 - accuracy: 0.0337 - val_loss: 3.3986 - val_accuracy: 0.0414\n",
            "Epoch 8/5000\n",
            "145/145 [==============================] - 19s 133ms/step - loss: 3.4044 - accuracy: 0.0333 - val_loss: 3.3968 - val_accuracy: 0.0379\n",
            "Epoch 9/5000\n",
            "145/145 [==============================] - 19s 133ms/step - loss: 3.4015 - accuracy: 0.0283 - val_loss: 3.4036 - val_accuracy: 0.0276\n",
            "Epoch 10/5000\n",
            "145/145 [==============================] - 20s 135ms/step - loss: 3.3981 - accuracy: 0.0260 - val_loss: 3.3977 - val_accuracy: 0.0276\n",
            "Epoch 11/5000\n",
            "145/145 [==============================] - 19s 133ms/step - loss: 3.4077 - accuracy: 0.0257 - val_loss: 3.4147 - val_accuracy: 0.0379\n"
          ],
          "name": "stdout"
        }
      ]
    },
    {
      "cell_type": "code",
      "metadata": {
        "id": "rz2jUXCGfW_g",
        "colab": {
          "base_uri": "https://localhost:8080/"
        },
        "outputId": "7d8de915-a176-4703-9703-c1847d60fc7d"
      },
      "source": [
        "model_onelayer_lr2 = Sequential()\n",
        "model_onelayer_lr2.add(base_model)\n",
        "model_onelayer_lr2.add(GlobalAveragePooling2D())\n",
        "model_onelayer_lr2.add(Dense(256,activation=\"relu\"))\n",
        "model_onelayer_lr2.add(Dense(29,activation=\"softmax\"))\n",
        "\n",
        "callbacks = tf.keras.callbacks.EarlyStopping(monitor='val_loss', patience=5)\n",
        "\n",
        "model_onelayer_lr2.compile(loss='categorical_crossentropy', optimizer=Adam(lr=0.01), metrics=['accuracy'])\n",
        "history_onelayer_lr2 = model_onelayer_lr2.fit(train_gen, validation_data = val_gen, epochs = 5000, \n",
        "                    callbacks = [callbacks], verbose = 1)\n",
        "\n",
        "#loss: 0.3304 - accuracy: 0.9045 - val_loss: 0.5880 - val_accuracy: 0.8586"
      ],
      "execution_count": null,
      "outputs": [
        {
          "output_type": "stream",
          "text": [
            "/usr/local/lib/python3.7/dist-packages/tensorflow/python/keras/optimizer_v2/optimizer_v2.py:375: UserWarning: The `lr` argument is deprecated, use `learning_rate` instead.\n",
            "  \"The `lr` argument is deprecated, use `learning_rate` instead.\")\n"
          ],
          "name": "stderr"
        },
        {
          "output_type": "stream",
          "text": [
            "Epoch 1/5000\n",
            "145/145 [==============================] - 25s 143ms/step - loss: 4.2189 - accuracy: 0.3287 - val_loss: 1.1331 - val_accuracy: 0.6586\n",
            "Epoch 2/5000\n",
            "145/145 [==============================] - 19s 133ms/step - loss: 0.6991 - accuracy: 0.7652 - val_loss: 0.8570 - val_accuracy: 0.7379\n",
            "Epoch 3/5000\n",
            "145/145 [==============================] - 19s 133ms/step - loss: 0.4757 - accuracy: 0.8313 - val_loss: 0.5916 - val_accuracy: 0.8276\n",
            "Epoch 4/5000\n",
            "145/145 [==============================] - 19s 134ms/step - loss: 0.2733 - accuracy: 0.9111 - val_loss: 0.4780 - val_accuracy: 0.8552\n",
            "Epoch 5/5000\n",
            "145/145 [==============================] - 19s 133ms/step - loss: 0.2218 - accuracy: 0.9195 - val_loss: 0.5528 - val_accuracy: 0.8241\n",
            "Epoch 6/5000\n",
            "145/145 [==============================] - 20s 135ms/step - loss: 0.2424 - accuracy: 0.9263 - val_loss: 0.8465 - val_accuracy: 0.8017\n",
            "Epoch 7/5000\n",
            "145/145 [==============================] - 20s 135ms/step - loss: 0.3304 - accuracy: 0.9045 - val_loss: 0.5880 - val_accuracy: 0.8586\n",
            "Epoch 8/5000\n",
            "145/145 [==============================] - 19s 134ms/step - loss: 0.3016 - accuracy: 0.9256 - val_loss: 0.9349 - val_accuracy: 0.8086\n",
            "Epoch 9/5000\n",
            "145/145 [==============================] - 20s 135ms/step - loss: 0.3335 - accuracy: 0.9154 - val_loss: 0.7324 - val_accuracy: 0.8448\n"
          ],
          "name": "stdout"
        }
      ]
    },
    {
      "cell_type": "code",
      "metadata": {
        "id": "qWihF8JRfkdj",
        "colab": {
          "base_uri": "https://localhost:8080/"
        },
        "outputId": "918796ea-7db9-4f5d-d5d7-e4afe3a6c410"
      },
      "source": [
        "model_onelayer_lr = Sequential()\n",
        "model_onelayer_lr.add(base_model)\n",
        "model_onelayer_lr.add(GlobalAveragePooling2D())\n",
        "model_onelayer_lr.add(Dense(256,activation=\"relu\"))\n",
        "model_onelayer_lr.add(Dense(29,activation=\"softmax\"))\n",
        "\n",
        "callbacks = tf.keras.callbacks.EarlyStopping(monitor='val_loss', patience=5)\n",
        "\n",
        "model_onelayer_lr.compile(loss='categorical_crossentropy', optimizer=Adam(lr=0.001), metrics=['accuracy'])\n",
        "history_onelayer_lr = model_onelayer_lr.fit(train_gen, validation_data = val_gen, epochs = 5000, \n",
        "                    callbacks = [callbacks], verbose = 1)\n",
        "\n",
        "#loss: 4.6215e-04 - accuracy: 1.0000 - val_loss: 0.1689 - val_accuracy: 0.9603"
      ],
      "execution_count": null,
      "outputs": [
        {
          "output_type": "stream",
          "text": [
            "/usr/local/lib/python3.7/dist-packages/tensorflow/python/keras/optimizer_v2/optimizer_v2.py:375: UserWarning: The `lr` argument is deprecated, use `learning_rate` instead.\n",
            "  \"The `lr` argument is deprecated, use `learning_rate` instead.\")\n"
          ],
          "name": "stderr"
        },
        {
          "output_type": "stream",
          "text": [
            "Epoch 1/5000\n",
            "145/145 [==============================] - 25s 142ms/step - loss: 2.2387 - accuracy: 0.4107 - val_loss: 0.6908 - val_accuracy: 0.8155\n",
            "Epoch 2/5000\n",
            "145/145 [==============================] - 19s 134ms/step - loss: 0.4095 - accuracy: 0.8962 - val_loss: 0.3810 - val_accuracy: 0.8914\n",
            "Epoch 3/5000\n",
            "145/145 [==============================] - 19s 133ms/step - loss: 0.2069 - accuracy: 0.9528 - val_loss: 0.3633 - val_accuracy: 0.8931\n",
            "Epoch 4/5000\n",
            "145/145 [==============================] - 19s 134ms/step - loss: 0.1185 - accuracy: 0.9782 - val_loss: 0.4395 - val_accuracy: 0.8776\n",
            "Epoch 5/5000\n",
            "145/145 [==============================] - 19s 134ms/step - loss: 0.0782 - accuracy: 0.9860 - val_loss: 0.2847 - val_accuracy: 0.9259\n",
            "Epoch 6/5000\n",
            "145/145 [==============================] - 19s 134ms/step - loss: 0.0431 - accuracy: 0.9975 - val_loss: 0.2215 - val_accuracy: 0.9379\n",
            "Epoch 7/5000\n",
            "145/145 [==============================] - 19s 134ms/step - loss: 0.0204 - accuracy: 1.0000 - val_loss: 0.1944 - val_accuracy: 0.9483\n",
            "Epoch 8/5000\n",
            "145/145 [==============================] - 19s 133ms/step - loss: 0.0142 - accuracy: 1.0000 - val_loss: 0.1936 - val_accuracy: 0.9586\n",
            "Epoch 9/5000\n",
            "145/145 [==============================] - 19s 133ms/step - loss: 0.0132 - accuracy: 0.9998 - val_loss: 0.1918 - val_accuracy: 0.9517\n",
            "Epoch 10/5000\n",
            "145/145 [==============================] - 19s 134ms/step - loss: 0.0104 - accuracy: 0.9998 - val_loss: 0.1895 - val_accuracy: 0.9569\n",
            "Epoch 11/5000\n",
            "145/145 [==============================] - 19s 133ms/step - loss: 0.0195 - accuracy: 0.9965 - val_loss: 0.1873 - val_accuracy: 0.9534\n",
            "Epoch 12/5000\n",
            "145/145 [==============================] - 19s 133ms/step - loss: 0.0056 - accuracy: 1.0000 - val_loss: 0.1760 - val_accuracy: 0.9534\n",
            "Epoch 13/5000\n",
            "145/145 [==============================] - 19s 134ms/step - loss: 0.0043 - accuracy: 1.0000 - val_loss: 0.1707 - val_accuracy: 0.9569\n",
            "Epoch 14/5000\n",
            "145/145 [==============================] - 19s 134ms/step - loss: 0.0036 - accuracy: 1.0000 - val_loss: 0.1742 - val_accuracy: 0.9569\n",
            "Epoch 15/5000\n",
            "145/145 [==============================] - 19s 134ms/step - loss: 0.0031 - accuracy: 1.0000 - val_loss: 0.1710 - val_accuracy: 0.9569\n",
            "Epoch 16/5000\n",
            "145/145 [==============================] - 19s 134ms/step - loss: 0.0027 - accuracy: 1.0000 - val_loss: 0.1713 - val_accuracy: 0.9569\n",
            "Epoch 17/5000\n",
            "145/145 [==============================] - 19s 134ms/step - loss: 0.0023 - accuracy: 1.0000 - val_loss: 0.1723 - val_accuracy: 0.9552\n",
            "Epoch 18/5000\n",
            "145/145 [==============================] - 19s 133ms/step - loss: 0.0022 - accuracy: 1.0000 - val_loss: 0.1678 - val_accuracy: 0.9534\n",
            "Epoch 19/5000\n",
            "145/145 [==============================] - 19s 133ms/step - loss: 0.0017 - accuracy: 1.0000 - val_loss: 0.1713 - val_accuracy: 0.9552\n",
            "Epoch 20/5000\n",
            "145/145 [==============================] - 19s 134ms/step - loss: 0.0018 - accuracy: 1.0000 - val_loss: 0.1707 - val_accuracy: 0.9569\n",
            "Epoch 21/5000\n",
            "145/145 [==============================] - 19s 133ms/step - loss: 0.0015 - accuracy: 1.0000 - val_loss: 0.1722 - val_accuracy: 0.9500\n",
            "Epoch 22/5000\n",
            "145/145 [==============================] - 19s 133ms/step - loss: 0.0013 - accuracy: 1.0000 - val_loss: 0.1673 - val_accuracy: 0.9552\n",
            "Epoch 23/5000\n",
            "145/145 [==============================] - 19s 133ms/step - loss: 0.0011 - accuracy: 1.0000 - val_loss: 0.1734 - val_accuracy: 0.9569\n",
            "Epoch 24/5000\n",
            "145/145 [==============================] - 19s 133ms/step - loss: 0.0011 - accuracy: 1.0000 - val_loss: 0.1654 - val_accuracy: 0.9552\n",
            "Epoch 25/5000\n",
            "145/145 [==============================] - 19s 133ms/step - loss: 9.9815e-04 - accuracy: 1.0000 - val_loss: 0.1718 - val_accuracy: 0.9552\n",
            "Epoch 26/5000\n",
            "145/145 [==============================] - 19s 133ms/step - loss: 8.2099e-04 - accuracy: 1.0000 - val_loss: 0.1680 - val_accuracy: 0.9603\n",
            "Epoch 27/5000\n",
            "145/145 [==============================] - 19s 133ms/step - loss: 7.5298e-04 - accuracy: 1.0000 - val_loss: 0.1703 - val_accuracy: 0.9552\n",
            "Epoch 28/5000\n",
            "145/145 [==============================] - 19s 134ms/step - loss: 6.7990e-04 - accuracy: 1.0000 - val_loss: 0.1695 - val_accuracy: 0.9500\n",
            "Epoch 29/5000\n",
            "145/145 [==============================] - 19s 134ms/step - loss: 6.2556e-04 - accuracy: 1.0000 - val_loss: 0.1648 - val_accuracy: 0.9569\n",
            "Epoch 30/5000\n",
            "145/145 [==============================] - 19s 133ms/step - loss: 5.7800e-04 - accuracy: 1.0000 - val_loss: 0.1720 - val_accuracy: 0.9552\n",
            "Epoch 31/5000\n",
            "145/145 [==============================] - 19s 133ms/step - loss: 5.4280e-04 - accuracy: 1.0000 - val_loss: 0.1688 - val_accuracy: 0.9552\n",
            "Epoch 32/5000\n",
            "145/145 [==============================] - 19s 133ms/step - loss: 4.6215e-04 - accuracy: 1.0000 - val_loss: 0.1689 - val_accuracy: 0.9603\n",
            "Epoch 33/5000\n",
            "145/145 [==============================] - 19s 133ms/step - loss: 4.2666e-04 - accuracy: 1.0000 - val_loss: 0.1680 - val_accuracy: 0.9569\n",
            "Epoch 34/5000\n",
            "145/145 [==============================] - 19s 133ms/step - loss: 4.0429e-04 - accuracy: 1.0000 - val_loss: 0.1692 - val_accuracy: 0.9517\n"
          ],
          "name": "stdout"
        }
      ]
    },
    {
      "cell_type": "markdown",
      "metadata": {
        "id": "rvpGSKMuwYr5"
      },
      "source": [
        "## Optimization of Layers. "
      ]
    },
    {
      "cell_type": "markdown",
      "metadata": {
        "id": "mEPV896TL2bp"
      },
      "source": [
        "###With Zero Hidden Layer"
      ]
    },
    {
      "cell_type": "code",
      "metadata": {
        "id": "HrXbOf-jL_CX",
        "colab": {
          "base_uri": "https://localhost:8080/"
        },
        "outputId": "fc1c7e99-bc52-47fa-ed6b-13b2372c4cf7"
      },
      "source": [
        "model_Zerolayer = Sequential()\n",
        "model_Zerolayer.add(base_model)\n",
        "model_Zerolayer.add(GlobalAveragePooling2D())\n",
        "model_Zerolayer.add(Dense(29,activation=\"softmax\"))\n",
        "\n",
        "\n",
        "callbacks = tf.keras.callbacks.EarlyStopping(monitor='val_loss', patience=5 , restore_best_weights=True)\n",
        "model_Zerolayer.compile(loss='categorical_crossentropy', optimizer=Adam(lr=0.001), metrics=['accuracy'])\n",
        "\n",
        "history_Zerolayer = model_Zerolayer.fit(train_gen, validation_data = val_gen, epochs = 5000, \n",
        "                    callbacks = [callbacks], verbose = 1)\n",
        "#loss: 0.0024 - accuracy: 1.0000 - val_loss: 0.1609 - val_accuracy: 0.9569"
      ],
      "execution_count": null,
      "outputs": [
        {
          "output_type": "stream",
          "text": [
            "/usr/local/lib/python3.7/dist-packages/tensorflow/python/keras/optimizer_v2/optimizer_v2.py:375: UserWarning: The `lr` argument is deprecated, use `learning_rate` instead.\n",
            "  \"The `lr` argument is deprecated, use `learning_rate` instead.\")\n"
          ],
          "name": "stderr"
        },
        {
          "output_type": "stream",
          "text": [
            "Epoch 1/5000\n",
            "145/145 [==============================] - 25s 144ms/step - loss: 2.5014 - accuracy: 0.3428 - val_loss: 0.9498 - val_accuracy: 0.7724\n",
            "Epoch 2/5000\n",
            "145/145 [==============================] - 20s 134ms/step - loss: 0.7098 - accuracy: 0.8667 - val_loss: 0.6338 - val_accuracy: 0.8741\n",
            "Epoch 3/5000\n",
            "145/145 [==============================] - 20s 135ms/step - loss: 0.3984 - accuracy: 0.9262 - val_loss: 0.4629 - val_accuracy: 0.9052\n",
            "Epoch 4/5000\n",
            "145/145 [==============================] - 20s 136ms/step - loss: 0.2753 - accuracy: 0.9637 - val_loss: 0.3973 - val_accuracy: 0.9155\n",
            "Epoch 5/5000\n",
            "145/145 [==============================] - 20s 136ms/step - loss: 0.1835 - accuracy: 0.9880 - val_loss: 0.3648 - val_accuracy: 0.9138\n",
            "Epoch 6/5000\n",
            "145/145 [==============================] - 19s 134ms/step - loss: 0.1491 - accuracy: 0.9907 - val_loss: 0.3035 - val_accuracy: 0.9362\n",
            "Epoch 7/5000\n",
            "145/145 [==============================] - 20s 135ms/step - loss: 0.1133 - accuracy: 0.9967 - val_loss: 0.2792 - val_accuracy: 0.9379\n",
            "Epoch 8/5000\n",
            "145/145 [==============================] - 20s 136ms/step - loss: 0.0865 - accuracy: 0.9978 - val_loss: 0.2679 - val_accuracy: 0.9379\n",
            "Epoch 9/5000\n",
            "145/145 [==============================] - 20s 135ms/step - loss: 0.0756 - accuracy: 0.9992 - val_loss: 0.2450 - val_accuracy: 0.9379\n",
            "Epoch 10/5000\n",
            "145/145 [==============================] - 19s 134ms/step - loss: 0.0687 - accuracy: 1.0000 - val_loss: 0.2346 - val_accuracy: 0.9483\n",
            "Epoch 11/5000\n",
            "145/145 [==============================] - 20s 135ms/step - loss: 0.0490 - accuracy: 1.0000 - val_loss: 0.2182 - val_accuracy: 0.9517\n",
            "Epoch 12/5000\n",
            "145/145 [==============================] - 20s 136ms/step - loss: 0.0405 - accuracy: 1.0000 - val_loss: 0.2245 - val_accuracy: 0.9500\n",
            "Epoch 13/5000\n",
            "145/145 [==============================] - 20s 136ms/step - loss: 0.0381 - accuracy: 1.0000 - val_loss: 0.2082 - val_accuracy: 0.9448\n",
            "Epoch 14/5000\n",
            "145/145 [==============================] - 20s 135ms/step - loss: 0.0356 - accuracy: 1.0000 - val_loss: 0.2027 - val_accuracy: 0.9466\n",
            "Epoch 15/5000\n",
            "145/145 [==============================] - 20s 136ms/step - loss: 0.0285 - accuracy: 1.0000 - val_loss: 0.1996 - val_accuracy: 0.9534\n",
            "Epoch 16/5000\n",
            "145/145 [==============================] - 20s 136ms/step - loss: 0.0262 - accuracy: 1.0000 - val_loss: 0.1958 - val_accuracy: 0.9517\n",
            "Epoch 17/5000\n",
            "145/145 [==============================] - 20s 135ms/step - loss: 0.0234 - accuracy: 1.0000 - val_loss: 0.1860 - val_accuracy: 0.9517\n",
            "Epoch 18/5000\n",
            "145/145 [==============================] - 20s 135ms/step - loss: 0.0190 - accuracy: 1.0000 - val_loss: 0.1944 - val_accuracy: 0.9466\n",
            "Epoch 19/5000\n",
            "145/145 [==============================] - 20s 135ms/step - loss: 0.0184 - accuracy: 1.0000 - val_loss: 0.1827 - val_accuracy: 0.9534\n",
            "Epoch 20/5000\n",
            "145/145 [==============================] - 20s 135ms/step - loss: 0.0160 - accuracy: 1.0000 - val_loss: 0.1869 - val_accuracy: 0.9483\n",
            "Epoch 21/5000\n",
            "145/145 [==============================] - 20s 136ms/step - loss: 0.0145 - accuracy: 1.0000 - val_loss: 0.1814 - val_accuracy: 0.9500\n",
            "Epoch 22/5000\n",
            "145/145 [==============================] - 20s 135ms/step - loss: 0.0127 - accuracy: 1.0000 - val_loss: 0.1755 - val_accuracy: 0.9517\n",
            "Epoch 23/5000\n",
            "145/145 [==============================] - 20s 135ms/step - loss: 0.0118 - accuracy: 1.0000 - val_loss: 0.1761 - val_accuracy: 0.9534\n",
            "Epoch 24/5000\n",
            "145/145 [==============================] - 20s 135ms/step - loss: 0.0107 - accuracy: 1.0000 - val_loss: 0.1751 - val_accuracy: 0.9500\n",
            "Epoch 25/5000\n",
            "145/145 [==============================] - 20s 135ms/step - loss: 0.0105 - accuracy: 1.0000 - val_loss: 0.1751 - val_accuracy: 0.9483\n",
            "Epoch 26/5000\n",
            "145/145 [==============================] - 20s 135ms/step - loss: 0.0087 - accuracy: 1.0000 - val_loss: 0.1691 - val_accuracy: 0.9517\n",
            "Epoch 27/5000\n",
            "145/145 [==============================] - 20s 134ms/step - loss: 0.0081 - accuracy: 1.0000 - val_loss: 0.1678 - val_accuracy: 0.9534\n",
            "Epoch 28/5000\n",
            "145/145 [==============================] - 20s 135ms/step - loss: 0.0068 - accuracy: 1.0000 - val_loss: 0.1676 - val_accuracy: 0.9534\n",
            "Epoch 29/5000\n",
            "145/145 [==============================] - 20s 135ms/step - loss: 0.0067 - accuracy: 1.0000 - val_loss: 0.1678 - val_accuracy: 0.9500\n",
            "Epoch 30/5000\n",
            "145/145 [==============================] - 19s 134ms/step - loss: 0.0062 - accuracy: 1.0000 - val_loss: 0.1642 - val_accuracy: 0.9534\n",
            "Epoch 31/5000\n",
            "145/145 [==============================] - 19s 134ms/step - loss: 0.0056 - accuracy: 1.0000 - val_loss: 0.1663 - val_accuracy: 0.9466\n",
            "Epoch 32/5000\n",
            "145/145 [==============================] - 20s 135ms/step - loss: 0.0056 - accuracy: 1.0000 - val_loss: 0.1676 - val_accuracy: 0.9552\n",
            "Epoch 33/5000\n",
            "145/145 [==============================] - 20s 135ms/step - loss: 0.0050 - accuracy: 1.0000 - val_loss: 0.1639 - val_accuracy: 0.9534\n",
            "Epoch 34/5000\n",
            "145/145 [==============================] - 19s 134ms/step - loss: 0.0044 - accuracy: 1.0000 - val_loss: 0.1624 - val_accuracy: 0.9569\n",
            "Epoch 35/5000\n",
            "145/145 [==============================] - 20s 135ms/step - loss: 0.0042 - accuracy: 1.0000 - val_loss: 0.1616 - val_accuracy: 0.9534\n",
            "Epoch 36/5000\n",
            "145/145 [==============================] - 20s 135ms/step - loss: 0.0040 - accuracy: 1.0000 - val_loss: 0.1597 - val_accuracy: 0.9552\n",
            "Epoch 37/5000\n",
            "145/145 [==============================] - 20s 135ms/step - loss: 0.0034 - accuracy: 1.0000 - val_loss: 0.1588 - val_accuracy: 0.9500\n",
            "Epoch 38/5000\n",
            "145/145 [==============================] - 20s 135ms/step - loss: 0.0034 - accuracy: 1.0000 - val_loss: 0.1591 - val_accuracy: 0.9552\n",
            "Epoch 39/5000\n",
            "145/145 [==============================] - 20s 136ms/step - loss: 0.0029 - accuracy: 1.0000 - val_loss: 0.1583 - val_accuracy: 0.9552\n",
            "Epoch 40/5000\n",
            "145/145 [==============================] - 20s 136ms/step - loss: 0.0029 - accuracy: 1.0000 - val_loss: 0.1590 - val_accuracy: 0.9534\n",
            "Epoch 41/5000\n",
            "145/145 [==============================] - 20s 136ms/step - loss: 0.0027 - accuracy: 1.0000 - val_loss: 0.1563 - val_accuracy: 0.9517\n",
            "Epoch 42/5000\n",
            "145/145 [==============================] - 19s 134ms/step - loss: 0.0024 - accuracy: 1.0000 - val_loss: 0.1609 - val_accuracy: 0.9569\n",
            "Epoch 43/5000\n",
            "145/145 [==============================] - 20s 135ms/step - loss: 0.0024 - accuracy: 1.0000 - val_loss: 0.1605 - val_accuracy: 0.9534\n",
            "Epoch 44/5000\n",
            "145/145 [==============================] - 20s 136ms/step - loss: 0.0021 - accuracy: 1.0000 - val_loss: 0.1600 - val_accuracy: 0.9500\n",
            "Epoch 45/5000\n",
            "145/145 [==============================] - 20s 135ms/step - loss: 0.0019 - accuracy: 1.0000 - val_loss: 0.1597 - val_accuracy: 0.9517\n",
            "Epoch 46/5000\n",
            "145/145 [==============================] - 19s 134ms/step - loss: 0.0019 - accuracy: 1.0000 - val_loss: 0.1604 - val_accuracy: 0.9552\n"
          ],
          "name": "stdout"
        }
      ]
    },
    {
      "cell_type": "markdown",
      "metadata": {
        "id": "jpDYnIdi0-NQ"
      },
      "source": [
        "### With One Hidden Layer"
      ]
    },
    {
      "cell_type": "markdown",
      "metadata": {
        "id": "b5qsnUXaO5Rm"
      },
      "source": [
        "####Without Dropout"
      ]
    },
    {
      "cell_type": "code",
      "metadata": {
        "id": "oDzC7HkrwauK",
        "colab": {
          "base_uri": "https://localhost:8080/"
        },
        "outputId": "6bfa2d8f-edbb-4619-a20e-7d96ed4b54cc"
      },
      "source": [
        "model_onelayer = Sequential()\n",
        "model_onelayer.add(base_model)\n",
        "model_onelayer.add(GlobalAveragePooling2D())\n",
        "model_onelayer.add(Dense(256,activation=\"relu\"))\n",
        "model_onelayer.add(Dense(29,activation=\"softmax\"))\n",
        "\n",
        "\n",
        "callbacks = tf.keras.callbacks.EarlyStopping(monitor='val_loss', patience=5)\n",
        "model_onelayer.compile(loss='categorical_crossentropy', optimizer=Adam(lr=0.001), metrics=['accuracy'])\n",
        "\n",
        "history_onelayer = model_onelayer.fit(train_gen, validation_data = val_gen, epochs = 5000, \n",
        "                    callbacks = [callbacks], verbose = 1)\n",
        "\n",
        "#loss: 0.0018 - accuracy: 1.0000 - val_loss: 0.1538 - val_accuracy: 0.9621"
      ],
      "execution_count": null,
      "outputs": [
        {
          "output_type": "stream",
          "text": [
            "/usr/local/lib/python3.7/dist-packages/tensorflow/python/keras/optimizer_v2/optimizer_v2.py:375: UserWarning: The `lr` argument is deprecated, use `learning_rate` instead.\n",
            "  \"The `lr` argument is deprecated, use `learning_rate` instead.\")\n"
          ],
          "name": "stderr"
        },
        {
          "output_type": "stream",
          "text": [
            "Epoch 1/5000\n",
            "145/145 [==============================] - 26s 142ms/step - loss: 2.3346 - accuracy: 0.3945 - val_loss: 0.6856 - val_accuracy: 0.8103\n",
            "Epoch 2/5000\n",
            "145/145 [==============================] - 19s 134ms/step - loss: 0.4441 - accuracy: 0.8842 - val_loss: 0.4853 - val_accuracy: 0.8569\n",
            "Epoch 3/5000\n",
            "145/145 [==============================] - 19s 133ms/step - loss: 0.2213 - accuracy: 0.9521 - val_loss: 0.3187 - val_accuracy: 0.9086\n",
            "Epoch 4/5000\n",
            "145/145 [==============================] - 19s 134ms/step - loss: 0.1137 - accuracy: 0.9793 - val_loss: 0.2974 - val_accuracy: 0.9172\n",
            "Epoch 5/5000\n",
            "145/145 [==============================] - 19s 134ms/step - loss: 0.0689 - accuracy: 0.9895 - val_loss: 0.2174 - val_accuracy: 0.9379\n",
            "Epoch 6/5000\n",
            "145/145 [==============================] - 19s 134ms/step - loss: 0.0350 - accuracy: 0.9998 - val_loss: 0.1959 - val_accuracy: 0.9534\n",
            "Epoch 7/5000\n",
            "145/145 [==============================] - 19s 134ms/step - loss: 0.0255 - accuracy: 0.9996 - val_loss: 0.1723 - val_accuracy: 0.9500\n",
            "Epoch 8/5000\n",
            "145/145 [==============================] - 19s 133ms/step - loss: 0.0165 - accuracy: 1.0000 - val_loss: 0.1754 - val_accuracy: 0.9534\n",
            "Epoch 9/5000\n",
            "145/145 [==============================] - 19s 134ms/step - loss: 0.0110 - accuracy: 1.0000 - val_loss: 0.1646 - val_accuracy: 0.9569\n",
            "Epoch 10/5000\n",
            "145/145 [==============================] - 19s 134ms/step - loss: 0.0083 - accuracy: 1.0000 - val_loss: 0.1770 - val_accuracy: 0.9569\n",
            "Epoch 11/5000\n",
            "145/145 [==============================] - 20s 135ms/step - loss: 0.0067 - accuracy: 1.0000 - val_loss: 0.1634 - val_accuracy: 0.9638\n",
            "Epoch 12/5000\n",
            "145/145 [==============================] - 20s 135ms/step - loss: 0.0063 - accuracy: 1.0000 - val_loss: 0.1585 - val_accuracy: 0.9603\n",
            "Epoch 13/5000\n",
            "145/145 [==============================] - 20s 136ms/step - loss: 0.0045 - accuracy: 1.0000 - val_loss: 0.1589 - val_accuracy: 0.9603\n",
            "Epoch 14/5000\n",
            "145/145 [==============================] - 20s 135ms/step - loss: 0.0039 - accuracy: 1.0000 - val_loss: 0.1551 - val_accuracy: 0.9621\n",
            "Epoch 15/5000\n",
            "145/145 [==============================] - 19s 134ms/step - loss: 0.0033 - accuracy: 1.0000 - val_loss: 0.1542 - val_accuracy: 0.9569\n",
            "Epoch 16/5000\n",
            "145/145 [==============================] - 19s 134ms/step - loss: 0.0027 - accuracy: 1.0000 - val_loss: 0.1639 - val_accuracy: 0.9569\n",
            "Epoch 17/5000\n",
            "145/145 [==============================] - 19s 133ms/step - loss: 0.0026 - accuracy: 1.0000 - val_loss: 0.1566 - val_accuracy: 0.9603\n",
            "Epoch 18/5000\n",
            "145/145 [==============================] - 19s 133ms/step - loss: 0.0022 - accuracy: 1.0000 - val_loss: 0.1550 - val_accuracy: 0.9586\n",
            "Epoch 19/5000\n",
            "145/145 [==============================] - 19s 133ms/step - loss: 0.0018 - accuracy: 1.0000 - val_loss: 0.1538 - val_accuracy: 0.9621\n",
            "Epoch 20/5000\n",
            "145/145 [==============================] - 19s 133ms/step - loss: 0.0016 - accuracy: 1.0000 - val_loss: 0.1552 - val_accuracy: 0.9552\n",
            "Epoch 21/5000\n",
            "145/145 [==============================] - 19s 134ms/step - loss: 0.0015 - accuracy: 1.0000 - val_loss: 0.1502 - val_accuracy: 0.9603\n",
            "Epoch 22/5000\n",
            "145/145 [==============================] - 19s 133ms/step - loss: 0.0014 - accuracy: 1.0000 - val_loss: 0.1489 - val_accuracy: 0.9603\n",
            "Epoch 23/5000\n",
            "145/145 [==============================] - 19s 134ms/step - loss: 0.0012 - accuracy: 1.0000 - val_loss: 0.1523 - val_accuracy: 0.9586\n",
            "Epoch 24/5000\n",
            "145/145 [==============================] - 19s 134ms/step - loss: 0.0011 - accuracy: 1.0000 - val_loss: 0.1550 - val_accuracy: 0.9569\n",
            "Epoch 25/5000\n",
            "145/145 [==============================] - 19s 134ms/step - loss: 9.0919e-04 - accuracy: 1.0000 - val_loss: 0.1561 - val_accuracy: 0.9586\n",
            "Epoch 26/5000\n",
            "145/145 [==============================] - 19s 133ms/step - loss: 8.4263e-04 - accuracy: 1.0000 - val_loss: 0.1490 - val_accuracy: 0.9603\n",
            "Epoch 27/5000\n",
            "145/145 [==============================] - 19s 133ms/step - loss: 7.2160e-04 - accuracy: 1.0000 - val_loss: 0.1502 - val_accuracy: 0.9586\n"
          ],
          "name": "stdout"
        }
      ]
    },
    {
      "cell_type": "code",
      "metadata": {
        "id": "UTU-YKPA-fcD",
        "colab": {
          "base_uri": "https://localhost:8080/"
        },
        "outputId": "f820d8e0-ca0f-4a28-ca72-f0be2ee0bd43"
      },
      "source": [
        "model_onelayerDropN = Sequential()\n",
        "model_onelayerDropN.add(base_model)\n",
        "model_onelayerDropN.add(GlobalAveragePooling2D())\n",
        "model_onelayerDropN.add(Dense(512,activation=\"relu\"))\n",
        "\n",
        "model_onelayerDropN.add(Dense(29,activation=\"softmax\"))\n",
        "\n",
        "callbacks = tf.keras.callbacks.EarlyStopping(monitor='val_loss', patience=5)\n",
        "\n",
        "model_onelayerDropN.compile(loss='categorical_crossentropy', optimizer=Adam(lr=0.001), metrics=['accuracy'])\n",
        "history_onelayerDropN = model_onelayerDropN.fit(train_gen, validation_data = val_gen, epochs = 5000, \n",
        "                    callbacks = [callbacks], verbose = 1)\n",
        "\n",
        "#loss: 0.0016 - accuracy: 1.0000 - val_loss: 0.1553 - val_accuracy: 0.9569"
      ],
      "execution_count": null,
      "outputs": [
        {
          "output_type": "stream",
          "text": [
            "/usr/local/lib/python3.7/dist-packages/tensorflow/python/keras/optimizer_v2/optimizer_v2.py:375: UserWarning: The `lr` argument is deprecated, use `learning_rate` instead.\n",
            "  \"The `lr` argument is deprecated, use `learning_rate` instead.\")\n"
          ],
          "name": "stderr"
        },
        {
          "output_type": "stream",
          "text": [
            "Epoch 1/5000\n",
            "145/145 [==============================] - 25s 142ms/step - loss: 2.1375 - accuracy: 0.4416 - val_loss: 0.7052 - val_accuracy: 0.7690\n",
            "Epoch 2/5000\n",
            "145/145 [==============================] - 19s 134ms/step - loss: 0.4068 - accuracy: 0.8799 - val_loss: 0.4180 - val_accuracy: 0.8810\n",
            "Epoch 3/5000\n",
            "145/145 [==============================] - 19s 134ms/step - loss: 0.1495 - accuracy: 0.9620 - val_loss: 0.3412 - val_accuracy: 0.9086\n",
            "Epoch 4/5000\n",
            "145/145 [==============================] - 19s 134ms/step - loss: 0.1121 - accuracy: 0.9757 - val_loss: 0.2557 - val_accuracy: 0.9224\n",
            "Epoch 5/5000\n",
            "145/145 [==============================] - 19s 134ms/step - loss: 0.0492 - accuracy: 0.9932 - val_loss: 0.2517 - val_accuracy: 0.9259\n",
            "Epoch 6/5000\n",
            "145/145 [==============================] - 19s 134ms/step - loss: 0.0232 - accuracy: 0.9986 - val_loss: 0.2252 - val_accuracy: 0.9293\n",
            "Epoch 7/5000\n",
            "145/145 [==============================] - 20s 135ms/step - loss: 0.0316 - accuracy: 0.9932 - val_loss: 0.2766 - val_accuracy: 0.9172\n",
            "Epoch 8/5000\n",
            "145/145 [==============================] - 19s 134ms/step - loss: 0.0353 - accuracy: 0.9939 - val_loss: 0.1831 - val_accuracy: 0.9483\n",
            "Epoch 9/5000\n",
            "145/145 [==============================] - 19s 133ms/step - loss: 0.0079 - accuracy: 0.9993 - val_loss: 0.1587 - val_accuracy: 0.9534\n",
            "Epoch 10/5000\n",
            "145/145 [==============================] - 19s 134ms/step - loss: 0.0043 - accuracy: 1.0000 - val_loss: 0.1566 - val_accuracy: 0.9517\n",
            "Epoch 11/5000\n",
            "145/145 [==============================] - 19s 134ms/step - loss: 0.0033 - accuracy: 1.0000 - val_loss: 0.1587 - val_accuracy: 0.9534\n",
            "Epoch 12/5000\n",
            "145/145 [==============================] - 19s 134ms/step - loss: 0.0029 - accuracy: 1.0000 - val_loss: 0.1537 - val_accuracy: 0.9569\n",
            "Epoch 13/5000\n",
            "145/145 [==============================] - 19s 134ms/step - loss: 0.0025 - accuracy: 1.0000 - val_loss: 0.1594 - val_accuracy: 0.9500\n",
            "Epoch 14/5000\n",
            "145/145 [==============================] - 19s 134ms/step - loss: 0.0021 - accuracy: 1.0000 - val_loss: 0.1531 - val_accuracy: 0.9569\n",
            "Epoch 15/5000\n",
            "145/145 [==============================] - 19s 134ms/step - loss: 0.0018 - accuracy: 1.0000 - val_loss: 0.1578 - val_accuracy: 0.9534\n",
            "Epoch 16/5000\n",
            "145/145 [==============================] - 19s 134ms/step - loss: 0.0016 - accuracy: 1.0000 - val_loss: 0.1553 - val_accuracy: 0.9569\n",
            "Epoch 17/5000\n",
            "145/145 [==============================] - 19s 134ms/step - loss: 0.0015 - accuracy: 1.0000 - val_loss: 0.1553 - val_accuracy: 0.9517\n",
            "Epoch 18/5000\n",
            "145/145 [==============================] - 19s 134ms/step - loss: 0.0012 - accuracy: 1.0000 - val_loss: 0.1524 - val_accuracy: 0.9569\n",
            "Epoch 19/5000\n",
            "145/145 [==============================] - 19s 134ms/step - loss: 0.0011 - accuracy: 1.0000 - val_loss: 0.1514 - val_accuracy: 0.9534\n",
            "Epoch 20/5000\n",
            "145/145 [==============================] - 19s 132ms/step - loss: 0.0011 - accuracy: 1.0000 - val_loss: 0.1580 - val_accuracy: 0.9500\n",
            "Epoch 21/5000\n",
            "145/145 [==============================] - 19s 133ms/step - loss: 8.7898e-04 - accuracy: 1.0000 - val_loss: 0.1552 - val_accuracy: 0.9517\n",
            "Epoch 22/5000\n",
            "145/145 [==============================] - 19s 133ms/step - loss: 7.9560e-04 - accuracy: 1.0000 - val_loss: 0.1564 - val_accuracy: 0.9500\n",
            "Epoch 23/5000\n",
            "145/145 [==============================] - 19s 133ms/step - loss: 7.0986e-04 - accuracy: 1.0000 - val_loss: 0.1594 - val_accuracy: 0.9534\n",
            "Epoch 24/5000\n",
            "145/145 [==============================] - 19s 133ms/step - loss: 6.6701e-04 - accuracy: 1.0000 - val_loss: 0.1520 - val_accuracy: 0.9552\n"
          ],
          "name": "stdout"
        }
      ]
    },
    {
      "cell_type": "markdown",
      "metadata": {
        "id": "LbHZAbyzOeaZ"
      },
      "source": [
        "####Dropout Added"
      ]
    },
    {
      "cell_type": "code",
      "metadata": {
        "id": "TTjmrSqu7HNL",
        "colab": {
          "base_uri": "https://localhost:8080/"
        },
        "outputId": "863a60ad-20b2-45c6-d72b-8676fa25cd9a"
      },
      "source": [
        "model_onelayerDrop = Sequential()\n",
        "model_onelayerDrop.add(base_model)\n",
        "model_onelayerDrop.add(GlobalAveragePooling2D())\n",
        "model_onelayerDrop.add(Dense(256,activation=\"relu\"))\n",
        "model_onelayerDrop.add(Dropout(0.2))\n",
        "model_onelayerDrop.add(Dense(29,activation=\"softmax\"))\n",
        "\n",
        "\n",
        "callbacks = tf.keras.callbacks.EarlyStopping(monitor='val_loss', patience=5)\n",
        "model_onelayerDrop.compile(loss='categorical_crossentropy', optimizer=Adam(lr=0.001), metrics=['accuracy'])\n",
        "\n",
        "history_onelayerDrop = model_onelayerDrop.fit(train_gen, validation_data = val_gen, epochs = 5000, \n",
        "                    callbacks = [callbacks], verbose = 1)\n",
        "\n",
        "#loss: 0.0145 - accuracy: 0.9978 - val_loss: 0.1627 - val_accuracy: 0.9621"
      ],
      "execution_count": null,
      "outputs": [
        {
          "output_type": "stream",
          "text": [
            "/usr/local/lib/python3.7/dist-packages/tensorflow/python/keras/optimizer_v2/optimizer_v2.py:375: UserWarning: The `lr` argument is deprecated, use `learning_rate` instead.\n",
            "  \"The `lr` argument is deprecated, use `learning_rate` instead.\")\n"
          ],
          "name": "stderr"
        },
        {
          "output_type": "stream",
          "text": [
            "Epoch 1/5000\n",
            "145/145 [==============================] - 25s 142ms/step - loss: 2.5139 - accuracy: 0.3430 - val_loss: 0.7735 - val_accuracy: 0.8138\n",
            "Epoch 2/5000\n",
            "145/145 [==============================] - 19s 134ms/step - loss: 0.6782 - accuracy: 0.8008 - val_loss: 0.4800 - val_accuracy: 0.8759\n",
            "Epoch 3/5000\n",
            "145/145 [==============================] - 19s 133ms/step - loss: 0.3584 - accuracy: 0.9027 - val_loss: 0.3532 - val_accuracy: 0.9034\n",
            "Epoch 4/5000\n",
            "145/145 [==============================] - 20s 135ms/step - loss: 0.1946 - accuracy: 0.9549 - val_loss: 0.2924 - val_accuracy: 0.9362\n",
            "Epoch 5/5000\n",
            "145/145 [==============================] - 19s 134ms/step - loss: 0.1447 - accuracy: 0.9629 - val_loss: 0.3050 - val_accuracy: 0.9052\n",
            "Epoch 6/5000\n",
            "145/145 [==============================] - 20s 135ms/step - loss: 0.1241 - accuracy: 0.9722 - val_loss: 0.2035 - val_accuracy: 0.9448\n",
            "Epoch 7/5000\n",
            "145/145 [==============================] - 21s 143ms/step - loss: 0.0813 - accuracy: 0.9853 - val_loss: 0.1967 - val_accuracy: 0.9431\n",
            "Epoch 8/5000\n",
            "145/145 [==============================] - 19s 134ms/step - loss: 0.0633 - accuracy: 0.9864 - val_loss: 0.2000 - val_accuracy: 0.9483\n",
            "Epoch 9/5000\n",
            "145/145 [==============================] - 19s 133ms/step - loss: 0.0441 - accuracy: 0.9936 - val_loss: 0.1864 - val_accuracy: 0.9500\n",
            "Epoch 10/5000\n",
            "145/145 [==============================] - 19s 134ms/step - loss: 0.0354 - accuracy: 0.9947 - val_loss: 0.1801 - val_accuracy: 0.9500\n",
            "Epoch 11/5000\n",
            "145/145 [==============================] - 19s 133ms/step - loss: 0.0319 - accuracy: 0.9961 - val_loss: 0.2184 - val_accuracy: 0.9310\n",
            "Epoch 12/5000\n",
            "145/145 [==============================] - 20s 135ms/step - loss: 0.0729 - accuracy: 0.9861 - val_loss: 0.1869 - val_accuracy: 0.9534\n",
            "Epoch 13/5000\n",
            "145/145 [==============================] - 19s 134ms/step - loss: 0.0277 - accuracy: 0.9951 - val_loss: 0.1615 - val_accuracy: 0.9534\n",
            "Epoch 14/5000\n",
            "145/145 [==============================] - 20s 135ms/step - loss: 0.0197 - accuracy: 0.9989 - val_loss: 0.1447 - val_accuracy: 0.9517\n",
            "Epoch 15/5000\n",
            "145/145 [==============================] - 19s 134ms/step - loss: 0.0166 - accuracy: 0.9975 - val_loss: 0.1656 - val_accuracy: 0.9552\n",
            "Epoch 16/5000\n",
            "145/145 [==============================] - 20s 134ms/step - loss: 0.0223 - accuracy: 0.9969 - val_loss: 0.1651 - val_accuracy: 0.9500\n",
            "Epoch 17/5000\n",
            "145/145 [==============================] - 19s 133ms/step - loss: 0.0145 - accuracy: 0.9978 - val_loss: 0.1627 - val_accuracy: 0.9621\n",
            "Epoch 18/5000\n",
            "145/145 [==============================] - 19s 134ms/step - loss: 0.0202 - accuracy: 0.9954 - val_loss: 0.1507 - val_accuracy: 0.9586\n",
            "Epoch 19/5000\n",
            "145/145 [==============================] - 19s 133ms/step - loss: 0.0264 - accuracy: 0.9945 - val_loss: 0.1888 - val_accuracy: 0.9483\n"
          ],
          "name": "stdout"
        }
      ]
    },
    {
      "cell_type": "code",
      "metadata": {
        "colab": {
          "base_uri": "https://localhost:8080/"
        },
        "id": "6l2fEdPbOv4z",
        "outputId": "238a0d67-3384-45d7-d07e-1841bf6d8ee6"
      },
      "source": [
        "model_onelayerDrop = Sequential()\n",
        "model_onelayerDrop.add(base_model)\n",
        "model_onelayerDrop.add(GlobalAveragePooling2D())\n",
        "model_onelayerDrop.add(Dropout(0.1))\n",
        "model_onelayerDrop.add(Dense(256,activation=\"relu\"))\n",
        "model_onelayerDrop.add(Dropout(0.2))\n",
        "model_onelayerDrop.add(Dense(29,activation=\"softmax\"))\n",
        "\n",
        "\n",
        "callbacks = tf.keras.callbacks.EarlyStopping(monitor='val_loss', patience=5)\n",
        "model_onelayerDrop.compile(loss='categorical_crossentropy', optimizer=Adam(lr=0.001), metrics=['accuracy'])\n",
        "\n",
        "history_onelayerDrop = model_onelayerDrop.fit(train_gen, validation_data = val_gen, epochs = 5000, \n",
        "                    callbacks = [callbacks], verbose = 1)\n",
        "\n",
        "#loss: 0.0408 - accuracy: 0.9896 - val_loss: 0.1866 - val_accuracy: 0.9534"
      ],
      "execution_count": null,
      "outputs": [
        {
          "output_type": "stream",
          "text": [
            "/usr/local/lib/python3.7/dist-packages/tensorflow/python/keras/optimizer_v2/optimizer_v2.py:375: UserWarning: The `lr` argument is deprecated, use `learning_rate` instead.\n",
            "  \"The `lr` argument is deprecated, use `learning_rate` instead.\")\n"
          ],
          "name": "stderr"
        },
        {
          "output_type": "stream",
          "text": [
            "Epoch 1/5000\n",
            "145/145 [==============================] - 25s 142ms/step - loss: 2.5136 - accuracy: 0.3244 - val_loss: 0.7643 - val_accuracy: 0.7931\n",
            "Epoch 2/5000\n",
            "145/145 [==============================] - 19s 133ms/step - loss: 0.6993 - accuracy: 0.7992 - val_loss: 0.5062 - val_accuracy: 0.8534\n",
            "Epoch 3/5000\n",
            "145/145 [==============================] - 19s 133ms/step - loss: 0.4057 - accuracy: 0.8834 - val_loss: 0.3847 - val_accuracy: 0.8879\n",
            "Epoch 4/5000\n",
            "145/145 [==============================] - 19s 133ms/step - loss: 0.2431 - accuracy: 0.9356 - val_loss: 0.3141 - val_accuracy: 0.9103\n",
            "Epoch 5/5000\n",
            "145/145 [==============================] - 19s 133ms/step - loss: 0.1904 - accuracy: 0.9481 - val_loss: 0.2840 - val_accuracy: 0.9259\n",
            "Epoch 6/5000\n",
            "145/145 [==============================] - 19s 133ms/step - loss: 0.1573 - accuracy: 0.9502 - val_loss: 0.2462 - val_accuracy: 0.9276\n",
            "Epoch 7/5000\n",
            "145/145 [==============================] - 19s 132ms/step - loss: 0.0984 - accuracy: 0.9782 - val_loss: 0.2124 - val_accuracy: 0.9431\n",
            "Epoch 8/5000\n",
            "145/145 [==============================] - 19s 133ms/step - loss: 0.1040 - accuracy: 0.9695 - val_loss: 0.1997 - val_accuracy: 0.9431\n",
            "Epoch 9/5000\n",
            "145/145 [==============================] - 19s 134ms/step - loss: 0.0827 - accuracy: 0.9779 - val_loss: 0.2473 - val_accuracy: 0.9138\n",
            "Epoch 10/5000\n",
            "145/145 [==============================] - 19s 133ms/step - loss: 0.0694 - accuracy: 0.9825 - val_loss: 0.1887 - val_accuracy: 0.9448\n",
            "Epoch 11/5000\n",
            "145/145 [==============================] - 19s 133ms/step - loss: 0.0535 - accuracy: 0.9892 - val_loss: 0.1625 - val_accuracy: 0.9448\n",
            "Epoch 12/5000\n",
            "145/145 [==============================] - 19s 132ms/step - loss: 0.0400 - accuracy: 0.9900 - val_loss: 0.2206 - val_accuracy: 0.9328\n",
            "Epoch 13/5000\n",
            "145/145 [==============================] - 19s 132ms/step - loss: 0.0437 - accuracy: 0.9930 - val_loss: 0.1945 - val_accuracy: 0.9466\n",
            "Epoch 14/5000\n",
            "145/145 [==============================] - 19s 132ms/step - loss: 0.0408 - accuracy: 0.9896 - val_loss: 0.1866 - val_accuracy: 0.9534\n",
            "Epoch 15/5000\n",
            "145/145 [==============================] - 19s 132ms/step - loss: 0.0481 - accuracy: 0.9875 - val_loss: 0.2300 - val_accuracy: 0.9310\n",
            "Epoch 16/5000\n",
            "145/145 [==============================] - 19s 133ms/step - loss: 0.0616 - accuracy: 0.9866 - val_loss: 0.2574 - val_accuracy: 0.9397\n"
          ],
          "name": "stdout"
        }
      ]
    },
    {
      "cell_type": "code",
      "metadata": {
        "colab": {
          "base_uri": "https://localhost:8080/"
        },
        "id": "csuxLI33Ozu0",
        "outputId": "bc653e64-f630-4c09-c192-1c3014a29374"
      },
      "source": [
        "model_onelayerDropN = Sequential()\n",
        "model_onelayerDropN.add(base_model)\n",
        "model_onelayerDropN.add(GlobalAveragePooling2D())\n",
        "model_onelayerDropN.add(Dense(512,activation=\"relu\"))\n",
        "model_onelayerDrop.add(Dropout(0.2))\n",
        "model_onelayerDropN.add(Dense(29,activation=\"softmax\"))\n",
        "\n",
        "callbacks = tf.keras.callbacks.EarlyStopping(monitor='val_loss', patience=5)\n",
        "\n",
        "model_onelayerDropN.compile(loss='categorical_crossentropy', optimizer=Adam(lr=0.001), metrics=['accuracy'])\n",
        "history_onelayerDropN = model_onelayerDropN.fit(train_gen, validation_data = val_gen, epochs = 5000, \n",
        "                    callbacks = [callbacks], verbose = 1)\n",
        "#accuracy: 1.0000 - val_loss: 0.1422 - val_accuracy: 0.9603"
      ],
      "execution_count": null,
      "outputs": [
        {
          "output_type": "stream",
          "text": [
            "/usr/local/lib/python3.7/dist-packages/tensorflow/python/keras/optimizer_v2/optimizer_v2.py:375: UserWarning: The `lr` argument is deprecated, use `learning_rate` instead.\n",
            "  \"The `lr` argument is deprecated, use `learning_rate` instead.\")\n"
          ],
          "name": "stderr"
        },
        {
          "output_type": "stream",
          "text": [
            "Epoch 1/5000\n",
            "145/145 [==============================] - 25s 140ms/step - loss: 2.2478 - accuracy: 0.4090 - val_loss: 0.6991 - val_accuracy: 0.7776\n",
            "Epoch 2/5000\n",
            "145/145 [==============================] - 19s 132ms/step - loss: 0.3733 - accuracy: 0.8892 - val_loss: 0.3662 - val_accuracy: 0.8948\n",
            "Epoch 3/5000\n",
            "145/145 [==============================] - 19s 132ms/step - loss: 0.1550 - accuracy: 0.9624 - val_loss: 0.2644 - val_accuracy: 0.9345\n",
            "Epoch 4/5000\n",
            "145/145 [==============================] - 19s 131ms/step - loss: 0.0945 - accuracy: 0.9798 - val_loss: 0.2476 - val_accuracy: 0.9293\n",
            "Epoch 5/5000\n",
            "145/145 [==============================] - 19s 132ms/step - loss: 0.0731 - accuracy: 0.9845 - val_loss: 0.2021 - val_accuracy: 0.9466\n",
            "Epoch 6/5000\n",
            "145/145 [==============================] - 19s 132ms/step - loss: 0.0320 - accuracy: 0.9946 - val_loss: 0.1685 - val_accuracy: 0.9534\n",
            "Epoch 7/5000\n",
            "145/145 [==============================] - 19s 132ms/step - loss: 0.0133 - accuracy: 1.0000 - val_loss: 0.1812 - val_accuracy: 0.9500\n",
            "Epoch 8/5000\n",
            "145/145 [==============================] - 19s 132ms/step - loss: 0.0088 - accuracy: 1.0000 - val_loss: 0.1554 - val_accuracy: 0.9586\n",
            "Epoch 9/5000\n",
            "145/145 [==============================] - 19s 131ms/step - loss: 0.0069 - accuracy: 1.0000 - val_loss: 0.1541 - val_accuracy: 0.9586\n",
            "Epoch 10/5000\n",
            "145/145 [==============================] - 19s 132ms/step - loss: 0.0046 - accuracy: 1.0000 - val_loss: 0.1523 - val_accuracy: 0.9569\n",
            "Epoch 11/5000\n",
            "145/145 [==============================] - 19s 132ms/step - loss: 0.0041 - accuracy: 1.0000 - val_loss: 0.1495 - val_accuracy: 0.9517\n",
            "Epoch 12/5000\n",
            "145/145 [==============================] - 19s 132ms/step - loss: 0.0031 - accuracy: 1.0000 - val_loss: 0.1462 - val_accuracy: 0.9603\n",
            "Epoch 13/5000\n",
            "145/145 [==============================] - 19s 132ms/step - loss: 0.0030 - accuracy: 1.0000 - val_loss: 0.1485 - val_accuracy: 0.9586\n",
            "Epoch 14/5000\n",
            "145/145 [==============================] - 19s 132ms/step - loss: 0.0025 - accuracy: 1.0000 - val_loss: 0.1456 - val_accuracy: 0.9552\n",
            "Epoch 15/5000\n",
            "145/145 [==============================] - 19s 131ms/step - loss: 0.0021 - accuracy: 1.0000 - val_loss: 0.1467 - val_accuracy: 0.9552\n",
            "Epoch 16/5000\n",
            "145/145 [==============================] - 19s 132ms/step - loss: 0.0019 - accuracy: 1.0000 - val_loss: 0.1460 - val_accuracy: 0.9586\n",
            "Epoch 17/5000\n",
            "145/145 [==============================] - 19s 132ms/step - loss: 0.0016 - accuracy: 1.0000 - val_loss: 0.1397 - val_accuracy: 0.9552\n",
            "Epoch 18/5000\n",
            "145/145 [==============================] - 19s 132ms/step - loss: 0.0015 - accuracy: 1.0000 - val_loss: 0.1397 - val_accuracy: 0.9586\n",
            "Epoch 19/5000\n",
            "145/145 [==============================] - 19s 132ms/step - loss: 0.0013 - accuracy: 1.0000 - val_loss: 0.1460 - val_accuracy: 0.9621\n",
            "Epoch 20/5000\n",
            "145/145 [==============================] - 19s 132ms/step - loss: 0.0010 - accuracy: 1.0000 - val_loss: 0.1421 - val_accuracy: 0.9569\n",
            "Epoch 21/5000\n",
            "145/145 [==============================] - 19s 132ms/step - loss: 0.0011 - accuracy: 1.0000 - val_loss: 0.1422 - val_accuracy: 0.9603\n",
            "Epoch 22/5000\n",
            "145/145 [==============================] - 21s 142ms/step - loss: 9.0176e-04 - accuracy: 1.0000 - val_loss: 0.1426 - val_accuracy: 0.9569\n",
            "Epoch 23/5000\n",
            "145/145 [==============================] - 19s 133ms/step - loss: 7.5965e-04 - accuracy: 1.0000 - val_loss: 0.1431 - val_accuracy: 0.9586\n"
          ],
          "name": "stdout"
        }
      ]
    },
    {
      "cell_type": "markdown",
      "metadata": {
        "id": "SDLBKn2T1NY1"
      },
      "source": [
        "### With Two Hidden Layer"
      ]
    },
    {
      "cell_type": "markdown",
      "metadata": {
        "id": "1mj4y3yUPgXo"
      },
      "source": [
        "####Without Dropout"
      ]
    },
    {
      "cell_type": "code",
      "metadata": {
        "id": "FS2qg8ct1U-b",
        "colab": {
          "base_uri": "https://localhost:8080/"
        },
        "outputId": "f75b6be5-d20b-4f8e-f3de-83e5559f3a08"
      },
      "source": [
        "model_twolayer = Sequential()\n",
        "model_twolayer.add(base_model)\n",
        "model_twolayer.add(GlobalAveragePooling2D())\n",
        "model_twolayer.add(Dense(256,activation=\"relu\"))\n",
        "model_twolayer.add(Dense(128,activation=\"relu\"))\n",
        "model_twolayer.add(Dense(29,activation=\"softmax\"))\n",
        "\n",
        "callbacks = tf.keras.callbacks.EarlyStopping(monitor='val_loss', patience=5)\n",
        "model_twolayer.compile(loss='categorical_crossentropy', optimizer=Adam(lr=0.001), metrics=['accuracy'])\n",
        "\n",
        "history_twolayer = model_twolayer.fit(train_gen, validation_data = val_gen, epochs = 5000, \n",
        "                    callbacks = [callbacks], verbose = 1)\n",
        "\n",
        "#loss: 0.0010 - accuracy: 1.0000 - val_loss: 0.1955 - val_accuracy: 0.9603"
      ],
      "execution_count": null,
      "outputs": [
        {
          "output_type": "stream",
          "text": [
            "/usr/local/lib/python3.7/dist-packages/tensorflow/python/keras/optimizer_v2/optimizer_v2.py:375: UserWarning: The `lr` argument is deprecated, use `learning_rate` instead.\n",
            "  \"The `lr` argument is deprecated, use `learning_rate` instead.\")\n"
          ],
          "name": "stderr"
        },
        {
          "output_type": "stream",
          "text": [
            "Epoch 1/5000\n",
            "145/145 [==============================] - 26s 142ms/step - loss: 2.3761 - accuracy: 0.3375 - val_loss: 0.8336 - val_accuracy: 0.7431\n",
            "Epoch 2/5000\n",
            "145/145 [==============================] - 20s 135ms/step - loss: 0.5183 - accuracy: 0.8460 - val_loss: 0.4782 - val_accuracy: 0.8586\n",
            "Epoch 3/5000\n",
            "145/145 [==============================] - 20s 134ms/step - loss: 0.2447 - accuracy: 0.9305 - val_loss: 0.3563 - val_accuracy: 0.9069\n",
            "Epoch 4/5000\n",
            "145/145 [==============================] - 20s 134ms/step - loss: 0.1369 - accuracy: 0.9610 - val_loss: 0.2819 - val_accuracy: 0.9224\n",
            "Epoch 5/5000\n",
            "145/145 [==============================] - 20s 135ms/step - loss: 0.0514 - accuracy: 0.9913 - val_loss: 0.2730 - val_accuracy: 0.9310\n",
            "Epoch 6/5000\n",
            "145/145 [==============================] - 19s 134ms/step - loss: 0.0620 - accuracy: 0.9885 - val_loss: 0.3489 - val_accuracy: 0.8914\n",
            "Epoch 7/5000\n",
            "145/145 [==============================] - 20s 134ms/step - loss: 0.0524 - accuracy: 0.9847 - val_loss: 0.2422 - val_accuracy: 0.9345\n",
            "Epoch 8/5000\n",
            "145/145 [==============================] - 20s 135ms/step - loss: 0.0131 - accuracy: 0.9981 - val_loss: 0.2435 - val_accuracy: 0.9155\n",
            "Epoch 9/5000\n",
            "145/145 [==============================] - 20s 135ms/step - loss: 0.0092 - accuracy: 1.0000 - val_loss: 0.2010 - val_accuracy: 0.9500\n",
            "Epoch 10/5000\n",
            "145/145 [==============================] - 20s 134ms/step - loss: 0.0032 - accuracy: 1.0000 - val_loss: 0.2027 - val_accuracy: 0.9448\n",
            "Epoch 11/5000\n",
            "145/145 [==============================] - 20s 135ms/step - loss: 0.0023 - accuracy: 1.0000 - val_loss: 0.1935 - val_accuracy: 0.9500\n",
            "Epoch 12/5000\n",
            "145/145 [==============================] - 20s 134ms/step - loss: 0.0020 - accuracy: 1.0000 - val_loss: 0.1979 - val_accuracy: 0.9517\n",
            "Epoch 13/5000\n",
            "145/145 [==============================] - 20s 135ms/step - loss: 0.0017 - accuracy: 1.0000 - val_loss: 0.1949 - val_accuracy: 0.9569\n",
            "Epoch 14/5000\n",
            "145/145 [==============================] - 20s 135ms/step - loss: 0.0013 - accuracy: 1.0000 - val_loss: 0.1917 - val_accuracy: 0.9552\n",
            "Epoch 15/5000\n",
            "145/145 [==============================] - 20s 135ms/step - loss: 0.0013 - accuracy: 1.0000 - val_loss: 0.1914 - val_accuracy: 0.9569\n",
            "Epoch 16/5000\n",
            "145/145 [==============================] - 20s 135ms/step - loss: 0.0011 - accuracy: 1.0000 - val_loss: 0.2006 - val_accuracy: 0.9534\n",
            "Epoch 17/5000\n",
            "145/145 [==============================] - 20s 135ms/step - loss: 0.0010 - accuracy: 1.0000 - val_loss: 0.1955 - val_accuracy: 0.9603\n",
            "Epoch 18/5000\n",
            "145/145 [==============================] - 20s 135ms/step - loss: 9.2455e-04 - accuracy: 1.0000 - val_loss: 0.2004 - val_accuracy: 0.9534\n",
            "Epoch 19/5000\n",
            "145/145 [==============================] - 20s 135ms/step - loss: 7.7425e-04 - accuracy: 1.0000 - val_loss: 0.1957 - val_accuracy: 0.9534\n",
            "Epoch 20/5000\n",
            "145/145 [==============================] - 19s 134ms/step - loss: 6.3884e-04 - accuracy: 1.0000 - val_loss: 0.2102 - val_accuracy: 0.9517\n"
          ],
          "name": "stdout"
        }
      ]
    },
    {
      "cell_type": "code",
      "metadata": {
        "colab": {
          "base_uri": "https://localhost:8080/"
        },
        "id": "kXdwPqdKQFtI",
        "outputId": "a96abfc4-8c16-43d5-fefb-edf6cbcc8550"
      },
      "source": [
        "model_twolayerDrop1 = Sequential()\n",
        "model_twolayerDrop1.add(base_model)\n",
        "model_twolayerDrop1.add(GlobalAveragePooling2D())\n",
        "model_twolayerDrop1.add(Dense(512,activation=\"relu\"))\n",
        "model_twolayerDrop1.add(Dense(128,activation=\"relu\"))\n",
        "model_twolayerDrop1.add(Dense(29,activation=\"softmax\"))\n",
        "\n",
        "callbacks = tf.keras.callbacks.EarlyStopping(monitor='val_loss', patience=5)\n",
        "model_twolayerDrop1.compile(loss='categorical_crossentropy', optimizer=Adam(lr=0.001), metrics=['accuracy'])\n",
        "\n",
        "history_twolayerDrop1 = model_twolayerDrop1.fit(train_gen, validation_data = val_gen, epochs = 5000, \n",
        "                    callbacks = [callbacks], verbose = 1)\n",
        "#loss: 0.0011 - accuracy: 1.0000 - val_loss: 0.1687 - val_accuracy: 0.9586"
      ],
      "execution_count": null,
      "outputs": [
        {
          "output_type": "stream",
          "text": [
            "/usr/local/lib/python3.7/dist-packages/tensorflow/python/keras/optimizer_v2/optimizer_v2.py:375: UserWarning: The `lr` argument is deprecated, use `learning_rate` instead.\n",
            "  \"The `lr` argument is deprecated, use `learning_rate` instead.\")\n"
          ],
          "name": "stderr"
        },
        {
          "output_type": "stream",
          "text": [
            "Epoch 1/5000\n",
            "145/145 [==============================] - 25s 142ms/step - loss: 2.3802 - accuracy: 0.3472 - val_loss: 0.8927 - val_accuracy: 0.7690\n",
            "Epoch 2/5000\n",
            "145/145 [==============================] - 19s 134ms/step - loss: 0.5174 - accuracy: 0.8662 - val_loss: 0.4246 - val_accuracy: 0.8862\n",
            "Epoch 3/5000\n",
            "145/145 [==============================] - 20s 135ms/step - loss: 0.2737 - accuracy: 0.9093 - val_loss: 0.3540 - val_accuracy: 0.8966\n",
            "Epoch 4/5000\n",
            "145/145 [==============================] - 19s 134ms/step - loss: 0.1060 - accuracy: 0.9722 - val_loss: 0.2859 - val_accuracy: 0.9052\n",
            "Epoch 5/5000\n",
            "145/145 [==============================] - 19s 134ms/step - loss: 0.0629 - accuracy: 0.9838 - val_loss: 0.2924 - val_accuracy: 0.9172\n",
            "Epoch 6/5000\n",
            "145/145 [==============================] - 20s 135ms/step - loss: 0.0473 - accuracy: 0.9923 - val_loss: 0.2453 - val_accuracy: 0.9224\n",
            "Epoch 7/5000\n",
            "145/145 [==============================] - 19s 134ms/step - loss: 0.0259 - accuracy: 0.9954 - val_loss: 0.2975 - val_accuracy: 0.9086\n",
            "Epoch 8/5000\n",
            "145/145 [==============================] - 20s 134ms/step - loss: 0.1530 - accuracy: 0.9636 - val_loss: 0.2131 - val_accuracy: 0.9431\n",
            "Epoch 9/5000\n",
            "145/145 [==============================] - 19s 134ms/step - loss: 0.0169 - accuracy: 0.9980 - val_loss: 0.2139 - val_accuracy: 0.9345\n",
            "Epoch 10/5000\n",
            "145/145 [==============================] - 19s 134ms/step - loss: 0.0549 - accuracy: 0.9850 - val_loss: 0.2114 - val_accuracy: 0.9466\n",
            "Epoch 11/5000\n",
            "145/145 [==============================] - 19s 134ms/step - loss: 0.0047 - accuracy: 1.0000 - val_loss: 0.1639 - val_accuracy: 0.9534\n",
            "Epoch 12/5000\n",
            "145/145 [==============================] - 19s 134ms/step - loss: 0.0015 - accuracy: 1.0000 - val_loss: 0.1659 - val_accuracy: 0.9534\n",
            "Epoch 13/5000\n",
            "145/145 [==============================] - 19s 134ms/step - loss: 0.0011 - accuracy: 1.0000 - val_loss: 0.1687 - val_accuracy: 0.9586\n",
            "Epoch 14/5000\n",
            "145/145 [==============================] - 19s 134ms/step - loss: 0.0010 - accuracy: 1.0000 - val_loss: 0.1683 - val_accuracy: 0.9552\n",
            "Epoch 15/5000\n",
            "145/145 [==============================] - 20s 135ms/step - loss: 8.4738e-04 - accuracy: 1.0000 - val_loss: 0.1695 - val_accuracy: 0.9500\n",
            "Epoch 16/5000\n",
            "145/145 [==============================] - 19s 134ms/step - loss: 7.2762e-04 - accuracy: 1.0000 - val_loss: 0.1730 - val_accuracy: 0.9517\n"
          ],
          "name": "stdout"
        }
      ]
    },
    {
      "cell_type": "markdown",
      "metadata": {
        "id": "3qVzSJw3Prqr"
      },
      "source": [
        "####With Dropout"
      ]
    },
    {
      "cell_type": "code",
      "metadata": {
        "id": "-8gnGayb7kRI",
        "colab": {
          "base_uri": "https://localhost:8080/"
        },
        "outputId": "b1261699-3d17-4431-81bd-6eea13a87c44"
      },
      "source": [
        "model_twolayerDrop = Sequential()\n",
        "model_twolayerDrop.add(base_model)\n",
        "model_twolayerDrop.add(GlobalAveragePooling2D())\n",
        "model_twolayerDrop.add(Dense(256,activation=\"relu\"))\n",
        "model_twolayerDrop.add(Dropout(0.2))\n",
        "model_twolayerDrop.add(Dense(128,activation=\"relu\"))\n",
        "model_twolayerDrop.add(Dropout(0.1))\n",
        "model_twolayerDrop.add(Dense(29,activation=\"softmax\"))\n",
        "\n",
        "callbacks = tf.keras.callbacks.EarlyStopping(monitor='val_loss', patience=5)\n",
        "model_twolayerDrop.compile(loss='categorical_crossentropy', optimizer=Adam(lr=0.001), metrics=['accuracy'])\n",
        "\n",
        "history_twolayerDrop = model_twolayerDrop.fit(train_gen, validation_data = val_gen, epochs = 5000, \n",
        "                    callbacks = [callbacks], verbose = 1)\n",
        "\n",
        "#loss: 0.0876 - accuracy: 0.9733 - val_loss: 0.2155 - val_accuracy: 0.9414"
      ],
      "execution_count": null,
      "outputs": [
        {
          "output_type": "stream",
          "text": [
            "/usr/local/lib/python3.7/dist-packages/tensorflow/python/keras/optimizer_v2/optimizer_v2.py:375: UserWarning: The `lr` argument is deprecated, use `learning_rate` instead.\n",
            "  \"The `lr` argument is deprecated, use `learning_rate` instead.\")\n"
          ],
          "name": "stderr"
        },
        {
          "output_type": "stream",
          "text": [
            "Epoch 1/5000\n",
            "145/145 [==============================] - 26s 143ms/step - loss: 2.8025 - accuracy: 0.2246 - val_loss: 0.9229 - val_accuracy: 0.7466\n",
            "Epoch 2/5000\n",
            "145/145 [==============================] - 20s 135ms/step - loss: 0.9088 - accuracy: 0.7162 - val_loss: 0.5969 - val_accuracy: 0.8293\n",
            "Epoch 3/5000\n",
            "145/145 [==============================] - 20s 135ms/step - loss: 0.5302 - accuracy: 0.8242 - val_loss: 0.4187 - val_accuracy: 0.8741\n",
            "Epoch 4/5000\n",
            "145/145 [==============================] - 20s 135ms/step - loss: 0.3552 - accuracy: 0.8968 - val_loss: 0.3900 - val_accuracy: 0.8776\n",
            "Epoch 5/5000\n",
            "145/145 [==============================] - 19s 134ms/step - loss: 0.2499 - accuracy: 0.9246 - val_loss: 0.2653 - val_accuracy: 0.9207\n",
            "Epoch 6/5000\n",
            "145/145 [==============================] - 20s 135ms/step - loss: 0.1846 - accuracy: 0.9329 - val_loss: 0.2433 - val_accuracy: 0.9138\n",
            "Epoch 7/5000\n",
            "145/145 [==============================] - 20s 135ms/step - loss: 0.1715 - accuracy: 0.9389 - val_loss: 0.2116 - val_accuracy: 0.9328\n",
            "Epoch 8/5000\n",
            "145/145 [==============================] - 20s 135ms/step - loss: 0.0956 - accuracy: 0.9815 - val_loss: 0.2049 - val_accuracy: 0.9328\n",
            "Epoch 9/5000\n",
            "145/145 [==============================] - 20s 135ms/step - loss: 0.0876 - accuracy: 0.9733 - val_loss: 0.2155 - val_accuracy: 0.9414\n",
            "Epoch 10/5000\n",
            "145/145 [==============================] - 20s 135ms/step - loss: 0.0855 - accuracy: 0.9766 - val_loss: 0.2383 - val_accuracy: 0.9241\n",
            "Epoch 11/5000\n",
            "145/145 [==============================] - 20s 135ms/step - loss: 0.0895 - accuracy: 0.9694 - val_loss: 0.2014 - val_accuracy: 0.9397\n",
            "Epoch 12/5000\n",
            "145/145 [==============================] - 20s 135ms/step - loss: 0.0859 - accuracy: 0.9764 - val_loss: 0.2581 - val_accuracy: 0.9138\n",
            "Epoch 13/5000\n",
            "145/145 [==============================] - 19s 134ms/step - loss: 0.1689 - accuracy: 0.9446 - val_loss: 0.2666 - val_accuracy: 0.9172\n",
            "Epoch 14/5000\n",
            "145/145 [==============================] - 20s 135ms/step - loss: 0.0830 - accuracy: 0.9747 - val_loss: 0.2021 - val_accuracy: 0.9397\n",
            "Epoch 15/5000\n",
            "145/145 [==============================] - 20s 135ms/step - loss: 0.0398 - accuracy: 0.9896 - val_loss: 0.2543 - val_accuracy: 0.9224\n",
            "Epoch 16/5000\n",
            "145/145 [==============================] - 20s 135ms/step - loss: 0.0848 - accuracy: 0.9697 - val_loss: 0.2695 - val_accuracy: 0.9241\n"
          ],
          "name": "stdout"
        }
      ]
    },
    {
      "cell_type": "code",
      "metadata": {
        "id": "WG5B-Vvd7F1M",
        "colab": {
          "base_uri": "https://localhost:8080/"
        },
        "outputId": "583875ba-1ac6-4d0c-d01f-a8192b174cb7"
      },
      "source": [
        "model_twolayerDrop1 = Sequential()\n",
        "model_twolayerDrop1.add(base_model)\n",
        "model_twolayerDrop1.add(GlobalAveragePooling2D())\n",
        "model_twolayerDrop1.add(Dense(512,activation=\"relu\"))\n",
        "model_twolayerDrop1.add(Dropout(0.2))\n",
        "model_twolayerDrop1.add(Dense(128,activation=\"relu\"))\n",
        "model_twolayerDrop1.add(Dropout(0.1))\n",
        "model_twolayerDrop1.add(Dense(29,activation=\"softmax\"))\n",
        "\n",
        "callbacks = tf.keras.callbacks.EarlyStopping(monitor='val_loss', patience=5)\n",
        "model_twolayerDrop1.compile(loss='categorical_crossentropy', optimizer=Adam(lr=0.001), metrics=['accuracy'])\n",
        "\n",
        "history_twolayerDrop1 = model_twolayerDrop1.fit(train_gen, validation_data = val_gen, epochs = 5000, \n",
        "                    callbacks = [callbacks], verbose = 1)\n",
        "\n",
        "#loss: 0.1375 - accuracy: 0.9573 - val_loss: 0.2442 - val_accuracy: 0.9276"
      ],
      "execution_count": null,
      "outputs": [
        {
          "output_type": "stream",
          "text": [
            "/usr/local/lib/python3.7/dist-packages/tensorflow/python/keras/optimizer_v2/optimizer_v2.py:375: UserWarning: The `lr` argument is deprecated, use `learning_rate` instead.\n",
            "  \"The `lr` argument is deprecated, use `learning_rate` instead.\")\n"
          ],
          "name": "stderr"
        },
        {
          "output_type": "stream",
          "text": [
            "Epoch 1/5000\n",
            "145/145 [==============================] - 25s 141ms/step - loss: 2.7122 - accuracy: 0.2688 - val_loss: 0.8996 - val_accuracy: 0.7431\n",
            "Epoch 2/5000\n",
            "145/145 [==============================] - 19s 134ms/step - loss: 0.7911 - accuracy: 0.7370 - val_loss: 0.5731 - val_accuracy: 0.8310\n",
            "Epoch 3/5000\n",
            "145/145 [==============================] - 20s 134ms/step - loss: 0.4955 - accuracy: 0.8367 - val_loss: 0.4100 - val_accuracy: 0.8672\n",
            "Epoch 4/5000\n",
            "145/145 [==============================] - 19s 133ms/step - loss: 0.2759 - accuracy: 0.9242 - val_loss: 0.3944 - val_accuracy: 0.8655\n",
            "Epoch 5/5000\n",
            "145/145 [==============================] - 19s 134ms/step - loss: 0.2315 - accuracy: 0.9332 - val_loss: 0.3898 - val_accuracy: 0.8672\n",
            "Epoch 6/5000\n",
            "145/145 [==============================] - 19s 133ms/step - loss: 0.1694 - accuracy: 0.9498 - val_loss: 0.3362 - val_accuracy: 0.8948\n",
            "Epoch 7/5000\n",
            "145/145 [==============================] - 19s 134ms/step - loss: 0.1375 - accuracy: 0.9573 - val_loss: 0.2442 - val_accuracy: 0.9276\n",
            "Epoch 8/5000\n",
            "145/145 [==============================] - 19s 133ms/step - loss: 0.1151 - accuracy: 0.9698 - val_loss: 0.2530 - val_accuracy: 0.9259\n",
            "Epoch 9/5000\n",
            "145/145 [==============================] - 19s 133ms/step - loss: 0.0940 - accuracy: 0.9649 - val_loss: 0.2838 - val_accuracy: 0.9138\n",
            "Epoch 10/5000\n",
            "145/145 [==============================] - 19s 133ms/step - loss: 0.0682 - accuracy: 0.9797 - val_loss: 0.2695 - val_accuracy: 0.9138\n",
            "Epoch 11/5000\n",
            "145/145 [==============================] - 19s 134ms/step - loss: 0.0709 - accuracy: 0.9731 - val_loss: 0.3318 - val_accuracy: 0.9000\n",
            "Epoch 12/5000\n",
            "145/145 [==============================] - 19s 133ms/step - loss: 0.0551 - accuracy: 0.9857 - val_loss: 0.2841 - val_accuracy: 0.9172\n"
          ],
          "name": "stdout"
        }
      ]
    },
    {
      "cell_type": "markdown",
      "metadata": {
        "id": "gmjhOWZy1Vgc"
      },
      "source": [
        "### With Three Hidden Layer"
      ]
    },
    {
      "cell_type": "markdown",
      "metadata": {
        "id": "34HnT9OVQiCw"
      },
      "source": [
        "#### Without Dropout"
      ]
    },
    {
      "cell_type": "code",
      "metadata": {
        "id": "6j-JvI7l391K",
        "colab": {
          "base_uri": "https://localhost:8080/"
        },
        "outputId": "1d6e431f-554f-4961-f1c1-6e597a73fabb"
      },
      "source": [
        "model_threelayer = Sequential()\n",
        "model_threelayer.add(base_model)\n",
        "model_threelayer.add(GlobalAveragePooling2D())\n",
        "model_threelayer.add(Dense(256,activation=\"relu\"))\n",
        "model_threelayer.add(Dense(128,activation=\"relu\"))\n",
        "model_threelayer.add(Dense(64,activation=\"relu\"))\n",
        "model_threelayer.add(Dense(29,activation=\"softmax\"))\n",
        "\n",
        "callbacks = tf.keras.callbacks.EarlyStopping(monitor='val_loss', patience=5)\n",
        "model_threelayer.compile(loss='categorical_crossentropy', optimizer=Adam(lr=0.001), metrics=['accuracy'])\n",
        "\n",
        "history_threelayer = model_threelayer.fit(train_gen, validation_data = val_gen, epochs = 5000, \n",
        "                    callbacks = [callbacks], verbose = 1)\n",
        "\n",
        " #loss: 0.0747 - accuracy: 0.9825 - val_loss: 0.2887 - val_accuracy: 0.9172"
      ],
      "execution_count": null,
      "outputs": [
        {
          "output_type": "stream",
          "text": [
            "/usr/local/lib/python3.7/dist-packages/tensorflow/python/keras/optimizer_v2/optimizer_v2.py:375: UserWarning: The `lr` argument is deprecated, use `learning_rate` instead.\n",
            "  \"The `lr` argument is deprecated, use `learning_rate` instead.\")\n"
          ],
          "name": "stderr"
        },
        {
          "output_type": "stream",
          "text": [
            "Epoch 1/5000\n",
            "145/145 [==============================] - 25s 141ms/step - loss: 2.6167 - accuracy: 0.2761 - val_loss: 0.8811 - val_accuracy: 0.7276\n",
            "Epoch 2/5000\n",
            "145/145 [==============================] - 19s 133ms/step - loss: 0.6539 - accuracy: 0.7968 - val_loss: 0.5434 - val_accuracy: 0.8431\n",
            "Epoch 3/5000\n",
            "145/145 [==============================] - 19s 133ms/step - loss: 0.3184 - accuracy: 0.8971 - val_loss: 0.4952 - val_accuracy: 0.8379\n",
            "Epoch 4/5000\n",
            "145/145 [==============================] - 19s 134ms/step - loss: 0.2010 - accuracy: 0.9397 - val_loss: 0.3531 - val_accuracy: 0.8862\n",
            "Epoch 5/5000\n",
            "145/145 [==============================] - 19s 133ms/step - loss: 0.1047 - accuracy: 0.9696 - val_loss: 0.3669 - val_accuracy: 0.8707\n",
            "Epoch 6/5000\n",
            "145/145 [==============================] - 19s 134ms/step - loss: 0.0747 - accuracy: 0.9825 - val_loss: 0.2887 - val_accuracy: 0.9172\n",
            "Epoch 7/5000\n",
            "145/145 [==============================] - 19s 133ms/step - loss: 0.0410 - accuracy: 0.9926 - val_loss: 0.3066 - val_accuracy: 0.9103\n",
            "Epoch 8/5000\n",
            "145/145 [==============================] - 19s 133ms/step - loss: 0.0555 - accuracy: 0.9845 - val_loss: 0.3025 - val_accuracy: 0.9155\n",
            "Epoch 9/5000\n",
            "145/145 [==============================] - 19s 133ms/step - loss: 0.0337 - accuracy: 0.9929 - val_loss: 0.3560 - val_accuracy: 0.8828\n",
            "Epoch 10/5000\n",
            "145/145 [==============================] - 19s 132ms/step - loss: 0.0831 - accuracy: 0.9705 - val_loss: 0.3922 - val_accuracy: 0.8741\n",
            "Epoch 11/5000\n",
            "145/145 [==============================] - 19s 133ms/step - loss: 0.0777 - accuracy: 0.9757 - val_loss: 0.3699 - val_accuracy: 0.9155\n"
          ],
          "name": "stdout"
        }
      ]
    },
    {
      "cell_type": "code",
      "metadata": {
        "colab": {
          "base_uri": "https://localhost:8080/"
        },
        "id": "kgMkrzNaQbt3",
        "outputId": "3f7e2257-1053-4876-eda0-04400cc750bc"
      },
      "source": [
        "model_threelayerDropN1 = Sequential()\n",
        "model_threelayerDropN1.add(base_model)\n",
        "model_threelayerDropN1.add(GlobalAveragePooling2D())\n",
        "model_threelayerDropN1.add(Dense(512,activation=\"relu\"))\n",
        "model_threelayerDropN1.add(Dense(256,activation=\"relu\"))\n",
        "model_threelayerDropN1.add(Dense(64,activation=\"relu\"))\n",
        "model_threelayerDropN1.add(Dense(29,activation=\"softmax\"))\n",
        "\n",
        "callbacks = tf.keras.callbacks.EarlyStopping(monitor='val_loss', patience=5)\n",
        "model_threelayerDropN1.compile(loss='categorical_crossentropy', optimizer=Adam(lr=0.001), metrics=['accuracy'])\n",
        "\n",
        "history_threelayerDropN1 = model_threelayerDropN1.fit(train_gen, validation_data = val_gen, epochs = 5000, \n",
        "                    callbacks = [callbacks], verbose = 1)\n",
        "\n",
        "#loss: 0.0554 - accuracy: 0.9803 - val_loss: 0.2849 - val_accuracy: 0.9259"
      ],
      "execution_count": null,
      "outputs": [
        {
          "output_type": "stream",
          "text": [
            "/usr/local/lib/python3.7/dist-packages/tensorflow/python/keras/optimizer_v2/optimizer_v2.py:375: UserWarning: The `lr` argument is deprecated, use `learning_rate` instead.\n",
            "  \"The `lr` argument is deprecated, use `learning_rate` instead.\")\n"
          ],
          "name": "stderr"
        },
        {
          "output_type": "stream",
          "text": [
            "Epoch 1/5000\n",
            "145/145 [==============================] - 26s 146ms/step - loss: 2.6172 - accuracy: 0.2735 - val_loss: 0.9048 - val_accuracy: 0.7310\n",
            "Epoch 2/5000\n",
            "145/145 [==============================] - 19s 134ms/step - loss: 0.5941 - accuracy: 0.8290 - val_loss: 0.6026 - val_accuracy: 0.8017\n",
            "Epoch 3/5000\n",
            "145/145 [==============================] - 19s 134ms/step - loss: 0.2942 - accuracy: 0.9102 - val_loss: 0.5453 - val_accuracy: 0.8466\n",
            "Epoch 4/5000\n",
            "145/145 [==============================] - 19s 133ms/step - loss: 0.1854 - accuracy: 0.9422 - val_loss: 0.3214 - val_accuracy: 0.9069\n",
            "Epoch 5/5000\n",
            "145/145 [==============================] - 19s 134ms/step - loss: 0.0937 - accuracy: 0.9751 - val_loss: 0.3077 - val_accuracy: 0.8966\n",
            "Epoch 6/5000\n",
            "145/145 [==============================] - 19s 134ms/step - loss: 0.1073 - accuracy: 0.9667 - val_loss: 0.2728 - val_accuracy: 0.9259\n",
            "Epoch 7/5000\n",
            "145/145 [==============================] - 19s 133ms/step - loss: 0.0295 - accuracy: 0.9915 - val_loss: 0.4269 - val_accuracy: 0.8776\n",
            "Epoch 8/5000\n",
            "145/145 [==============================] - 19s 133ms/step - loss: 0.0655 - accuracy: 0.9857 - val_loss: 0.3491 - val_accuracy: 0.8931\n",
            "Epoch 9/5000\n",
            "145/145 [==============================] - 19s 133ms/step - loss: 0.0872 - accuracy: 0.9750 - val_loss: 0.3918 - val_accuracy: 0.8931\n",
            "Epoch 10/5000\n",
            "145/145 [==============================] - 19s 133ms/step - loss: 0.1138 - accuracy: 0.9724 - val_loss: 0.3220 - val_accuracy: 0.9224\n",
            "Epoch 11/5000\n",
            "145/145 [==============================] - 19s 133ms/step - loss: 0.0554 - accuracy: 0.9803 - val_loss: 0.2849 - val_accuracy: 0.9259\n"
          ],
          "name": "stdout"
        }
      ]
    },
    {
      "cell_type": "markdown",
      "metadata": {
        "id": "bVjPSpa4QmVt"
      },
      "source": [
        "####With Droput"
      ]
    },
    {
      "cell_type": "code",
      "metadata": {
        "id": "a3nhahWi6xU3",
        "colab": {
          "base_uri": "https://localhost:8080/"
        },
        "outputId": "b697ffeb-b883-4c77-ced2-ec2a23e88ce2"
      },
      "source": [
        "model_threelayerDrop = Sequential()\n",
        "model_threelayerDrop.add(base_model)\n",
        "model_threelayerDrop.add(GlobalAveragePooling2D())\n",
        "model_threelayerDrop.add(Dense(256,activation=\"relu\"))\n",
        "model.add(Dropout(0.2))\n",
        "model_threelayerDrop.add(Dense(128,activation=\"relu\"))\n",
        "model.add(Dropout(0.1))\n",
        "model_threelayerDrop.add(Dense(64,activation=\"relu\"))\n",
        "model.add(Dropout(0.1))\n",
        "model_threelayerDrop.add(Dense(29,activation=\"softmax\"))\n",
        "\n",
        "callbacks = tf.keras.callbacks.EarlyStopping(monitor='val_loss', patience=5)\n",
        "model_threelayerDrop.compile(loss='categorical_crossentropy', optimizer=Adam(lr=0.001), metrics=['accuracy'])\n",
        "\n",
        "history_threelayerDrop = model_threelayerDrop.fit(train_gen, validation_data = val_gen, epochs = 5000, \n",
        "                    callbacks = [callbacks], verbose = 1)\n",
        "\n",
        "#loss: 0.0427 - accuracy: 0.9887 - val_loss: 0.2719 - val_accuracy: 0.9345"
      ],
      "execution_count": null,
      "outputs": [
        {
          "output_type": "stream",
          "text": [
            "/usr/local/lib/python3.7/dist-packages/tensorflow/python/keras/optimizer_v2/optimizer_v2.py:375: UserWarning: The `lr` argument is deprecated, use `learning_rate` instead.\n",
            "  \"The `lr` argument is deprecated, use `learning_rate` instead.\")\n"
          ],
          "name": "stderr"
        },
        {
          "output_type": "stream",
          "text": [
            "Epoch 1/5000\n",
            "145/145 [==============================] - 25s 142ms/step - loss: 2.7629 - accuracy: 0.2484 - val_loss: 1.0790 - val_accuracy: 0.6328\n",
            "Epoch 2/5000\n",
            "145/145 [==============================] - 19s 134ms/step - loss: 0.7022 - accuracy: 0.7842 - val_loss: 0.5994 - val_accuracy: 0.8121\n",
            "Epoch 3/5000\n",
            "145/145 [==============================] - 19s 133ms/step - loss: 0.3134 - accuracy: 0.9099 - val_loss: 0.4712 - val_accuracy: 0.8603\n",
            "Epoch 4/5000\n",
            "145/145 [==============================] - 19s 133ms/step - loss: 0.2041 - accuracy: 0.9334 - val_loss: 0.3176 - val_accuracy: 0.9052\n",
            "Epoch 5/5000\n",
            "145/145 [==============================] - 19s 133ms/step - loss: 0.1004 - accuracy: 0.9786 - val_loss: 0.2832 - val_accuracy: 0.9172\n",
            "Epoch 6/5000\n",
            "145/145 [==============================] - 19s 133ms/step - loss: 0.0646 - accuracy: 0.9846 - val_loss: 0.4092 - val_accuracy: 0.8793\n",
            "Epoch 7/5000\n",
            "145/145 [==============================] - 19s 133ms/step - loss: 0.0843 - accuracy: 0.9734 - val_loss: 0.3520 - val_accuracy: 0.8931\n",
            "Epoch 8/5000\n",
            "145/145 [==============================] - 19s 134ms/step - loss: 0.0779 - accuracy: 0.9770 - val_loss: 0.2904 - val_accuracy: 0.9190\n",
            "Epoch 9/5000\n",
            "145/145 [==============================] - 19s 133ms/step - loss: 0.0157 - accuracy: 0.9972 - val_loss: 0.2047 - val_accuracy: 0.9483\n",
            "Epoch 10/5000\n",
            "145/145 [==============================] - 19s 134ms/step - loss: 0.0170 - accuracy: 0.9966 - val_loss: 0.2946 - val_accuracy: 0.9190\n",
            "Epoch 11/5000\n",
            "145/145 [==============================] - 19s 133ms/step - loss: 0.0427 - accuracy: 0.9887 - val_loss: 0.2719 - val_accuracy: 0.9345\n",
            "Epoch 12/5000\n",
            "145/145 [==============================] - 19s 133ms/step - loss: 0.0577 - accuracy: 0.9856 - val_loss: 0.3452 - val_accuracy: 0.9069\n",
            "Epoch 13/5000\n",
            "145/145 [==============================] - 19s 133ms/step - loss: 0.0670 - accuracy: 0.9800 - val_loss: 0.3839 - val_accuracy: 0.9103\n",
            "Epoch 14/5000\n",
            "145/145 [==============================] - 19s 132ms/step - loss: 0.1098 - accuracy: 0.9605 - val_loss: 0.4601 - val_accuracy: 0.8983\n"
          ],
          "name": "stdout"
        }
      ]
    },
    {
      "cell_type": "code",
      "metadata": {
        "id": "GowhellK8fmv",
        "colab": {
          "base_uri": "https://localhost:8080/"
        },
        "outputId": "a58e3f7c-1323-46e7-837b-fa2e25e11a1b"
      },
      "source": [
        "model_threelayerDropN1 = Sequential()\n",
        "model_threelayerDropN1.add(base_model)\n",
        "model_threelayerDropN1.add(GlobalAveragePooling2D())\n",
        "model_threelayerDropN1.add(Dense(512,activation=\"relu\"))\n",
        "model_threelayerDropN1.add(Dropout(0.2))\n",
        "model_threelayerDropN1.add(Dense(256,activation=\"relu\"))\n",
        "model_threelayerDropN1.add(Dropout(0.1))\n",
        "model_threelayerDropN1.add(Dense(64,activation=\"relu\"))\n",
        "model_threelayerDropN1.add(Dropout(0.1))\n",
        "model_threelayerDropN1.add(Dense(29,activation=\"softmax\"))\n",
        "\n",
        "callbacks = tf.keras.callbacks.EarlyStopping(monitor='val_loss', patience=5)\n",
        "model_threelayerDropN1.compile(loss='categorical_crossentropy', optimizer=Adam(lr=0.001), metrics=['accuracy'])\n",
        "\n",
        "history_threelayerDropN1 = model_threelayerDropN1.fit(train_gen, validation_data = val_gen, epochs = 5000, \n",
        "                    callbacks = [callbacks], verbose = 1)\n",
        "\n",
        "#loss: 0.0868 - accuracy: 0.9687 - val_loss: 0.2340 - val_accuracy: 0.9397"
      ],
      "execution_count": null,
      "outputs": [
        {
          "output_type": "stream",
          "text": [
            "/usr/local/lib/python3.7/dist-packages/tensorflow/python/keras/optimizer_v2/optimizer_v2.py:375: UserWarning: The `lr` argument is deprecated, use `learning_rate` instead.\n",
            "  \"The `lr` argument is deprecated, use `learning_rate` instead.\")\n"
          ],
          "name": "stderr"
        },
        {
          "output_type": "stream",
          "text": [
            "Epoch 1/5000\n",
            "145/145 [==============================] - 25s 141ms/step - loss: 3.0267 - accuracy: 0.1616 - val_loss: 1.4087 - val_accuracy: 0.5828\n",
            "Epoch 2/5000\n",
            "145/145 [==============================] - 19s 133ms/step - loss: 1.2793 - accuracy: 0.5930 - val_loss: 0.6971 - val_accuracy: 0.7810\n",
            "Epoch 3/5000\n",
            "145/145 [==============================] - 19s 133ms/step - loss: 0.7450 - accuracy: 0.7453 - val_loss: 0.5662 - val_accuracy: 0.8052\n",
            "Epoch 4/5000\n",
            "145/145 [==============================] - 19s 133ms/step - loss: 0.4998 - accuracy: 0.8279 - val_loss: 0.4193 - val_accuracy: 0.8655\n",
            "Epoch 5/5000\n",
            "145/145 [==============================] - 19s 133ms/step - loss: 0.3170 - accuracy: 0.8997 - val_loss: 0.3403 - val_accuracy: 0.8966\n",
            "Epoch 6/5000\n",
            "145/145 [==============================] - 19s 133ms/step - loss: 0.2707 - accuracy: 0.9116 - val_loss: 0.4299 - val_accuracy: 0.8845\n",
            "Epoch 7/5000\n",
            "145/145 [==============================] - 19s 133ms/step - loss: 0.1933 - accuracy: 0.9369 - val_loss: 0.3342 - val_accuracy: 0.8897\n",
            "Epoch 8/5000\n",
            "145/145 [==============================] - 19s 133ms/step - loss: 0.1698 - accuracy: 0.9471 - val_loss: 0.3139 - val_accuracy: 0.9207\n",
            "Epoch 9/5000\n",
            "145/145 [==============================] - 19s 133ms/step - loss: 0.1626 - accuracy: 0.9450 - val_loss: 0.2854 - val_accuracy: 0.9121\n",
            "Epoch 10/5000\n",
            "145/145 [==============================] - 19s 133ms/step - loss: 0.1401 - accuracy: 0.9621 - val_loss: 0.2414 - val_accuracy: 0.9207\n",
            "Epoch 11/5000\n",
            "145/145 [==============================] - 20s 134ms/step - loss: 0.1462 - accuracy: 0.9551 - val_loss: 0.3125 - val_accuracy: 0.9138\n",
            "Epoch 12/5000\n",
            "145/145 [==============================] - 19s 134ms/step - loss: 0.0868 - accuracy: 0.9687 - val_loss: 0.2340 - val_accuracy: 0.9397\n",
            "Epoch 13/5000\n",
            "145/145 [==============================] - 19s 134ms/step - loss: 0.0879 - accuracy: 0.9705 - val_loss: 0.2919 - val_accuracy: 0.9241\n",
            "Epoch 14/5000\n",
            "145/145 [==============================] - 19s 134ms/step - loss: 0.0931 - accuracy: 0.9711 - val_loss: 0.4315 - val_accuracy: 0.8793\n",
            "Epoch 15/5000\n",
            "145/145 [==============================] - 19s 134ms/step - loss: 0.1829 - accuracy: 0.9460 - val_loss: 0.3188 - val_accuracy: 0.9155\n",
            "Epoch 16/5000\n",
            "145/145 [==============================] - 19s 134ms/step - loss: 0.0889 - accuracy: 0.9706 - val_loss: 0.5337 - val_accuracy: 0.8724\n",
            "Epoch 17/5000\n",
            "145/145 [==============================] - 19s 134ms/step - loss: 0.1474 - accuracy: 0.9534 - val_loss: 0.2504 - val_accuracy: 0.9259\n"
          ],
          "name": "stdout"
        }
      ]
    },
    {
      "cell_type": "markdown",
      "metadata": {
        "id": "OcTNIW84TBns"
      },
      "source": [
        "##Activation function"
      ]
    },
    {
      "cell_type": "code",
      "metadata": {
        "id": "Hbi3jE1FTMN0"
      },
      "source": [
        "model_onelayer = Sequential()\n",
        "model_onelayer.add(base_model)\n",
        "model_onelayer.add(GlobalAveragePooling2D())\n",
        "model_onelayer.add(Dense(256,activation=\"relu\"))\n",
        "model_onelayer.add(Dense(29,activation=\"softmax\"))\n",
        "\n",
        "\n",
        "callbacks = tf.keras.callbacks.EarlyStopping(monitor='val_loss', patience=5)\n",
        "model_onelayer.compile(loss='categorical_crossentropy', optimizer=Adam(lr=0.001), metrics=['accuracy'])\n",
        "\n",
        "history_onelayer = model_onelayer.fit(train_gen, validation_data = val_gen, epochs = 5000, \n",
        "                    callbacks = [callbacks], verbose = 1)\n",
        "\n",
        "#loss: 0.0012 - accuracy: 1.0000 - val_loss: 0.1626 - val_accuracy: 0.9603"
      ],
      "execution_count": null,
      "outputs": []
    },
    {
      "cell_type": "code",
      "metadata": {
        "id": "BkhkVKMETM99"
      },
      "source": [
        "model_onelayera = Sequential()\n",
        "model_onelayera.add(base_model)\n",
        "model_onelayera.add(GlobalAveragePooling2D())\n",
        "model_onelayera.add(Dense(256,activation=\"sigmoid\"))\n",
        "model_onelayera.add(Dense(29,activation=\"softmax\"))\n",
        "\n",
        "\n",
        "callbacks = tf.keras.callbacks.EarlyStopping(monitor='val_loss', patience=5)\n",
        "model_onelayera.compile(loss='categorical_crossentropy', optimizer=Adam(lr=0.001), metrics=['accuracy'])\n",
        "\n",
        "history_onelayera = model_onelayera.fit(train_gen, validation_data = val_gen, epochs = 5000, \n",
        "                    callbacks = [callbacks], verbose = 1)\n",
        "\n",
        "#loss: 0.0029 - accuracy: 1.0000 - val_loss: 0.1211 - val_accuracy: 0.9690\n"
      ],
      "execution_count": null,
      "outputs": []
    },
    {
      "cell_type": "code",
      "metadata": {
        "id": "Is1WwM9OTZm-"
      },
      "source": [
        "lrelu = lambda x: tf.keras.activations.relu(x, alpha=0.1)\n",
        "\n",
        "model_onelayera = Sequential()\n",
        "model_onelayera.add(base_model)\n",
        "model_onelayera.add(GlobalAveragePooling2D())\n",
        "model_onelayera.add(Dense(256,activation=lrelu))\n",
        "model_onelayera.add(Dense(29,activation=\"softmax\"))\n",
        "\n",
        "\n",
        "callbacks = tf.keras.callbacks.EarlyStopping(monitor='val_loss', patience=5)\n",
        "model_onelayera.compile(loss='categorical_crossentropy', optimizer=Adam(lr=0.001), metrics=['accuracy'])\n",
        "\n",
        "history_onelayera = model_onelayera.fit(train_gen, validation_data = val_gen, epochs = 5000, \n",
        "                    callbacks = [callbacks], verbose = 1)\n",
        "#loss: 5.6412e-04 - accuracy: 1.0000 - val_loss: 0.1417 - val_accuracy: 0.9690"
      ],
      "execution_count": null,
      "outputs": []
    },
    {
      "cell_type": "markdown",
      "metadata": {
        "id": "Pc1PiQbiShTN"
      },
      "source": [
        "#Final Model"
      ]
    },
    {
      "cell_type": "code",
      "metadata": {
        "id": "0axXvQ9QSkhC"
      },
      "source": [
        "model_onelayera = Sequential()\n",
        "model_onelayera.add(base_model)\n",
        "model_onelayera.add(GlobalAveragePooling2D())\n",
        "model_onelayera.add(Dense(256,activation=\"sigmoid\"))\n",
        "model_onelayera.add(Dense(29,activation=\"softmax\"))\n",
        "\n",
        "\n",
        "callbacks = tf.keras.callbacks.EarlyStopping(monitor='val_loss', patience=5)\n",
        "model_onelayera.compile(loss='categorical_crossentropy', optimizer=Adam(lr=0.001), metrics=['accuracy'])\n",
        "\n",
        "history_onelayera = model_onelayera.fit(train_gen, validation_data = val_gen, epochs = 5000, \n",
        "                    callbacks = [callbacks], verbose = 1)\n",
        "\n",
        "#accuracy: 1.0000 - val_loss: 0.1424 - val_accuracy: 0.9655"
      ],
      "execution_count": null,
      "outputs": []
    },
    {
      "cell_type": "markdown",
      "metadata": {
        "id": "Yl8cMNtlVivX"
      },
      "source": [
        "#Prediction"
      ]
    },
    {
      "cell_type": "code",
      "metadata": {
        "colab": {
          "base_uri": "https://localhost:8080/"
        },
        "id": "ZWDwR6TE_fBv",
        "outputId": "112aea21-0909-44c9-e7ce-f36f0fb5feab"
      },
      "source": [
        "predictions = model.predict(test_gen)\n",
        "predictions"
      ],
      "execution_count": null,
      "outputs": [
        {
          "output_type": "execute_result",
          "data": {
            "text/plain": [
              "array([[5.50311673e-15, 1.10757009e-16, 2.30155641e-34, ...,\n",
              "        0.00000000e+00, 0.00000000e+00, 0.00000000e+00],\n",
              "       [1.53641610e-27, 1.00000000e+00, 1.51939635e-28, ...,\n",
              "        3.36206767e-35, 0.00000000e+00, 0.00000000e+00],\n",
              "       [6.36826320e-21, 1.79483006e-17, 4.32728397e-13, ...,\n",
              "        1.56764143e-10, 7.16260384e-12, 5.38871012e-17],\n",
              "       ...,\n",
              "       [1.01676473e-35, 4.23690326e-37, 1.11356156e-29, ...,\n",
              "        1.25388419e-22, 5.35303631e-26, 1.65880233e-30],\n",
              "       [0.00000000e+00, 5.85805541e-31, 9.99999762e-01, ...,\n",
              "        2.65735782e-16, 2.04538674e-31, 4.64882017e-22],\n",
              "       [7.28972037e-23, 7.81090749e-26, 8.22732837e-20, ...,\n",
              "        8.84681252e-23, 4.06047825e-18, 4.47299201e-24]], dtype=float32)"
            ]
          },
          "metadata": {
            "tags": []
          },
          "execution_count": 38
        }
      ]
    },
    {
      "cell_type": "code",
      "metadata": {
        "id": "dkoICprx_x48"
      },
      "source": [
        "preds = np.argmax(predictions, axis=1 )\n",
        "labels = train_gen.class_indices\n",
        "labels\n"
      ],
      "execution_count": null,
      "outputs": []
    },
    {
      "cell_type": "code",
      "metadata": {
        "id": "XN4i0wroFK9e"
      },
      "source": [
        "\n",
        "labels = dict((v,k) for k,v in labels.items())\n",
        "preds = [labels[k] for k in preds]"
      ],
      "execution_count": null,
      "outputs": []
    },
    {
      "cell_type": "markdown",
      "metadata": {
        "id": "TeDstB5JVTQD"
      },
      "source": [
        "#Uploading"
      ]
    },
    {
      "cell_type": "code",
      "metadata": {
        "id": "w3jfeQ-sG8g5"
      },
      "source": [
        "\n",
        "new = []\n",
        "for each in test_gen.filenames:\n",
        "  a = each[66::]\n",
        "  a = int(a.strip(\".jpg\"))\n",
        "  new.append(a)"
      ],
      "execution_count": null,
      "outputs": []
    },
    {
      "cell_type": "code",
      "metadata": {
        "id": "YUWJoC1oPhgX"
      },
      "source": [
        "\n",
        "last = pd.DataFrame({'Id':new, 'Prediction':preds} )\n",
        "\n",
        "last = last.sort_values(\"Id\")"
      ],
      "execution_count": null,
      "outputs": []
    },
    {
      "cell_type": "code",
      "metadata": {
        "id": "6pBpoVJlTFJM"
      },
      "source": [
        "last.to_csv(\"submission.csv\" , index = False)"
      ],
      "execution_count": null,
      "outputs": []
    },
    {
      "cell_type": "code",
      "metadata": {
        "colab": {
          "base_uri": "https://localhost:8080/"
        },
        "id": "-QW6qJFfHtkE",
        "outputId": "c2ff6ff8-bcf6-4945-cc94-f9bca80e8f1d"
      },
      "source": [
        "from sklearn.metrics import accuracy_score\n",
        "accuracy_score(smp.Image_label, preds)"
      ],
      "execution_count": null,
      "outputs": [
        {
          "output_type": "execute_result",
          "data": {
            "text/plain": [
              "0.98"
            ]
          },
          "metadata": {
            "tags": []
          },
          "execution_count": 163
        }
      ]
    }
  ]
}