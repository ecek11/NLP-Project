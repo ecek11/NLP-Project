{
  "nbformat": 4,
  "nbformat_minor": 0,
  "metadata": {
    "colab": {
      "name": "Cs412_Best_Model",
      "provenance": [],
      "collapsed_sections": [
        "xJ8cAOX8Xs9h",
        "Yl8cMNtlVivX"
      ]
    },
    "kernelspec": {
      "name": "python3",
      "display_name": "Python 3"
    },
    "language_info": {
      "name": "python"
    },
    "accelerator": "GPU"
  },
  "cells": [
    {
      "cell_type": "markdown",
      "metadata": {
        "id": "Afcv0mnUWtEb"
      },
      "source": [
        "#Importing libraries"
      ]
    },
    {
      "cell_type": "code",
      "metadata": {
        "id": "EigtJy7cF-FJ"
      },
      "source": [
        "import numpy as np\n",
        "import pandas as pd\n",
        "import time\n",
        "from matplotlib import pyplot as plt\n",
        "from sklearn.model_selection import train_test_split\n",
        "from os.path import join\n",
        "import os\n",
        "from tqdm import tqdm"
      ],
      "execution_count": 4,
      "outputs": []
    },
    {
      "cell_type": "code",
      "metadata": {
        "colab": {
          "base_uri": "https://localhost:8080/"
        },
        "id": "Yxt9fsaW3DRD",
        "outputId": "625cfcae-e485-4ef7-ed73-5941312cb13c"
      },
      "source": [
        "!nvidia-smi"
      ],
      "execution_count": 5,
      "outputs": [
        {
          "output_type": "stream",
          "text": [
            "Wed Jun  9 17:09:31 2021       \n",
            "+-----------------------------------------------------------------------------+\n",
            "| NVIDIA-SMI 465.27       Driver Version: 460.32.03    CUDA Version: 11.2     |\n",
            "|-------------------------------+----------------------+----------------------+\n",
            "| GPU  Name        Persistence-M| Bus-Id        Disp.A | Volatile Uncorr. ECC |\n",
            "| Fan  Temp  Perf  Pwr:Usage/Cap|         Memory-Usage | GPU-Util  Compute M. |\n",
            "|                               |                      |               MIG M. |\n",
            "|===============================+======================+======================|\n",
            "|   0  Tesla T4            Off  | 00000000:00:04.0 Off |                    0 |\n",
            "| N/A   36C    P8     9W /  70W |      0MiB / 15109MiB |      0%      Default |\n",
            "|                               |                      |                  N/A |\n",
            "+-------------------------------+----------------------+----------------------+\n",
            "                                                                               \n",
            "+-----------------------------------------------------------------------------+\n",
            "| Processes:                                                                  |\n",
            "|  GPU   GI   CI        PID   Type   Process name                  GPU Memory |\n",
            "|        ID   ID                                                   Usage      |\n",
            "|=============================================================================|\n",
            "|  No running processes found                                                 |\n",
            "+-----------------------------------------------------------------------------+\n"
          ],
          "name": "stdout"
        }
      ]
    },
    {
      "cell_type": "code",
      "metadata": {
        "id": "4xquwbymI0V4"
      },
      "source": [
        "import keras\n",
        "from keras.layers import Dense, Dropout, Activation, Flatten, Conv2D, MaxPooling2D, Lambda, MaxPool2D, BatchNormalization\n",
        "from keras.utils import np_utils\n",
        "from keras.utils.np_utils import to_categorical\n",
        "from keras.preprocessing.image import ImageDataGenerator\n",
        "from keras import models, layers, optimizers\n",
        "from sklearn.model_selection import train_test_split\n",
        "from sklearn.metrics import confusion_matrix, accuracy_score\n",
        "from sklearn.utils import class_weight\n",
        "from keras.optimizers import SGD, RMSprop, Adam, Adagrad, Adadelta, RMSprop\n",
        "from keras.models import Sequential, model_from_json\n",
        "from keras.layers import Activation,Dense, Dropout, Flatten, Conv2D, MaxPool2D,MaxPooling2D,AveragePooling2D, BatchNormalization,GlobalAveragePooling2D\n",
        "from keras.preprocessing.image import ImageDataGenerator\n",
        "from keras.callbacks import ReduceLROnPlateau, ModelCheckpoint\n",
        "from keras import backend as K\n",
        "from keras.applications.vgg16 import VGG16\n",
        "from keras.models import Model\n",
        "from keras.applications.inception_v3 import InceptionV3\n",
        "import os\n",
        "from glob import glob\n",
        "import matplotlib.pyplot as plt\n",
        "import random\n",
        "import cv2\n",
        "import pandas as pd\n",
        "import numpy as np\n",
        "import matplotlib.gridspec as gridspec\n",
        "import seaborn as sns\n",
        "import zlib\n",
        "import itertools\n",
        "import sklearn\n",
        "import itertools\n",
        "import scipy\n",
        "import skimage\n",
        "from skimage.transform import resize\n",
        "import csv\n",
        "from tqdm import tqdm\n",
        "from sklearn import model_selection\n",
        "from sklearn.model_selection import train_test_split, learning_curve,KFold,cross_val_score,StratifiedKFold\n",
        "from sklearn.utils import class_weight\n",
        "from sklearn.metrics import confusion_matrix\n",
        "from imblearn.over_sampling import RandomOverSampler\n",
        "from imblearn.under_sampling import RandomUnderSampler\n",
        "\n",
        "%matplotlib inline"
      ],
      "execution_count": 6,
      "outputs": []
    },
    {
      "cell_type": "code",
      "metadata": {
        "id": "74zljnrbuBIL",
        "colab": {
          "base_uri": "https://localhost:8080/"
        },
        "outputId": "9bbc43b5-8795-49bc-ec3b-17650938cc03"
      },
      "source": [
        "from google.colab import drive\n",
        "drive.mount('/content/drive')"
      ],
      "execution_count": 7,
      "outputs": [
        {
          "output_type": "stream",
          "text": [
            "Mounted at /content/drive\n"
          ],
          "name": "stdout"
        }
      ]
    },
    {
      "cell_type": "code",
      "metadata": {
        "id": "DrGOYeJl9TUN"
      },
      "source": [
        "from pathlib import Path"
      ],
      "execution_count": 8,
      "outputs": []
    },
    {
      "cell_type": "code",
      "metadata": {
        "id": "jKWTO2Okm3-v"
      },
      "source": [
        "import tensorflow as tf"
      ],
      "execution_count": 9,
      "outputs": []
    },
    {
      "cell_type": "markdown",
      "metadata": {
        "id": "O0bE-JKhWiwY"
      },
      "source": [
        "#Loading JPG Data"
      ]
    },
    {
      "cell_type": "markdown",
      "metadata": {
        "id": "r_gqprKWW2IS"
      },
      "source": [
        "##TRAIN DATA"
      ]
    },
    {
      "cell_type": "code",
      "metadata": {
        "id": "74xq05mAW6OQ"
      },
      "source": [
        "\n",
        "train_dir = Path( \"/content/drive/MyDrive/Cs412Projectdata/train_data/\")"
      ],
      "execution_count": 10,
      "outputs": []
    },
    {
      "cell_type": "code",
      "metadata": {
        "id": "idrnzXb0faM3",
        "colab": {
          "base_uri": "https://localhost:8080/"
        },
        "outputId": "48837d52-08b2-4cc5-ce81-7e29d54815f0"
      },
      "source": [
        "train_dir.glob(r'**/*.jpg')\n"
      ],
      "execution_count": 11,
      "outputs": [
        {
          "output_type": "execute_result",
          "data": {
            "text/plain": [
              "<generator object Path.glob at 0x7fd08aaa3450>"
            ]
          },
          "metadata": {
            "tags": []
          },
          "execution_count": 11
        }
      ]
    },
    {
      "cell_type": "code",
      "metadata": {
        "id": "kbQ03XzmXKsY"
      },
      "source": [
        "filepath = list(train_dir.glob(r'**/*.jpg'))"
      ],
      "execution_count": 13,
      "outputs": []
    },
    {
      "cell_type": "code",
      "metadata": {
        "id": "VDsAyhmh-1Gc"
      },
      "source": [
        "classes = list(map(lambda x: os.path.split(os.path.split(x)[0])[1],filepath))"
      ],
      "execution_count": 14,
      "outputs": []
    },
    {
      "cell_type": "code",
      "metadata": {
        "id": "FINm-2j8_HE1"
      },
      "source": [
        "df = pd.concat([pd.Series(filepath).astype(str), pd.Series(classes)], axis=1)\n",
        "df.columns = ['Images', 'Image_label']"
      ],
      "execution_count": 15,
      "outputs": []
    },
    {
      "cell_type": "code",
      "metadata": {
        "id": "SCfBix7b_Ivm"
      },
      "source": [
        "sample_size = 750\n",
        "df = df.groupby(\"Image_label\").sample(n=sample_size)"
      ],
      "execution_count": 16,
      "outputs": []
    },
    {
      "cell_type": "markdown",
      "metadata": {
        "id": "l_sf0FXhXaGT"
      },
      "source": [
        "##TEST DATA"
      ]
    },
    {
      "cell_type": "code",
      "metadata": {
        "id": "092F1zA7JP1R"
      },
      "source": [
        "\n",
        "test_dir = Path(\"/content/drive/MyDrive/Cs412Projectdata/nonlabeled_test2/\")\n"
      ],
      "execution_count": 23,
      "outputs": []
    },
    {
      "cell_type": "code",
      "metadata": {
        "colab": {
          "base_uri": "https://localhost:8080/"
        },
        "id": "0ce2-0ThXGn7",
        "outputId": "687575ba-ad32-4a1a-fd13-206668eaf8fb"
      },
      "source": [
        "test_dir.glob(r'**/*.jpg')"
      ],
      "execution_count": 24,
      "outputs": [
        {
          "output_type": "execute_result",
          "data": {
            "text/plain": [
              "<generator object Path.glob at 0x7fd02a3cff50>"
            ]
          },
          "metadata": {
            "tags": []
          },
          "execution_count": 24
        }
      ]
    },
    {
      "cell_type": "code",
      "metadata": {
        "id": "J5MX674490eL"
      },
      "source": [
        "filepath_Test = list(test_dir.glob(r'**/*.jpg'))"
      ],
      "execution_count": 25,
      "outputs": []
    },
    {
      "cell_type": "code",
      "metadata": {
        "colab": {
          "base_uri": "https://localhost:8080/"
        },
        "id": "RTukihAFMvSN",
        "outputId": "f63aad49-9d0d-4477-9b67-5745d45b6eff"
      },
      "source": [
        "filepath_Test"
      ],
      "execution_count": 26,
      "outputs": [
        {
          "output_type": "execute_result",
          "data": {
            "text/plain": [
              "[PosixPath('/content/drive/MyDrive/Cs412Projectdata/nonlabeled_test2/10342.jpg'),\n",
              " PosixPath('/content/drive/MyDrive/Cs412Projectdata/nonlabeled_test2/5009.jpg'),\n",
              " PosixPath('/content/drive/MyDrive/Cs412Projectdata/nonlabeled_test2/2285.jpg'),\n",
              " PosixPath('/content/drive/MyDrive/Cs412Projectdata/nonlabeled_test2/14139.jpg'),\n",
              " PosixPath('/content/drive/MyDrive/Cs412Projectdata/nonlabeled_test2/6232.jpg'),\n",
              " PosixPath('/content/drive/MyDrive/Cs412Projectdata/nonlabeled_test2/5685.jpg'),\n",
              " PosixPath('/content/drive/MyDrive/Cs412Projectdata/nonlabeled_test2/10414.jpg'),\n",
              " PosixPath('/content/drive/MyDrive/Cs412Projectdata/nonlabeled_test2/5367.jpg'),\n",
              " PosixPath('/content/drive/MyDrive/Cs412Projectdata/nonlabeled_test2/5976.jpg'),\n",
              " PosixPath('/content/drive/MyDrive/Cs412Projectdata/nonlabeled_test2/1953.jpg'),\n",
              " PosixPath('/content/drive/MyDrive/Cs412Projectdata/nonlabeled_test2/5728.jpg'),\n",
              " PosixPath('/content/drive/MyDrive/Cs412Projectdata/nonlabeled_test2/7339.jpg'),\n",
              " PosixPath('/content/drive/MyDrive/Cs412Projectdata/nonlabeled_test2/8016.jpg'),\n",
              " PosixPath('/content/drive/MyDrive/Cs412Projectdata/nonlabeled_test2/9811.jpg'),\n",
              " PosixPath('/content/drive/MyDrive/Cs412Projectdata/nonlabeled_test2/7505.jpg'),\n",
              " PosixPath('/content/drive/MyDrive/Cs412Projectdata/nonlabeled_test2/7157.jpg'),\n",
              " PosixPath('/content/drive/MyDrive/Cs412Projectdata/nonlabeled_test2/11399.jpg'),\n",
              " PosixPath('/content/drive/MyDrive/Cs412Projectdata/nonlabeled_test2/3201.jpg'),\n",
              " PosixPath('/content/drive/MyDrive/Cs412Projectdata/nonlabeled_test2/14111.jpg'),\n",
              " PosixPath('/content/drive/MyDrive/Cs412Projectdata/nonlabeled_test2/13204.jpg'),\n",
              " PosixPath('/content/drive/MyDrive/Cs412Projectdata/nonlabeled_test2/12083.jpg'),\n",
              " PosixPath('/content/drive/MyDrive/Cs412Projectdata/nonlabeled_test2/13985.jpg'),\n",
              " PosixPath('/content/drive/MyDrive/Cs412Projectdata/nonlabeled_test2/13132.jpg'),\n",
              " PosixPath('/content/drive/MyDrive/Cs412Projectdata/nonlabeled_test2/9869.jpg'),\n",
              " PosixPath('/content/drive/MyDrive/Cs412Projectdata/nonlabeled_test2/6941.jpg'),\n",
              " PosixPath('/content/drive/MyDrive/Cs412Projectdata/nonlabeled_test2/6191.jpg'),\n",
              " PosixPath('/content/drive/MyDrive/Cs412Projectdata/nonlabeled_test2/5774.jpg'),\n",
              " PosixPath('/content/drive/MyDrive/Cs412Projectdata/nonlabeled_test2/7900.jpg'),\n",
              " PosixPath('/content/drive/MyDrive/Cs412Projectdata/nonlabeled_test2/6915.jpg'),\n",
              " PosixPath('/content/drive/MyDrive/Cs412Projectdata/nonlabeled_test2/2406.jpg'),\n",
              " PosixPath('/content/drive/MyDrive/Cs412Projectdata/nonlabeled_test2/12466.jpg'),\n",
              " PosixPath('/content/drive/MyDrive/Cs412Projectdata/nonlabeled_test2/12145.jpg'),\n",
              " PosixPath('/content/drive/MyDrive/Cs412Projectdata/nonlabeled_test2/737.jpg'),\n",
              " PosixPath('/content/drive/MyDrive/Cs412Projectdata/nonlabeled_test2/9771.jpg'),\n",
              " PosixPath('/content/drive/MyDrive/Cs412Projectdata/nonlabeled_test2/7378.jpg'),\n",
              " PosixPath('/content/drive/MyDrive/Cs412Projectdata/nonlabeled_test2/8717.jpg'),\n",
              " PosixPath('/content/drive/MyDrive/Cs412Projectdata/nonlabeled_test2/1926.jpg'),\n",
              " PosixPath('/content/drive/MyDrive/Cs412Projectdata/nonlabeled_test2/14135.jpg'),\n",
              " PosixPath('/content/drive/MyDrive/Cs412Projectdata/nonlabeled_test2/12348.jpg'),\n",
              " PosixPath('/content/drive/MyDrive/Cs412Projectdata/nonlabeled_test2/1620.jpg'),\n",
              " PosixPath('/content/drive/MyDrive/Cs412Projectdata/nonlabeled_test2/4435.jpg'),\n",
              " PosixPath('/content/drive/MyDrive/Cs412Projectdata/nonlabeled_test2/5570.jpg'),\n",
              " PosixPath('/content/drive/MyDrive/Cs412Projectdata/nonlabeled_test2/1495.jpg'),\n",
              " PosixPath('/content/drive/MyDrive/Cs412Projectdata/nonlabeled_test2/569.jpg'),\n",
              " PosixPath('/content/drive/MyDrive/Cs412Projectdata/nonlabeled_test2/7718.jpg'),\n",
              " PosixPath('/content/drive/MyDrive/Cs412Projectdata/nonlabeled_test2/11009.jpg'),\n",
              " PosixPath('/content/drive/MyDrive/Cs412Projectdata/nonlabeled_test2/2798.jpg'),\n",
              " PosixPath('/content/drive/MyDrive/Cs412Projectdata/nonlabeled_test2/13648.jpg'),\n",
              " PosixPath('/content/drive/MyDrive/Cs412Projectdata/nonlabeled_test2/13474.jpg'),\n",
              " PosixPath('/content/drive/MyDrive/Cs412Projectdata/nonlabeled_test2/4258.jpg'),\n",
              " PosixPath('/content/drive/MyDrive/Cs412Projectdata/nonlabeled_test2/6033.jpg'),\n",
              " PosixPath('/content/drive/MyDrive/Cs412Projectdata/nonlabeled_test2/10022.jpg'),\n",
              " PosixPath('/content/drive/MyDrive/Cs412Projectdata/nonlabeled_test2/9531.jpg'),\n",
              " PosixPath('/content/drive/MyDrive/Cs412Projectdata/nonlabeled_test2/14346.jpg'),\n",
              " PosixPath('/content/drive/MyDrive/Cs412Projectdata/nonlabeled_test2/6947.jpg'),\n",
              " PosixPath('/content/drive/MyDrive/Cs412Projectdata/nonlabeled_test2/12838.jpg'),\n",
              " PosixPath('/content/drive/MyDrive/Cs412Projectdata/nonlabeled_test2/11064.jpg'),\n",
              " PosixPath('/content/drive/MyDrive/Cs412Projectdata/nonlabeled_test2/5720.jpg'),\n",
              " PosixPath('/content/drive/MyDrive/Cs412Projectdata/nonlabeled_test2/7181.jpg'),\n",
              " PosixPath('/content/drive/MyDrive/Cs412Projectdata/nonlabeled_test2/3181.jpg'),\n",
              " PosixPath('/content/drive/MyDrive/Cs412Projectdata/nonlabeled_test2/9669.jpg'),\n",
              " PosixPath('/content/drive/MyDrive/Cs412Projectdata/nonlabeled_test2/13759.jpg'),\n",
              " PosixPath('/content/drive/MyDrive/Cs412Projectdata/nonlabeled_test2/6371.jpg'),\n",
              " PosixPath('/content/drive/MyDrive/Cs412Projectdata/nonlabeled_test2/12301.jpg'),\n",
              " PosixPath('/content/drive/MyDrive/Cs412Projectdata/nonlabeled_test2/8826.jpg'),\n",
              " PosixPath('/content/drive/MyDrive/Cs412Projectdata/nonlabeled_test2/8700.jpg'),\n",
              " PosixPath('/content/drive/MyDrive/Cs412Projectdata/nonlabeled_test2/10787.jpg'),\n",
              " PosixPath('/content/drive/MyDrive/Cs412Projectdata/nonlabeled_test2/8097.jpg'),\n",
              " PosixPath('/content/drive/MyDrive/Cs412Projectdata/nonlabeled_test2/2601.jpg'),\n",
              " PosixPath('/content/drive/MyDrive/Cs412Projectdata/nonlabeled_test2/9907.jpg'),\n",
              " PosixPath('/content/drive/MyDrive/Cs412Projectdata/nonlabeled_test2/6256.jpg'),\n",
              " PosixPath('/content/drive/MyDrive/Cs412Projectdata/nonlabeled_test2/11773.jpg'),\n",
              " PosixPath('/content/drive/MyDrive/Cs412Projectdata/nonlabeled_test2/11514.jpg'),\n",
              " PosixPath('/content/drive/MyDrive/Cs412Projectdata/nonlabeled_test2/2884.jpg'),\n",
              " PosixPath('/content/drive/MyDrive/Cs412Projectdata/nonlabeled_test2/2146.jpg'),\n",
              " PosixPath('/content/drive/MyDrive/Cs412Projectdata/nonlabeled_test2/2617.jpg'),\n",
              " PosixPath('/content/drive/MyDrive/Cs412Projectdata/nonlabeled_test2/5577.jpg'),\n",
              " PosixPath('/content/drive/MyDrive/Cs412Projectdata/nonlabeled_test2/9636.jpg'),\n",
              " PosixPath('/content/drive/MyDrive/Cs412Projectdata/nonlabeled_test2/287.jpg'),\n",
              " PosixPath('/content/drive/MyDrive/Cs412Projectdata/nonlabeled_test2/12893.jpg'),\n",
              " PosixPath('/content/drive/MyDrive/Cs412Projectdata/nonlabeled_test2/14460.jpg'),\n",
              " PosixPath('/content/drive/MyDrive/Cs412Projectdata/nonlabeled_test2/9425.jpg'),\n",
              " PosixPath('/content/drive/MyDrive/Cs412Projectdata/nonlabeled_test2/13327.jpg'),\n",
              " PosixPath('/content/drive/MyDrive/Cs412Projectdata/nonlabeled_test2/1512.jpg'),\n",
              " PosixPath('/content/drive/MyDrive/Cs412Projectdata/nonlabeled_test2/8850.jpg'),\n",
              " PosixPath('/content/drive/MyDrive/Cs412Projectdata/nonlabeled_test2/3483.jpg'),\n",
              " PosixPath('/content/drive/MyDrive/Cs412Projectdata/nonlabeled_test2/643.jpg'),\n",
              " PosixPath('/content/drive/MyDrive/Cs412Projectdata/nonlabeled_test2/321.jpg'),\n",
              " PosixPath('/content/drive/MyDrive/Cs412Projectdata/nonlabeled_test2/6993.jpg'),\n",
              " PosixPath('/content/drive/MyDrive/Cs412Projectdata/nonlabeled_test2/13252.jpg'),\n",
              " PosixPath('/content/drive/MyDrive/Cs412Projectdata/nonlabeled_test2/9758.jpg'),\n",
              " PosixPath('/content/drive/MyDrive/Cs412Projectdata/nonlabeled_test2/7392.jpg'),\n",
              " PosixPath('/content/drive/MyDrive/Cs412Projectdata/nonlabeled_test2/12402.jpg'),\n",
              " PosixPath('/content/drive/MyDrive/Cs412Projectdata/nonlabeled_test2/10514.jpg'),\n",
              " PosixPath('/content/drive/MyDrive/Cs412Projectdata/nonlabeled_test2/1134.jpg'),\n",
              " PosixPath('/content/drive/MyDrive/Cs412Projectdata/nonlabeled_test2/10208.jpg'),\n",
              " PosixPath('/content/drive/MyDrive/Cs412Projectdata/nonlabeled_test2/6691.jpg'),\n",
              " PosixPath('/content/drive/MyDrive/Cs412Projectdata/nonlabeled_test2/12058.jpg'),\n",
              " PosixPath('/content/drive/MyDrive/Cs412Projectdata/nonlabeled_test2/7256.jpg'),\n",
              " PosixPath('/content/drive/MyDrive/Cs412Projectdata/nonlabeled_test2/105.jpg'),\n",
              " PosixPath('/content/drive/MyDrive/Cs412Projectdata/nonlabeled_test2/9404.jpg'),\n",
              " PosixPath('/content/drive/MyDrive/Cs412Projectdata/nonlabeled_test2/752.jpg'),\n",
              " PosixPath('/content/drive/MyDrive/Cs412Projectdata/nonlabeled_test2/9893.jpg'),\n",
              " PosixPath('/content/drive/MyDrive/Cs412Projectdata/nonlabeled_test2/14154.jpg'),\n",
              " PosixPath('/content/drive/MyDrive/Cs412Projectdata/nonlabeled_test2/898.jpg'),\n",
              " PosixPath('/content/drive/MyDrive/Cs412Projectdata/nonlabeled_test2/4099.jpg'),\n",
              " PosixPath('/content/drive/MyDrive/Cs412Projectdata/nonlabeled_test2/11289.jpg'),\n",
              " PosixPath('/content/drive/MyDrive/Cs412Projectdata/nonlabeled_test2/1849.jpg'),\n",
              " PosixPath('/content/drive/MyDrive/Cs412Projectdata/nonlabeled_test2/12108.jpg'),\n",
              " PosixPath('/content/drive/MyDrive/Cs412Projectdata/nonlabeled_test2/1498.jpg'),\n",
              " PosixPath('/content/drive/MyDrive/Cs412Projectdata/nonlabeled_test2/6384.jpg'),\n",
              " PosixPath('/content/drive/MyDrive/Cs412Projectdata/nonlabeled_test2/6186.jpg'),\n",
              " PosixPath('/content/drive/MyDrive/Cs412Projectdata/nonlabeled_test2/2677.jpg'),\n",
              " PosixPath('/content/drive/MyDrive/Cs412Projectdata/nonlabeled_test2/9892.jpg'),\n",
              " PosixPath('/content/drive/MyDrive/Cs412Projectdata/nonlabeled_test2/13947.jpg'),\n",
              " PosixPath('/content/drive/MyDrive/Cs412Projectdata/nonlabeled_test2/9588.jpg'),\n",
              " PosixPath('/content/drive/MyDrive/Cs412Projectdata/nonlabeled_test2/10527.jpg'),\n",
              " PosixPath('/content/drive/MyDrive/Cs412Projectdata/nonlabeled_test2/1299.jpg'),\n",
              " PosixPath('/content/drive/MyDrive/Cs412Projectdata/nonlabeled_test2/4366.jpg'),\n",
              " PosixPath('/content/drive/MyDrive/Cs412Projectdata/nonlabeled_test2/6901.jpg'),\n",
              " PosixPath('/content/drive/MyDrive/Cs412Projectdata/nonlabeled_test2/6654.jpg'),\n",
              " PosixPath('/content/drive/MyDrive/Cs412Projectdata/nonlabeled_test2/1647.jpg'),\n",
              " PosixPath('/content/drive/MyDrive/Cs412Projectdata/nonlabeled_test2/6200.jpg'),\n",
              " PosixPath('/content/drive/MyDrive/Cs412Projectdata/nonlabeled_test2/8222.jpg'),\n",
              " PosixPath('/content/drive/MyDrive/Cs412Projectdata/nonlabeled_test2/3148.jpg'),\n",
              " PosixPath('/content/drive/MyDrive/Cs412Projectdata/nonlabeled_test2/11210.jpg'),\n",
              " PosixPath('/content/drive/MyDrive/Cs412Projectdata/nonlabeled_test2/12390.jpg'),\n",
              " PosixPath('/content/drive/MyDrive/Cs412Projectdata/nonlabeled_test2/8358.jpg'),\n",
              " PosixPath('/content/drive/MyDrive/Cs412Projectdata/nonlabeled_test2/4969.jpg'),\n",
              " PosixPath('/content/drive/MyDrive/Cs412Projectdata/nonlabeled_test2/7640.jpg'),\n",
              " PosixPath('/content/drive/MyDrive/Cs412Projectdata/nonlabeled_test2/6392.jpg'),\n",
              " PosixPath('/content/drive/MyDrive/Cs412Projectdata/nonlabeled_test2/1048.jpg'),\n",
              " PosixPath('/content/drive/MyDrive/Cs412Projectdata/nonlabeled_test2/6812.jpg'),\n",
              " PosixPath('/content/drive/MyDrive/Cs412Projectdata/nonlabeled_test2/164.jpg'),\n",
              " PosixPath('/content/drive/MyDrive/Cs412Projectdata/nonlabeled_test2/10175.jpg'),\n",
              " PosixPath('/content/drive/MyDrive/Cs412Projectdata/nonlabeled_test2/4749.jpg'),\n",
              " PosixPath('/content/drive/MyDrive/Cs412Projectdata/nonlabeled_test2/3411.jpg'),\n",
              " PosixPath('/content/drive/MyDrive/Cs412Projectdata/nonlabeled_test2/7530.jpg'),\n",
              " PosixPath('/content/drive/MyDrive/Cs412Projectdata/nonlabeled_test2/13433.jpg'),\n",
              " PosixPath('/content/drive/MyDrive/Cs412Projectdata/nonlabeled_test2/982.jpg'),\n",
              " PosixPath('/content/drive/MyDrive/Cs412Projectdata/nonlabeled_test2/9041.jpg'),\n",
              " PosixPath('/content/drive/MyDrive/Cs412Projectdata/nonlabeled_test2/13687.jpg'),\n",
              " PosixPath('/content/drive/MyDrive/Cs412Projectdata/nonlabeled_test2/13792.jpg'),\n",
              " PosixPath('/content/drive/MyDrive/Cs412Projectdata/nonlabeled_test2/3266.jpg'),\n",
              " PosixPath('/content/drive/MyDrive/Cs412Projectdata/nonlabeled_test2/2893.jpg'),\n",
              " PosixPath('/content/drive/MyDrive/Cs412Projectdata/nonlabeled_test2/12708.jpg'),\n",
              " PosixPath('/content/drive/MyDrive/Cs412Projectdata/nonlabeled_test2/6513.jpg'),\n",
              " PosixPath('/content/drive/MyDrive/Cs412Projectdata/nonlabeled_test2/7545.jpg'),\n",
              " PosixPath('/content/drive/MyDrive/Cs412Projectdata/nonlabeled_test2/6472.jpg'),\n",
              " PosixPath('/content/drive/MyDrive/Cs412Projectdata/nonlabeled_test2/8473.jpg'),\n",
              " PosixPath('/content/drive/MyDrive/Cs412Projectdata/nonlabeled_test2/12291.jpg'),\n",
              " PosixPath('/content/drive/MyDrive/Cs412Projectdata/nonlabeled_test2/3703.jpg'),\n",
              " PosixPath('/content/drive/MyDrive/Cs412Projectdata/nonlabeled_test2/1851.jpg'),\n",
              " PosixPath('/content/drive/MyDrive/Cs412Projectdata/nonlabeled_test2/12329.jpg'),\n",
              " PosixPath('/content/drive/MyDrive/Cs412Projectdata/nonlabeled_test2/14421.jpg'),\n",
              " PosixPath('/content/drive/MyDrive/Cs412Projectdata/nonlabeled_test2/11593.jpg'),\n",
              " PosixPath('/content/drive/MyDrive/Cs412Projectdata/nonlabeled_test2/5225.jpg'),\n",
              " PosixPath('/content/drive/MyDrive/Cs412Projectdata/nonlabeled_test2/14359.jpg'),\n",
              " PosixPath('/content/drive/MyDrive/Cs412Projectdata/nonlabeled_test2/10468.jpg'),\n",
              " PosixPath('/content/drive/MyDrive/Cs412Projectdata/nonlabeled_test2/14247.jpg'),\n",
              " PosixPath('/content/drive/MyDrive/Cs412Projectdata/nonlabeled_test2/1999.jpg'),\n",
              " PosixPath('/content/drive/MyDrive/Cs412Projectdata/nonlabeled_test2/7432.jpg'),\n",
              " PosixPath('/content/drive/MyDrive/Cs412Projectdata/nonlabeled_test2/12788.jpg'),\n",
              " PosixPath('/content/drive/MyDrive/Cs412Projectdata/nonlabeled_test2/3718.jpg'),\n",
              " PosixPath('/content/drive/MyDrive/Cs412Projectdata/nonlabeled_test2/6640.jpg'),\n",
              " PosixPath('/content/drive/MyDrive/Cs412Projectdata/nonlabeled_test2/1222.jpg'),\n",
              " PosixPath('/content/drive/MyDrive/Cs412Projectdata/nonlabeled_test2/9225.jpg'),\n",
              " PosixPath('/content/drive/MyDrive/Cs412Projectdata/nonlabeled_test2/10998.jpg'),\n",
              " PosixPath('/content/drive/MyDrive/Cs412Projectdata/nonlabeled_test2/13396.jpg'),\n",
              " PosixPath('/content/drive/MyDrive/Cs412Projectdata/nonlabeled_test2/11748.jpg'),\n",
              " PosixPath('/content/drive/MyDrive/Cs412Projectdata/nonlabeled_test2/778.jpg'),\n",
              " PosixPath('/content/drive/MyDrive/Cs412Projectdata/nonlabeled_test2/8286.jpg'),\n",
              " PosixPath('/content/drive/MyDrive/Cs412Projectdata/nonlabeled_test2/297.jpg'),\n",
              " PosixPath('/content/drive/MyDrive/Cs412Projectdata/nonlabeled_test2/13047.jpg'),\n",
              " PosixPath('/content/drive/MyDrive/Cs412Projectdata/nonlabeled_test2/11719.jpg'),\n",
              " PosixPath('/content/drive/MyDrive/Cs412Projectdata/nonlabeled_test2/9112.jpg'),\n",
              " PosixPath('/content/drive/MyDrive/Cs412Projectdata/nonlabeled_test2/9264.jpg'),\n",
              " PosixPath('/content/drive/MyDrive/Cs412Projectdata/nonlabeled_test2/34.jpg'),\n",
              " PosixPath('/content/drive/MyDrive/Cs412Projectdata/nonlabeled_test2/14068.jpg'),\n",
              " PosixPath('/content/drive/MyDrive/Cs412Projectdata/nonlabeled_test2/2184.jpg'),\n",
              " PosixPath('/content/drive/MyDrive/Cs412Projectdata/nonlabeled_test2/3359.jpg'),\n",
              " PosixPath('/content/drive/MyDrive/Cs412Projectdata/nonlabeled_test2/657.jpg'),\n",
              " PosixPath('/content/drive/MyDrive/Cs412Projectdata/nonlabeled_test2/10748.jpg'),\n",
              " PosixPath('/content/drive/MyDrive/Cs412Projectdata/nonlabeled_test2/9450.jpg'),\n",
              " PosixPath('/content/drive/MyDrive/Cs412Projectdata/nonlabeled_test2/255.jpg'),\n",
              " PosixPath('/content/drive/MyDrive/Cs412Projectdata/nonlabeled_test2/9040.jpg'),\n",
              " PosixPath('/content/drive/MyDrive/Cs412Projectdata/nonlabeled_test2/11412.jpg'),\n",
              " PosixPath('/content/drive/MyDrive/Cs412Projectdata/nonlabeled_test2/5789.jpg'),\n",
              " PosixPath('/content/drive/MyDrive/Cs412Projectdata/nonlabeled_test2/9448.jpg'),\n",
              " PosixPath('/content/drive/MyDrive/Cs412Projectdata/nonlabeled_test2/11998.jpg'),\n",
              " PosixPath('/content/drive/MyDrive/Cs412Projectdata/nonlabeled_test2/3672.jpg'),\n",
              " PosixPath('/content/drive/MyDrive/Cs412Projectdata/nonlabeled_test2/9415.jpg'),\n",
              " PosixPath('/content/drive/MyDrive/Cs412Projectdata/nonlabeled_test2/9460.jpg'),\n",
              " PosixPath('/content/drive/MyDrive/Cs412Projectdata/nonlabeled_test2/7119.jpg'),\n",
              " PosixPath('/content/drive/MyDrive/Cs412Projectdata/nonlabeled_test2/8142.jpg'),\n",
              " PosixPath('/content/drive/MyDrive/Cs412Projectdata/nonlabeled_test2/6243.jpg'),\n",
              " PosixPath('/content/drive/MyDrive/Cs412Projectdata/nonlabeled_test2/10829.jpg'),\n",
              " PosixPath('/content/drive/MyDrive/Cs412Projectdata/nonlabeled_test2/9712.jpg'),\n",
              " PosixPath('/content/drive/MyDrive/Cs412Projectdata/nonlabeled_test2/13109.jpg'),\n",
              " PosixPath('/content/drive/MyDrive/Cs412Projectdata/nonlabeled_test2/13789.jpg'),\n",
              " PosixPath('/content/drive/MyDrive/Cs412Projectdata/nonlabeled_test2/12361.jpg'),\n",
              " PosixPath('/content/drive/MyDrive/Cs412Projectdata/nonlabeled_test2/7504.jpg'),\n",
              " PosixPath('/content/drive/MyDrive/Cs412Projectdata/nonlabeled_test2/6064.jpg'),\n",
              " PosixPath('/content/drive/MyDrive/Cs412Projectdata/nonlabeled_test2/4837.jpg'),\n",
              " PosixPath('/content/drive/MyDrive/Cs412Projectdata/nonlabeled_test2/5482.jpg'),\n",
              " PosixPath('/content/drive/MyDrive/Cs412Projectdata/nonlabeled_test2/10664.jpg'),\n",
              " PosixPath('/content/drive/MyDrive/Cs412Projectdata/nonlabeled_test2/4712.jpg'),\n",
              " PosixPath('/content/drive/MyDrive/Cs412Projectdata/nonlabeled_test2/2621.jpg'),\n",
              " PosixPath('/content/drive/MyDrive/Cs412Projectdata/nonlabeled_test2/13689.jpg'),\n",
              " PosixPath('/content/drive/MyDrive/Cs412Projectdata/nonlabeled_test2/12570.jpg'),\n",
              " PosixPath('/content/drive/MyDrive/Cs412Projectdata/nonlabeled_test2/11510.jpg'),\n",
              " PosixPath('/content/drive/MyDrive/Cs412Projectdata/nonlabeled_test2/3721.jpg'),\n",
              " PosixPath('/content/drive/MyDrive/Cs412Projectdata/nonlabeled_test2/7153.jpg'),\n",
              " PosixPath('/content/drive/MyDrive/Cs412Projectdata/nonlabeled_test2/9658.jpg'),\n",
              " PosixPath('/content/drive/MyDrive/Cs412Projectdata/nonlabeled_test2/11674.jpg'),\n",
              " PosixPath('/content/drive/MyDrive/Cs412Projectdata/nonlabeled_test2/8509.jpg'),\n",
              " PosixPath('/content/drive/MyDrive/Cs412Projectdata/nonlabeled_test2/9405.jpg'),\n",
              " PosixPath('/content/drive/MyDrive/Cs412Projectdata/nonlabeled_test2/12560.jpg'),\n",
              " PosixPath('/content/drive/MyDrive/Cs412Projectdata/nonlabeled_test2/11029.jpg'),\n",
              " PosixPath('/content/drive/MyDrive/Cs412Projectdata/nonlabeled_test2/12077.jpg'),\n",
              " PosixPath('/content/drive/MyDrive/Cs412Projectdata/nonlabeled_test2/8225.jpg'),\n",
              " PosixPath('/content/drive/MyDrive/Cs412Projectdata/nonlabeled_test2/13581.jpg'),\n",
              " PosixPath('/content/drive/MyDrive/Cs412Projectdata/nonlabeled_test2/6328.jpg'),\n",
              " PosixPath('/content/drive/MyDrive/Cs412Projectdata/nonlabeled_test2/13170.jpg'),\n",
              " PosixPath('/content/drive/MyDrive/Cs412Projectdata/nonlabeled_test2/12216.jpg'),\n",
              " PosixPath('/content/drive/MyDrive/Cs412Projectdata/nonlabeled_test2/12232.jpg'),\n",
              " PosixPath('/content/drive/MyDrive/Cs412Projectdata/nonlabeled_test2/1425.jpg'),\n",
              " PosixPath('/content/drive/MyDrive/Cs412Projectdata/nonlabeled_test2/7509.jpg'),\n",
              " PosixPath('/content/drive/MyDrive/Cs412Projectdata/nonlabeled_test2/5378.jpg'),\n",
              " PosixPath('/content/drive/MyDrive/Cs412Projectdata/nonlabeled_test2/354.jpg'),\n",
              " PosixPath('/content/drive/MyDrive/Cs412Projectdata/nonlabeled_test2/10202.jpg'),\n",
              " PosixPath('/content/drive/MyDrive/Cs412Projectdata/nonlabeled_test2/7268.jpg'),\n",
              " PosixPath('/content/drive/MyDrive/Cs412Projectdata/nonlabeled_test2/11504.jpg'),\n",
              " PosixPath('/content/drive/MyDrive/Cs412Projectdata/nonlabeled_test2/13948.jpg'),\n",
              " PosixPath('/content/drive/MyDrive/Cs412Projectdata/nonlabeled_test2/666.jpg'),\n",
              " PosixPath('/content/drive/MyDrive/Cs412Projectdata/nonlabeled_test2/3541.jpg'),\n",
              " PosixPath('/content/drive/MyDrive/Cs412Projectdata/nonlabeled_test2/3063.jpg'),\n",
              " PosixPath('/content/drive/MyDrive/Cs412Projectdata/nonlabeled_test2/111.jpg'),\n",
              " PosixPath('/content/drive/MyDrive/Cs412Projectdata/nonlabeled_test2/13750.jpg'),\n",
              " PosixPath('/content/drive/MyDrive/Cs412Projectdata/nonlabeled_test2/2925.jpg'),\n",
              " PosixPath('/content/drive/MyDrive/Cs412Projectdata/nonlabeled_test2/14123.jpg'),\n",
              " PosixPath('/content/drive/MyDrive/Cs412Projectdata/nonlabeled_test2/1950.jpg'),\n",
              " PosixPath('/content/drive/MyDrive/Cs412Projectdata/nonlabeled_test2/4074.jpg'),\n",
              " PosixPath('/content/drive/MyDrive/Cs412Projectdata/nonlabeled_test2/8267.jpg'),\n",
              " PosixPath('/content/drive/MyDrive/Cs412Projectdata/nonlabeled_test2/6933.jpg'),\n",
              " PosixPath('/content/drive/MyDrive/Cs412Projectdata/nonlabeled_test2/3786.jpg'),\n",
              " PosixPath('/content/drive/MyDrive/Cs412Projectdata/nonlabeled_test2/2852.jpg'),\n",
              " PosixPath('/content/drive/MyDrive/Cs412Projectdata/nonlabeled_test2/14484.jpg'),\n",
              " PosixPath('/content/drive/MyDrive/Cs412Projectdata/nonlabeled_test2/8019.jpg'),\n",
              " PosixPath('/content/drive/MyDrive/Cs412Projectdata/nonlabeled_test2/1692.jpg'),\n",
              " PosixPath('/content/drive/MyDrive/Cs412Projectdata/nonlabeled_test2/10838.jpg'),\n",
              " PosixPath('/content/drive/MyDrive/Cs412Projectdata/nonlabeled_test2/7338.jpg'),\n",
              " PosixPath('/content/drive/MyDrive/Cs412Projectdata/nonlabeled_test2/2929.jpg'),\n",
              " PosixPath('/content/drive/MyDrive/Cs412Projectdata/nonlabeled_test2/13271.jpg'),\n",
              " PosixPath('/content/drive/MyDrive/Cs412Projectdata/nonlabeled_test2/9920.jpg'),\n",
              " PosixPath('/content/drive/MyDrive/Cs412Projectdata/nonlabeled_test2/4246.jpg'),\n",
              " PosixPath('/content/drive/MyDrive/Cs412Projectdata/nonlabeled_test2/8365.jpg'),\n",
              " PosixPath('/content/drive/MyDrive/Cs412Projectdata/nonlabeled_test2/8973.jpg'),\n",
              " PosixPath('/content/drive/MyDrive/Cs412Projectdata/nonlabeled_test2/4720.jpg'),\n",
              " PosixPath('/content/drive/MyDrive/Cs412Projectdata/nonlabeled_test2/10916.jpg'),\n",
              " PosixPath('/content/drive/MyDrive/Cs412Projectdata/nonlabeled_test2/14444.jpg'),\n",
              " PosixPath('/content/drive/MyDrive/Cs412Projectdata/nonlabeled_test2/8833.jpg'),\n",
              " PosixPath('/content/drive/MyDrive/Cs412Projectdata/nonlabeled_test2/10214.jpg'),\n",
              " PosixPath('/content/drive/MyDrive/Cs412Projectdata/nonlabeled_test2/4153.jpg'),\n",
              " PosixPath('/content/drive/MyDrive/Cs412Projectdata/nonlabeled_test2/7285.jpg'),\n",
              " PosixPath('/content/drive/MyDrive/Cs412Projectdata/nonlabeled_test2/6880.jpg'),\n",
              " PosixPath('/content/drive/MyDrive/Cs412Projectdata/nonlabeled_test2/3167.jpg'),\n",
              " PosixPath('/content/drive/MyDrive/Cs412Projectdata/nonlabeled_test2/5773.jpg'),\n",
              " PosixPath('/content/drive/MyDrive/Cs412Projectdata/nonlabeled_test2/6935.jpg'),\n",
              " PosixPath('/content/drive/MyDrive/Cs412Projectdata/nonlabeled_test2/12526.jpg'),\n",
              " PosixPath('/content/drive/MyDrive/Cs412Projectdata/nonlabeled_test2/2386.jpg'),\n",
              " PosixPath('/content/drive/MyDrive/Cs412Projectdata/nonlabeled_test2/9426.jpg'),\n",
              " PosixPath('/content/drive/MyDrive/Cs412Projectdata/nonlabeled_test2/12343.jpg'),\n",
              " PosixPath('/content/drive/MyDrive/Cs412Projectdata/nonlabeled_test2/9710.jpg'),\n",
              " PosixPath('/content/drive/MyDrive/Cs412Projectdata/nonlabeled_test2/6704.jpg'),\n",
              " PosixPath('/content/drive/MyDrive/Cs412Projectdata/nonlabeled_test2/11288.jpg'),\n",
              " PosixPath('/content/drive/MyDrive/Cs412Projectdata/nonlabeled_test2/7394.jpg'),\n",
              " PosixPath('/content/drive/MyDrive/Cs412Projectdata/nonlabeled_test2/5150.jpg'),\n",
              " PosixPath('/content/drive/MyDrive/Cs412Projectdata/nonlabeled_test2/12424.jpg'),\n",
              " PosixPath('/content/drive/MyDrive/Cs412Projectdata/nonlabeled_test2/12793.jpg'),\n",
              " PosixPath('/content/drive/MyDrive/Cs412Projectdata/nonlabeled_test2/564.jpg'),\n",
              " PosixPath('/content/drive/MyDrive/Cs412Projectdata/nonlabeled_test2/8918.jpg'),\n",
              " PosixPath('/content/drive/MyDrive/Cs412Projectdata/nonlabeled_test2/815.jpg'),\n",
              " PosixPath('/content/drive/MyDrive/Cs412Projectdata/nonlabeled_test2/9244.jpg'),\n",
              " PosixPath('/content/drive/MyDrive/Cs412Projectdata/nonlabeled_test2/6547.jpg'),\n",
              " PosixPath('/content/drive/MyDrive/Cs412Projectdata/nonlabeled_test2/9432.jpg'),\n",
              " PosixPath('/content/drive/MyDrive/Cs412Projectdata/nonlabeled_test2/12349.jpg'),\n",
              " PosixPath('/content/drive/MyDrive/Cs412Projectdata/nonlabeled_test2/8463.jpg'),\n",
              " PosixPath('/content/drive/MyDrive/Cs412Projectdata/nonlabeled_test2/5617.jpg'),\n",
              " PosixPath('/content/drive/MyDrive/Cs412Projectdata/nonlabeled_test2/671.jpg'),\n",
              " PosixPath('/content/drive/MyDrive/Cs412Projectdata/nonlabeled_test2/3564.jpg'),\n",
              " PosixPath('/content/drive/MyDrive/Cs412Projectdata/nonlabeled_test2/2011.jpg'),\n",
              " PosixPath('/content/drive/MyDrive/Cs412Projectdata/nonlabeled_test2/1881.jpg'),\n",
              " PosixPath('/content/drive/MyDrive/Cs412Projectdata/nonlabeled_test2/3182.jpg'),\n",
              " PosixPath('/content/drive/MyDrive/Cs412Projectdata/nonlabeled_test2/7158.jpg'),\n",
              " PosixPath('/content/drive/MyDrive/Cs412Projectdata/nonlabeled_test2/7502.jpg'),\n",
              " PosixPath('/content/drive/MyDrive/Cs412Projectdata/nonlabeled_test2/12719.jpg'),\n",
              " PosixPath('/content/drive/MyDrive/Cs412Projectdata/nonlabeled_test2/2423.jpg'),\n",
              " PosixPath('/content/drive/MyDrive/Cs412Projectdata/nonlabeled_test2/212.jpg'),\n",
              " PosixPath('/content/drive/MyDrive/Cs412Projectdata/nonlabeled_test2/7798.jpg'),\n",
              " PosixPath('/content/drive/MyDrive/Cs412Projectdata/nonlabeled_test2/1865.jpg'),\n",
              " PosixPath('/content/drive/MyDrive/Cs412Projectdata/nonlabeled_test2/9192.jpg'),\n",
              " PosixPath('/content/drive/MyDrive/Cs412Projectdata/nonlabeled_test2/1131.jpg'),\n",
              " PosixPath('/content/drive/MyDrive/Cs412Projectdata/nonlabeled_test2/10573.jpg'),\n",
              " PosixPath('/content/drive/MyDrive/Cs412Projectdata/nonlabeled_test2/5339.jpg'),\n",
              " PosixPath('/content/drive/MyDrive/Cs412Projectdata/nonlabeled_test2/2314.jpg'),\n",
              " PosixPath('/content/drive/MyDrive/Cs412Projectdata/nonlabeled_test2/12185.jpg'),\n",
              " PosixPath('/content/drive/MyDrive/Cs412Projectdata/nonlabeled_test2/4671.jpg'),\n",
              " PosixPath('/content/drive/MyDrive/Cs412Projectdata/nonlabeled_test2/12921.jpg'),\n",
              " PosixPath('/content/drive/MyDrive/Cs412Projectdata/nonlabeled_test2/12987.jpg'),\n",
              " PosixPath('/content/drive/MyDrive/Cs412Projectdata/nonlabeled_test2/2441.jpg'),\n",
              " PosixPath('/content/drive/MyDrive/Cs412Projectdata/nonlabeled_test2/5783.jpg'),\n",
              " PosixPath('/content/drive/MyDrive/Cs412Projectdata/nonlabeled_test2/421.jpg'),\n",
              " PosixPath('/content/drive/MyDrive/Cs412Projectdata/nonlabeled_test2/11503.jpg'),\n",
              " PosixPath('/content/drive/MyDrive/Cs412Projectdata/nonlabeled_test2/9399.jpg'),\n",
              " PosixPath('/content/drive/MyDrive/Cs412Projectdata/nonlabeled_test2/4315.jpg'),\n",
              " PosixPath('/content/drive/MyDrive/Cs412Projectdata/nonlabeled_test2/7479.jpg'),\n",
              " PosixPath('/content/drive/MyDrive/Cs412Projectdata/nonlabeled_test2/13558.jpg'),\n",
              " PosixPath('/content/drive/MyDrive/Cs412Projectdata/nonlabeled_test2/2242.jpg'),\n",
              " PosixPath('/content/drive/MyDrive/Cs412Projectdata/nonlabeled_test2/13749.jpg'),\n",
              " PosixPath('/content/drive/MyDrive/Cs412Projectdata/nonlabeled_test2/5098.jpg'),\n",
              " PosixPath('/content/drive/MyDrive/Cs412Projectdata/nonlabeled_test2/12724.jpg'),\n",
              " PosixPath('/content/drive/MyDrive/Cs412Projectdata/nonlabeled_test2/11357.jpg'),\n",
              " PosixPath('/content/drive/MyDrive/Cs412Projectdata/nonlabeled_test2/11324.jpg'),\n",
              " PosixPath('/content/drive/MyDrive/Cs412Projectdata/nonlabeled_test2/7025.jpg'),\n",
              " PosixPath('/content/drive/MyDrive/Cs412Projectdata/nonlabeled_test2/6055.jpg'),\n",
              " PosixPath('/content/drive/MyDrive/Cs412Projectdata/nonlabeled_test2/9529.jpg'),\n",
              " PosixPath('/content/drive/MyDrive/Cs412Projectdata/nonlabeled_test2/8083.jpg'),\n",
              " PosixPath('/content/drive/MyDrive/Cs412Projectdata/nonlabeled_test2/7654.jpg'),\n",
              " PosixPath('/content/drive/MyDrive/Cs412Projectdata/nonlabeled_test2/216.jpg'),\n",
              " PosixPath('/content/drive/MyDrive/Cs412Projectdata/nonlabeled_test2/7203.jpg'),\n",
              " PosixPath('/content/drive/MyDrive/Cs412Projectdata/nonlabeled_test2/6900.jpg'),\n",
              " PosixPath('/content/drive/MyDrive/Cs412Projectdata/nonlabeled_test2/241.jpg'),\n",
              " PosixPath('/content/drive/MyDrive/Cs412Projectdata/nonlabeled_test2/3966.jpg'),\n",
              " PosixPath('/content/drive/MyDrive/Cs412Projectdata/nonlabeled_test2/14227.jpg'),\n",
              " PosixPath('/content/drive/MyDrive/Cs412Projectdata/nonlabeled_test2/14267.jpg'),\n",
              " PosixPath('/content/drive/MyDrive/Cs412Projectdata/nonlabeled_test2/2224.jpg'),\n",
              " PosixPath('/content/drive/MyDrive/Cs412Projectdata/nonlabeled_test2/13037.jpg'),\n",
              " PosixPath('/content/drive/MyDrive/Cs412Projectdata/nonlabeled_test2/10925.jpg'),\n",
              " PosixPath('/content/drive/MyDrive/Cs412Projectdata/nonlabeled_test2/868.jpg'),\n",
              " PosixPath('/content/drive/MyDrive/Cs412Projectdata/nonlabeled_test2/7291.jpg'),\n",
              " PosixPath('/content/drive/MyDrive/Cs412Projectdata/nonlabeled_test2/7295.jpg'),\n",
              " PosixPath('/content/drive/MyDrive/Cs412Projectdata/nonlabeled_test2/375.jpg'),\n",
              " PosixPath('/content/drive/MyDrive/Cs412Projectdata/nonlabeled_test2/2128.jpg'),\n",
              " PosixPath('/content/drive/MyDrive/Cs412Projectdata/nonlabeled_test2/7456.jpg'),\n",
              " PosixPath('/content/drive/MyDrive/Cs412Projectdata/nonlabeled_test2/3247.jpg'),\n",
              " PosixPath('/content/drive/MyDrive/Cs412Projectdata/nonlabeled_test2/5056.jpg'),\n",
              " PosixPath('/content/drive/MyDrive/Cs412Projectdata/nonlabeled_test2/11207.jpg'),\n",
              " PosixPath('/content/drive/MyDrive/Cs412Projectdata/nonlabeled_test2/13782.jpg'),\n",
              " PosixPath('/content/drive/MyDrive/Cs412Projectdata/nonlabeled_test2/2699.jpg'),\n",
              " PosixPath('/content/drive/MyDrive/Cs412Projectdata/nonlabeled_test2/8732.jpg'),\n",
              " PosixPath('/content/drive/MyDrive/Cs412Projectdata/nonlabeled_test2/554.jpg'),\n",
              " PosixPath('/content/drive/MyDrive/Cs412Projectdata/nonlabeled_test2/8652.jpg'),\n",
              " PosixPath('/content/drive/MyDrive/Cs412Projectdata/nonlabeled_test2/3166.jpg'),\n",
              " PosixPath('/content/drive/MyDrive/Cs412Projectdata/nonlabeled_test2/7681.jpg'),\n",
              " PosixPath('/content/drive/MyDrive/Cs412Projectdata/nonlabeled_test2/10385.jpg'),\n",
              " PosixPath('/content/drive/MyDrive/Cs412Projectdata/nonlabeled_test2/808.jpg'),\n",
              " PosixPath('/content/drive/MyDrive/Cs412Projectdata/nonlabeled_test2/9281.jpg'),\n",
              " PosixPath('/content/drive/MyDrive/Cs412Projectdata/nonlabeled_test2/4014.jpg'),\n",
              " PosixPath('/content/drive/MyDrive/Cs412Projectdata/nonlabeled_test2/7812.jpg'),\n",
              " PosixPath('/content/drive/MyDrive/Cs412Projectdata/nonlabeled_test2/3802.jpg'),\n",
              " PosixPath('/content/drive/MyDrive/Cs412Projectdata/nonlabeled_test2/4453.jpg'),\n",
              " PosixPath('/content/drive/MyDrive/Cs412Projectdata/nonlabeled_test2/4333.jpg'),\n",
              " PosixPath('/content/drive/MyDrive/Cs412Projectdata/nonlabeled_test2/2189.jpg'),\n",
              " PosixPath('/content/drive/MyDrive/Cs412Projectdata/nonlabeled_test2/12228.jpg'),\n",
              " PosixPath('/content/drive/MyDrive/Cs412Projectdata/nonlabeled_test2/5683.jpg'),\n",
              " PosixPath('/content/drive/MyDrive/Cs412Projectdata/nonlabeled_test2/12944.jpg'),\n",
              " PosixPath('/content/drive/MyDrive/Cs412Projectdata/nonlabeled_test2/13957.jpg'),\n",
              " PosixPath('/content/drive/MyDrive/Cs412Projectdata/nonlabeled_test2/8305.jpg'),\n",
              " PosixPath('/content/drive/MyDrive/Cs412Projectdata/nonlabeled_test2/8304.jpg'),\n",
              " PosixPath('/content/drive/MyDrive/Cs412Projectdata/nonlabeled_test2/478.jpg'),\n",
              " PosixPath('/content/drive/MyDrive/Cs412Projectdata/nonlabeled_test2/2326.jpg'),\n",
              " PosixPath('/content/drive/MyDrive/Cs412Projectdata/nonlabeled_test2/11073.jpg'),\n",
              " PosixPath('/content/drive/MyDrive/Cs412Projectdata/nonlabeled_test2/12273.jpg'),\n",
              " PosixPath('/content/drive/MyDrive/Cs412Projectdata/nonlabeled_test2/11779.jpg'),\n",
              " PosixPath('/content/drive/MyDrive/Cs412Projectdata/nonlabeled_test2/489.jpg'),\n",
              " PosixPath('/content/drive/MyDrive/Cs412Projectdata/nonlabeled_test2/9480.jpg'),\n",
              " PosixPath('/content/drive/MyDrive/Cs412Projectdata/nonlabeled_test2/9215.jpg'),\n",
              " PosixPath('/content/drive/MyDrive/Cs412Projectdata/nonlabeled_test2/13852.jpg'),\n",
              " PosixPath('/content/drive/MyDrive/Cs412Projectdata/nonlabeled_test2/3125.jpg'),\n",
              " PosixPath('/content/drive/MyDrive/Cs412Projectdata/nonlabeled_test2/2163.jpg'),\n",
              " PosixPath('/content/drive/MyDrive/Cs412Projectdata/nonlabeled_test2/270.jpg'),\n",
              " PosixPath('/content/drive/MyDrive/Cs412Projectdata/nonlabeled_test2/13603.jpg'),\n",
              " PosixPath('/content/drive/MyDrive/Cs412Projectdata/nonlabeled_test2/435.jpg'),\n",
              " PosixPath('/content/drive/MyDrive/Cs412Projectdata/nonlabeled_test2/573.jpg'),\n",
              " PosixPath('/content/drive/MyDrive/Cs412Projectdata/nonlabeled_test2/5905.jpg'),\n",
              " PosixPath('/content/drive/MyDrive/Cs412Projectdata/nonlabeled_test2/862.jpg'),\n",
              " PosixPath('/content/drive/MyDrive/Cs412Projectdata/nonlabeled_test2/10088.jpg'),\n",
              " PosixPath('/content/drive/MyDrive/Cs412Projectdata/nonlabeled_test2/12236.jpg'),\n",
              " PosixPath('/content/drive/MyDrive/Cs412Projectdata/nonlabeled_test2/10865.jpg'),\n",
              " PosixPath('/content/drive/MyDrive/Cs412Projectdata/nonlabeled_test2/4370.jpg'),\n",
              " PosixPath('/content/drive/MyDrive/Cs412Projectdata/nonlabeled_test2/1760.jpg'),\n",
              " PosixPath('/content/drive/MyDrive/Cs412Projectdata/nonlabeled_test2/12729.jpg'),\n",
              " PosixPath('/content/drive/MyDrive/Cs412Projectdata/nonlabeled_test2/4885.jpg'),\n",
              " PosixPath('/content/drive/MyDrive/Cs412Projectdata/nonlabeled_test2/13352.jpg'),\n",
              " PosixPath('/content/drive/MyDrive/Cs412Projectdata/nonlabeled_test2/5750.jpg'),\n",
              " PosixPath('/content/drive/MyDrive/Cs412Projectdata/nonlabeled_test2/3876.jpg'),\n",
              " PosixPath('/content/drive/MyDrive/Cs412Projectdata/nonlabeled_test2/11387.jpg'),\n",
              " PosixPath('/content/drive/MyDrive/Cs412Projectdata/nonlabeled_test2/9807.jpg'),\n",
              " PosixPath('/content/drive/MyDrive/Cs412Projectdata/nonlabeled_test2/5609.jpg'),\n",
              " PosixPath('/content/drive/MyDrive/Cs412Projectdata/nonlabeled_test2/208.jpg'),\n",
              " PosixPath('/content/drive/MyDrive/Cs412Projectdata/nonlabeled_test2/6050.jpg'),\n",
              " PosixPath('/content/drive/MyDrive/Cs412Projectdata/nonlabeled_test2/6986.jpg'),\n",
              " PosixPath('/content/drive/MyDrive/Cs412Projectdata/nonlabeled_test2/7615.jpg'),\n",
              " PosixPath('/content/drive/MyDrive/Cs412Projectdata/nonlabeled_test2/11710.jpg'),\n",
              " PosixPath('/content/drive/MyDrive/Cs412Projectdata/nonlabeled_test2/12199.jpg'),\n",
              " PosixPath('/content/drive/MyDrive/Cs412Projectdata/nonlabeled_test2/6857.jpg'),\n",
              " PosixPath('/content/drive/MyDrive/Cs412Projectdata/nonlabeled_test2/1776.jpg'),\n",
              " PosixPath('/content/drive/MyDrive/Cs412Projectdata/nonlabeled_test2/9633.jpg'),\n",
              " PosixPath('/content/drive/MyDrive/Cs412Projectdata/nonlabeled_test2/1924.jpg'),\n",
              " PosixPath('/content/drive/MyDrive/Cs412Projectdata/nonlabeled_test2/9889.jpg'),\n",
              " PosixPath('/content/drive/MyDrive/Cs412Projectdata/nonlabeled_test2/1451.jpg'),\n",
              " PosixPath('/content/drive/MyDrive/Cs412Projectdata/nonlabeled_test2/5125.jpg'),\n",
              " PosixPath('/content/drive/MyDrive/Cs412Projectdata/nonlabeled_test2/14146.jpg'),\n",
              " PosixPath('/content/drive/MyDrive/Cs412Projectdata/nonlabeled_test2/3611.jpg'),\n",
              " PosixPath('/content/drive/MyDrive/Cs412Projectdata/nonlabeled_test2/5104.jpg'),\n",
              " PosixPath('/content/drive/MyDrive/Cs412Projectdata/nonlabeled_test2/10122.jpg'),\n",
              " PosixPath('/content/drive/MyDrive/Cs412Projectdata/nonlabeled_test2/12412.jpg'),\n",
              " PosixPath('/content/drive/MyDrive/Cs412Projectdata/nonlabeled_test2/2297.jpg'),\n",
              " PosixPath('/content/drive/MyDrive/Cs412Projectdata/nonlabeled_test2/1206.jpg'),\n",
              " PosixPath('/content/drive/MyDrive/Cs412Projectdata/nonlabeled_test2/7989.jpg'),\n",
              " PosixPath('/content/drive/MyDrive/Cs412Projectdata/nonlabeled_test2/12086.jpg'),\n",
              " PosixPath('/content/drive/MyDrive/Cs412Projectdata/nonlabeled_test2/4162.jpg'),\n",
              " PosixPath('/content/drive/MyDrive/Cs412Projectdata/nonlabeled_test2/5753.jpg'),\n",
              " PosixPath('/content/drive/MyDrive/Cs412Projectdata/nonlabeled_test2/9473.jpg'),\n",
              " PosixPath('/content/drive/MyDrive/Cs412Projectdata/nonlabeled_test2/2290.jpg'),\n",
              " PosixPath('/content/drive/MyDrive/Cs412Projectdata/nonlabeled_test2/1444.jpg'),\n",
              " PosixPath('/content/drive/MyDrive/Cs412Projectdata/nonlabeled_test2/5648.jpg'),\n",
              " PosixPath('/content/drive/MyDrive/Cs412Projectdata/nonlabeled_test2/1077.jpg'),\n",
              " PosixPath('/content/drive/MyDrive/Cs412Projectdata/nonlabeled_test2/1525.jpg'),\n",
              " PosixPath('/content/drive/MyDrive/Cs412Projectdata/nonlabeled_test2/4448.jpg'),\n",
              " PosixPath('/content/drive/MyDrive/Cs412Projectdata/nonlabeled_test2/3314.jpg'),\n",
              " PosixPath('/content/drive/MyDrive/Cs412Projectdata/nonlabeled_test2/8266.jpg'),\n",
              " PosixPath('/content/drive/MyDrive/Cs412Projectdata/nonlabeled_test2/4141.jpg'),\n",
              " PosixPath('/content/drive/MyDrive/Cs412Projectdata/nonlabeled_test2/3220.jpg'),\n",
              " PosixPath('/content/drive/MyDrive/Cs412Projectdata/nonlabeled_test2/12738.jpg'),\n",
              " PosixPath('/content/drive/MyDrive/Cs412Projectdata/nonlabeled_test2/5880.jpg'),\n",
              " PosixPath('/content/drive/MyDrive/Cs412Projectdata/nonlabeled_test2/8614.jpg'),\n",
              " PosixPath('/content/drive/MyDrive/Cs412Projectdata/nonlabeled_test2/10560.jpg'),\n",
              " PosixPath('/content/drive/MyDrive/Cs412Projectdata/nonlabeled_test2/3188.jpg'),\n",
              " PosixPath('/content/drive/MyDrive/Cs412Projectdata/nonlabeled_test2/14046.jpg'),\n",
              " PosixPath('/content/drive/MyDrive/Cs412Projectdata/nonlabeled_test2/3900.jpg'),\n",
              " PosixPath('/content/drive/MyDrive/Cs412Projectdata/nonlabeled_test2/2301.jpg'),\n",
              " PosixPath('/content/drive/MyDrive/Cs412Projectdata/nonlabeled_test2/3097.jpg'),\n",
              " PosixPath('/content/drive/MyDrive/Cs412Projectdata/nonlabeled_test2/7819.jpg'),\n",
              " PosixPath('/content/drive/MyDrive/Cs412Projectdata/nonlabeled_test2/3319.jpg'),\n",
              " PosixPath('/content/drive/MyDrive/Cs412Projectdata/nonlabeled_test2/574.jpg'),\n",
              " PosixPath('/content/drive/MyDrive/Cs412Projectdata/nonlabeled_test2/244.jpg'),\n",
              " PosixPath('/content/drive/MyDrive/Cs412Projectdata/nonlabeled_test2/7955.jpg'),\n",
              " PosixPath('/content/drive/MyDrive/Cs412Projectdata/nonlabeled_test2/13647.jpg'),\n",
              " PosixPath('/content/drive/MyDrive/Cs412Projectdata/nonlabeled_test2/12965.jpg'),\n",
              " PosixPath('/content/drive/MyDrive/Cs412Projectdata/nonlabeled_test2/1505.jpg'),\n",
              " PosixPath('/content/drive/MyDrive/Cs412Projectdata/nonlabeled_test2/1323.jpg'),\n",
              " PosixPath('/content/drive/MyDrive/Cs412Projectdata/nonlabeled_test2/13117.jpg'),\n",
              " PosixPath('/content/drive/MyDrive/Cs412Projectdata/nonlabeled_test2/10875.jpg'),\n",
              " PosixPath('/content/drive/MyDrive/Cs412Projectdata/nonlabeled_test2/9079.jpg'),\n",
              " PosixPath('/content/drive/MyDrive/Cs412Projectdata/nonlabeled_test2/6254.jpg'),\n",
              " PosixPath('/content/drive/MyDrive/Cs412Projectdata/nonlabeled_test2/3583.jpg'),\n",
              " PosixPath('/content/drive/MyDrive/Cs412Projectdata/nonlabeled_test2/2760.jpg'),\n",
              " PosixPath('/content/drive/MyDrive/Cs412Projectdata/nonlabeled_test2/7196.jpg'),\n",
              " PosixPath('/content/drive/MyDrive/Cs412Projectdata/nonlabeled_test2/6221.jpg'),\n",
              " PosixPath('/content/drive/MyDrive/Cs412Projectdata/nonlabeled_test2/10150.jpg'),\n",
              " PosixPath('/content/drive/MyDrive/Cs412Projectdata/nonlabeled_test2/2616.jpg'),\n",
              " PosixPath('/content/drive/MyDrive/Cs412Projectdata/nonlabeled_test2/9385.jpg'),\n",
              " PosixPath('/content/drive/MyDrive/Cs412Projectdata/nonlabeled_test2/10031.jpg'),\n",
              " PosixPath('/content/drive/MyDrive/Cs412Projectdata/nonlabeled_test2/9803.jpg'),\n",
              " PosixPath('/content/drive/MyDrive/Cs412Projectdata/nonlabeled_test2/2475.jpg'),\n",
              " PosixPath('/content/drive/MyDrive/Cs412Projectdata/nonlabeled_test2/2469.jpg'),\n",
              " PosixPath('/content/drive/MyDrive/Cs412Projectdata/nonlabeled_test2/11132.jpg'),\n",
              " PosixPath('/content/drive/MyDrive/Cs412Projectdata/nonlabeled_test2/11445.jpg'),\n",
              " PosixPath('/content/drive/MyDrive/Cs412Projectdata/nonlabeled_test2/5185.jpg'),\n",
              " PosixPath('/content/drive/MyDrive/Cs412Projectdata/nonlabeled_test2/1844.jpg'),\n",
              " PosixPath('/content/drive/MyDrive/Cs412Projectdata/nonlabeled_test2/5065.jpg'),\n",
              " PosixPath('/content/drive/MyDrive/Cs412Projectdata/nonlabeled_test2/6816.jpg'),\n",
              " PosixPath('/content/drive/MyDrive/Cs412Projectdata/nonlabeled_test2/5284.jpg'),\n",
              " PosixPath('/content/drive/MyDrive/Cs412Projectdata/nonlabeled_test2/1371.jpg'),\n",
              " PosixPath('/content/drive/MyDrive/Cs412Projectdata/nonlabeled_test2/745.jpg'),\n",
              " PosixPath('/content/drive/MyDrive/Cs412Projectdata/nonlabeled_test2/3534.jpg'),\n",
              " PosixPath('/content/drive/MyDrive/Cs412Projectdata/nonlabeled_test2/9349.jpg'),\n",
              " PosixPath('/content/drive/MyDrive/Cs412Projectdata/nonlabeled_test2/4354.jpg'),\n",
              " PosixPath('/content/drive/MyDrive/Cs412Projectdata/nonlabeled_test2/584.jpg'),\n",
              " PosixPath('/content/drive/MyDrive/Cs412Projectdata/nonlabeled_test2/9809.jpg'),\n",
              " PosixPath('/content/drive/MyDrive/Cs412Projectdata/nonlabeled_test2/14401.jpg'),\n",
              " PosixPath('/content/drive/MyDrive/Cs412Projectdata/nonlabeled_test2/2051.jpg'),\n",
              " PosixPath('/content/drive/MyDrive/Cs412Projectdata/nonlabeled_test2/8623.jpg'),\n",
              " PosixPath('/content/drive/MyDrive/Cs412Projectdata/nonlabeled_test2/8314.jpg'),\n",
              " PosixPath('/content/drive/MyDrive/Cs412Projectdata/nonlabeled_test2/11414.jpg'),\n",
              " PosixPath('/content/drive/MyDrive/Cs412Projectdata/nonlabeled_test2/12212.jpg'),\n",
              " PosixPath('/content/drive/MyDrive/Cs412Projectdata/nonlabeled_test2/10489.jpg'),\n",
              " PosixPath('/content/drive/MyDrive/Cs412Projectdata/nonlabeled_test2/1105.jpg'),\n",
              " PosixPath('/content/drive/MyDrive/Cs412Projectdata/nonlabeled_test2/8022.jpg'),\n",
              " PosixPath('/content/drive/MyDrive/Cs412Projectdata/nonlabeled_test2/8428.jpg'),\n",
              " PosixPath('/content/drive/MyDrive/Cs412Projectdata/nonlabeled_test2/7429.jpg'),\n",
              " PosixPath('/content/drive/MyDrive/Cs412Projectdata/nonlabeled_test2/3538.jpg'),\n",
              " PosixPath('/content/drive/MyDrive/Cs412Projectdata/nonlabeled_test2/12456.jpg'),\n",
              " PosixPath('/content/drive/MyDrive/Cs412Projectdata/nonlabeled_test2/12066.jpg'),\n",
              " PosixPath('/content/drive/MyDrive/Cs412Projectdata/nonlabeled_test2/13625.jpg'),\n",
              " PosixPath('/content/drive/MyDrive/Cs412Projectdata/nonlabeled_test2/13967.jpg'),\n",
              " PosixPath('/content/drive/MyDrive/Cs412Projectdata/nonlabeled_test2/9224.jpg'),\n",
              " PosixPath('/content/drive/MyDrive/Cs412Projectdata/nonlabeled_test2/14214.jpg'),\n",
              " PosixPath('/content/drive/MyDrive/Cs412Projectdata/nonlabeled_test2/6431.jpg'),\n",
              " PosixPath('/content/drive/MyDrive/Cs412Projectdata/nonlabeled_test2/9813.jpg'),\n",
              " PosixPath('/content/drive/MyDrive/Cs412Projectdata/nonlabeled_test2/10592.jpg'),\n",
              " PosixPath('/content/drive/MyDrive/Cs412Projectdata/nonlabeled_test2/7353.jpg'),\n",
              " PosixPath('/content/drive/MyDrive/Cs412Projectdata/nonlabeled_test2/11192.jpg'),\n",
              " PosixPath('/content/drive/MyDrive/Cs412Projectdata/nonlabeled_test2/9670.jpg'),\n",
              " PosixPath('/content/drive/MyDrive/Cs412Projectdata/nonlabeled_test2/7768.jpg'),\n",
              " PosixPath('/content/drive/MyDrive/Cs412Projectdata/nonlabeled_test2/8347.jpg'),\n",
              " PosixPath('/content/drive/MyDrive/Cs412Projectdata/nonlabeled_test2/12633.jpg'),\n",
              " PosixPath('/content/drive/MyDrive/Cs412Projectdata/nonlabeled_test2/4102.jpg'),\n",
              " PosixPath('/content/drive/MyDrive/Cs412Projectdata/nonlabeled_test2/5296.jpg'),\n",
              " PosixPath('/content/drive/MyDrive/Cs412Projectdata/nonlabeled_test2/11666.jpg'),\n",
              " PosixPath('/content/drive/MyDrive/Cs412Projectdata/nonlabeled_test2/8993.jpg'),\n",
              " PosixPath('/content/drive/MyDrive/Cs412Projectdata/nonlabeled_test2/5716.jpg'),\n",
              " PosixPath('/content/drive/MyDrive/Cs412Projectdata/nonlabeled_test2/3096.jpg'),\n",
              " PosixPath('/content/drive/MyDrive/Cs412Projectdata/nonlabeled_test2/3714.jpg'),\n",
              " PosixPath('/content/drive/MyDrive/Cs412Projectdata/nonlabeled_test2/7828.jpg'),\n",
              " PosixPath('/content/drive/MyDrive/Cs412Projectdata/nonlabeled_test2/11345.jpg'),\n",
              " PosixPath('/content/drive/MyDrive/Cs412Projectdata/nonlabeled_test2/1706.jpg'),\n",
              " PosixPath('/content/drive/MyDrive/Cs412Projectdata/nonlabeled_test2/14167.jpg'),\n",
              " PosixPath('/content/drive/MyDrive/Cs412Projectdata/nonlabeled_test2/3225.jpg'),\n",
              " PosixPath('/content/drive/MyDrive/Cs412Projectdata/nonlabeled_test2/3657.jpg'),\n",
              " PosixPath('/content/drive/MyDrive/Cs412Projectdata/nonlabeled_test2/10617.jpg'),\n",
              " PosixPath('/content/drive/MyDrive/Cs412Projectdata/nonlabeled_test2/545.jpg'),\n",
              " PosixPath('/content/drive/MyDrive/Cs412Projectdata/nonlabeled_test2/11959.jpg'),\n",
              " PosixPath('/content/drive/MyDrive/Cs412Projectdata/nonlabeled_test2/5116.jpg'),\n",
              " PosixPath('/content/drive/MyDrive/Cs412Projectdata/nonlabeled_test2/8245.jpg'),\n",
              " PosixPath('/content/drive/MyDrive/Cs412Projectdata/nonlabeled_test2/2167.jpg'),\n",
              " PosixPath('/content/drive/MyDrive/Cs412Projectdata/nonlabeled_test2/3537.jpg'),\n",
              " PosixPath('/content/drive/MyDrive/Cs412Projectdata/nonlabeled_test2/4430.jpg'),\n",
              " PosixPath('/content/drive/MyDrive/Cs412Projectdata/nonlabeled_test2/13219.jpg'),\n",
              " PosixPath('/content/drive/MyDrive/Cs412Projectdata/nonlabeled_test2/1035.jpg'),\n",
              " PosixPath('/content/drive/MyDrive/Cs412Projectdata/nonlabeled_test2/8962.jpg'),\n",
              " PosixPath('/content/drive/MyDrive/Cs412Projectdata/nonlabeled_test2/197.jpg'),\n",
              " PosixPath('/content/drive/MyDrive/Cs412Projectdata/nonlabeled_test2/9241.jpg'),\n",
              " PosixPath('/content/drive/MyDrive/Cs412Projectdata/nonlabeled_test2/13922.jpg'),\n",
              " PosixPath('/content/drive/MyDrive/Cs412Projectdata/nonlabeled_test2/4016.jpg'),\n",
              " PosixPath('/content/drive/MyDrive/Cs412Projectdata/nonlabeled_test2/4023.jpg'),\n",
              " PosixPath('/content/drive/MyDrive/Cs412Projectdata/nonlabeled_test2/2256.jpg'),\n",
              " PosixPath('/content/drive/MyDrive/Cs412Projectdata/nonlabeled_test2/5501.jpg'),\n",
              " PosixPath('/content/drive/MyDrive/Cs412Projectdata/nonlabeled_test2/1233.jpg'),\n",
              " PosixPath('/content/drive/MyDrive/Cs412Projectdata/nonlabeled_test2/359.jpg'),\n",
              " PosixPath('/content/drive/MyDrive/Cs412Projectdata/nonlabeled_test2/7701.jpg'),\n",
              " PosixPath('/content/drive/MyDrive/Cs412Projectdata/nonlabeled_test2/6923.jpg'),\n",
              " PosixPath('/content/drive/MyDrive/Cs412Projectdata/nonlabeled_test2/11967.jpg'),\n",
              " PosixPath('/content/drive/MyDrive/Cs412Projectdata/nonlabeled_test2/6413.jpg'),\n",
              " PosixPath('/content/drive/MyDrive/Cs412Projectdata/nonlabeled_test2/13123.jpg'),\n",
              " PosixPath('/content/drive/MyDrive/Cs412Projectdata/nonlabeled_test2/2858.jpg'),\n",
              " PosixPath('/content/drive/MyDrive/Cs412Projectdata/nonlabeled_test2/7489.jpg'),\n",
              " PosixPath('/content/drive/MyDrive/Cs412Projectdata/nonlabeled_test2/10046.jpg'),\n",
              " PosixPath('/content/drive/MyDrive/Cs412Projectdata/nonlabeled_test2/7045.jpg'),\n",
              " PosixPath('/content/drive/MyDrive/Cs412Projectdata/nonlabeled_test2/11439.jpg'),\n",
              " PosixPath('/content/drive/MyDrive/Cs412Projectdata/nonlabeled_test2/3945.jpg'),\n",
              " PosixPath('/content/drive/MyDrive/Cs412Projectdata/nonlabeled_test2/2989.jpg'),\n",
              " PosixPath('/content/drive/MyDrive/Cs412Projectdata/nonlabeled_test2/2675.jpg'),\n",
              " PosixPath('/content/drive/MyDrive/Cs412Projectdata/nonlabeled_test2/753.jpg'),\n",
              " PosixPath('/content/drive/MyDrive/Cs412Projectdata/nonlabeled_test2/3032.jpg'),\n",
              " PosixPath('/content/drive/MyDrive/Cs412Projectdata/nonlabeled_test2/1250.jpg'),\n",
              " PosixPath('/content/drive/MyDrive/Cs412Projectdata/nonlabeled_test2/7427.jpg'),\n",
              " PosixPath('/content/drive/MyDrive/Cs412Projectdata/nonlabeled_test2/6678.jpg'),\n",
              " PosixPath('/content/drive/MyDrive/Cs412Projectdata/nonlabeled_test2/3263.jpg'),\n",
              " PosixPath('/content/drive/MyDrive/Cs412Projectdata/nonlabeled_test2/5447.jpg'),\n",
              " PosixPath('/content/drive/MyDrive/Cs412Projectdata/nonlabeled_test2/2742.jpg'),\n",
              " PosixPath('/content/drive/MyDrive/Cs412Projectdata/nonlabeled_test2/13548.jpg'),\n",
              " PosixPath('/content/drive/MyDrive/Cs412Projectdata/nonlabeled_test2/4070.jpg'),\n",
              " PosixPath('/content/drive/MyDrive/Cs412Projectdata/nonlabeled_test2/7501.jpg'),\n",
              " PosixPath('/content/drive/MyDrive/Cs412Projectdata/nonlabeled_test2/357.jpg'),\n",
              " PosixPath('/content/drive/MyDrive/Cs412Projectdata/nonlabeled_test2/11615.jpg'),\n",
              " PosixPath('/content/drive/MyDrive/Cs412Projectdata/nonlabeled_test2/1113.jpg'),\n",
              " PosixPath('/content/drive/MyDrive/Cs412Projectdata/nonlabeled_test2/6439.jpg'),\n",
              " PosixPath('/content/drive/MyDrive/Cs412Projectdata/nonlabeled_test2/2543.jpg'),\n",
              " PosixPath('/content/drive/MyDrive/Cs412Projectdata/nonlabeled_test2/3967.jpg'),\n",
              " PosixPath('/content/drive/MyDrive/Cs412Projectdata/nonlabeled_test2/6198.jpg'),\n",
              " PosixPath('/content/drive/MyDrive/Cs412Projectdata/nonlabeled_test2/13282.jpg'),\n",
              " PosixPath('/content/drive/MyDrive/Cs412Projectdata/nonlabeled_test2/12272.jpg'),\n",
              " PosixPath('/content/drive/MyDrive/Cs412Projectdata/nonlabeled_test2/6135.jpg'),\n",
              " PosixPath('/content/drive/MyDrive/Cs412Projectdata/nonlabeled_test2/3890.jpg'),\n",
              " PosixPath('/content/drive/MyDrive/Cs412Projectdata/nonlabeled_test2/1519.jpg'),\n",
              " PosixPath('/content/drive/MyDrive/Cs412Projectdata/nonlabeled_test2/14056.jpg'),\n",
              " PosixPath('/content/drive/MyDrive/Cs412Projectdata/nonlabeled_test2/2775.jpg'),\n",
              " PosixPath('/content/drive/MyDrive/Cs412Projectdata/nonlabeled_test2/3234.jpg'),\n",
              " PosixPath('/content/drive/MyDrive/Cs412Projectdata/nonlabeled_test2/2029.jpg'),\n",
              " PosixPath('/content/drive/MyDrive/Cs412Projectdata/nonlabeled_test2/668.jpg'),\n",
              " PosixPath('/content/drive/MyDrive/Cs412Projectdata/nonlabeled_test2/12382.jpg'),\n",
              " PosixPath('/content/drive/MyDrive/Cs412Projectdata/nonlabeled_test2/11687.jpg'),\n",
              " PosixPath('/content/drive/MyDrive/Cs412Projectdata/nonlabeled_test2/3655.jpg'),\n",
              " PosixPath('/content/drive/MyDrive/Cs412Projectdata/nonlabeled_test2/9154.jpg'),\n",
              " PosixPath('/content/drive/MyDrive/Cs412Projectdata/nonlabeled_test2/1466.jpg'),\n",
              " PosixPath('/content/drive/MyDrive/Cs412Projectdata/nonlabeled_test2/3041.jpg'),\n",
              " PosixPath('/content/drive/MyDrive/Cs412Projectdata/nonlabeled_test2/10212.jpg'),\n",
              " PosixPath('/content/drive/MyDrive/Cs412Projectdata/nonlabeled_test2/9258.jpg'),\n",
              " PosixPath('/content/drive/MyDrive/Cs412Projectdata/nonlabeled_test2/13098.jpg'),\n",
              " PosixPath('/content/drive/MyDrive/Cs412Projectdata/nonlabeled_test2/8989.jpg'),\n",
              " PosixPath('/content/drive/MyDrive/Cs412Projectdata/nonlabeled_test2/863.jpg'),\n",
              " PosixPath('/content/drive/MyDrive/Cs412Projectdata/nonlabeled_test2/8748.jpg'),\n",
              " PosixPath('/content/drive/MyDrive/Cs412Projectdata/nonlabeled_test2/2328.jpg'),\n",
              " PosixPath('/content/drive/MyDrive/Cs412Projectdata/nonlabeled_test2/1543.jpg'),\n",
              " PosixPath('/content/drive/MyDrive/Cs412Projectdata/nonlabeled_test2/6674.jpg'),\n",
              " PosixPath('/content/drive/MyDrive/Cs412Projectdata/nonlabeled_test2/13155.jpg'),\n",
              " PosixPath('/content/drive/MyDrive/Cs412Projectdata/nonlabeled_test2/8018.jpg'),\n",
              " PosixPath('/content/drive/MyDrive/Cs412Projectdata/nonlabeled_test2/7257.jpg'),\n",
              " PosixPath('/content/drive/MyDrive/Cs412Projectdata/nonlabeled_test2/5694.jpg'),\n",
              " PosixPath('/content/drive/MyDrive/Cs412Projectdata/nonlabeled_test2/153.jpg'),\n",
              " PosixPath('/content/drive/MyDrive/Cs412Projectdata/nonlabeled_test2/1355.jpg'),\n",
              " PosixPath('/content/drive/MyDrive/Cs412Projectdata/nonlabeled_test2/12520.jpg'),\n",
              " PosixPath('/content/drive/MyDrive/Cs412Projectdata/nonlabeled_test2/12804.jpg'),\n",
              " PosixPath('/content/drive/MyDrive/Cs412Projectdata/nonlabeled_test2/3899.jpg'),\n",
              " PosixPath('/content/drive/MyDrive/Cs412Projectdata/nonlabeled_test2/6482.jpg'),\n",
              " PosixPath('/content/drive/MyDrive/Cs412Projectdata/nonlabeled_test2/12476.jpg'),\n",
              " PosixPath('/content/drive/MyDrive/Cs412Projectdata/nonlabeled_test2/15.jpg'),\n",
              " PosixPath('/content/drive/MyDrive/Cs412Projectdata/nonlabeled_test2/4996.jpg'),\n",
              " PosixPath('/content/drive/MyDrive/Cs412Projectdata/nonlabeled_test2/3235.jpg'),\n",
              " PosixPath('/content/drive/MyDrive/Cs412Projectdata/nonlabeled_test2/9275.jpg'),\n",
              " PosixPath('/content/drive/MyDrive/Cs412Projectdata/nonlabeled_test2/9902.jpg'),\n",
              " PosixPath('/content/drive/MyDrive/Cs412Projectdata/nonlabeled_test2/3929.jpg'),\n",
              " PosixPath('/content/drive/MyDrive/Cs412Projectdata/nonlabeled_test2/9462.jpg'),\n",
              " PosixPath('/content/drive/MyDrive/Cs412Projectdata/nonlabeled_test2/3434.jpg'),\n",
              " PosixPath('/content/drive/MyDrive/Cs412Projectdata/nonlabeled_test2/2001.jpg'),\n",
              " PosixPath('/content/drive/MyDrive/Cs412Projectdata/nonlabeled_test2/2783.jpg'),\n",
              " PosixPath('/content/drive/MyDrive/Cs412Projectdata/nonlabeled_test2/13538.jpg'),\n",
              " PosixPath('/content/drive/MyDrive/Cs412Projectdata/nonlabeled_test2/8804.jpg'),\n",
              " PosixPath('/content/drive/MyDrive/Cs412Projectdata/nonlabeled_test2/12144.jpg'),\n",
              " PosixPath('/content/drive/MyDrive/Cs412Projectdata/nonlabeled_test2/8206.jpg'),\n",
              " PosixPath('/content/drive/MyDrive/Cs412Projectdata/nonlabeled_test2/1536.jpg'),\n",
              " PosixPath('/content/drive/MyDrive/Cs412Projectdata/nonlabeled_test2/5505.jpg'),\n",
              " PosixPath('/content/drive/MyDrive/Cs412Projectdata/nonlabeled_test2/7227.jpg'),\n",
              " PosixPath('/content/drive/MyDrive/Cs412Projectdata/nonlabeled_test2/5350.jpg'),\n",
              " PosixPath('/content/drive/MyDrive/Cs412Projectdata/nonlabeled_test2/1758.jpg'),\n",
              " PosixPath('/content/drive/MyDrive/Cs412Projectdata/nonlabeled_test2/11794.jpg'),\n",
              " PosixPath('/content/drive/MyDrive/Cs412Projectdata/nonlabeled_test2/10313.jpg'),\n",
              " PosixPath('/content/drive/MyDrive/Cs412Projectdata/nonlabeled_test2/13321.jpg'),\n",
              " PosixPath('/content/drive/MyDrive/Cs412Projectdata/nonlabeled_test2/5886.jpg'),\n",
              " PosixPath('/content/drive/MyDrive/Cs412Projectdata/nonlabeled_test2/5381.jpg'),\n",
              " PosixPath('/content/drive/MyDrive/Cs412Projectdata/nonlabeled_test2/10972.jpg'),\n",
              " PosixPath('/content/drive/MyDrive/Cs412Projectdata/nonlabeled_test2/1088.jpg'),\n",
              " PosixPath('/content/drive/MyDrive/Cs412Projectdata/nonlabeled_test2/4938.jpg'),\n",
              " PosixPath('/content/drive/MyDrive/Cs412Projectdata/nonlabeled_test2/10337.jpg'),\n",
              " PosixPath('/content/drive/MyDrive/Cs412Projectdata/nonlabeled_test2/5365.jpg'),\n",
              " PosixPath('/content/drive/MyDrive/Cs412Projectdata/nonlabeled_test2/9503.jpg'),\n",
              " PosixPath('/content/drive/MyDrive/Cs412Projectdata/nonlabeled_test2/12889.jpg'),\n",
              " PosixPath('/content/drive/MyDrive/Cs412Projectdata/nonlabeled_test2/9628.jpg'),\n",
              " PosixPath('/content/drive/MyDrive/Cs412Projectdata/nonlabeled_test2/9259.jpg'),\n",
              " PosixPath('/content/drive/MyDrive/Cs412Projectdata/nonlabeled_test2/12628.jpg'),\n",
              " PosixPath('/content/drive/MyDrive/Cs412Projectdata/nonlabeled_test2/7304.jpg'),\n",
              " PosixPath('/content/drive/MyDrive/Cs412Projectdata/nonlabeled_test2/9645.jpg'),\n",
              " PosixPath('/content/drive/MyDrive/Cs412Projectdata/nonlabeled_test2/7050.jpg'),\n",
              " PosixPath('/content/drive/MyDrive/Cs412Projectdata/nonlabeled_test2/6167.jpg'),\n",
              " PosixPath('/content/drive/MyDrive/Cs412Projectdata/nonlabeled_test2/9195.jpg'),\n",
              " PosixPath('/content/drive/MyDrive/Cs412Projectdata/nonlabeled_test2/10417.jpg'),\n",
              " PosixPath('/content/drive/MyDrive/Cs412Projectdata/nonlabeled_test2/13243.jpg'),\n",
              " PosixPath('/content/drive/MyDrive/Cs412Projectdata/nonlabeled_test2/5792.jpg'),\n",
              " PosixPath('/content/drive/MyDrive/Cs412Projectdata/nonlabeled_test2/12946.jpg'),\n",
              " PosixPath('/content/drive/MyDrive/Cs412Projectdata/nonlabeled_test2/14338.jpg'),\n",
              " PosixPath('/content/drive/MyDrive/Cs412Projectdata/nonlabeled_test2/7649.jpg'),\n",
              " PosixPath('/content/drive/MyDrive/Cs412Projectdata/nonlabeled_test2/8260.jpg'),\n",
              " PosixPath('/content/drive/MyDrive/Cs412Projectdata/nonlabeled_test2/14349.jpg'),\n",
              " PosixPath('/content/drive/MyDrive/Cs412Projectdata/nonlabeled_test2/1657.jpg'),\n",
              " PosixPath('/content/drive/MyDrive/Cs412Projectdata/nonlabeled_test2/12635.jpg'),\n",
              " PosixPath('/content/drive/MyDrive/Cs412Projectdata/nonlabeled_test2/8479.jpg'),\n",
              " PosixPath('/content/drive/MyDrive/Cs412Projectdata/nonlabeled_test2/3937.jpg'),\n",
              " PosixPath('/content/drive/MyDrive/Cs412Projectdata/nonlabeled_test2/13029.jpg'),\n",
              " PosixPath('/content/drive/MyDrive/Cs412Projectdata/nonlabeled_test2/1015.jpg'),\n",
              " PosixPath('/content/drive/MyDrive/Cs412Projectdata/nonlabeled_test2/13606.jpg'),\n",
              " PosixPath('/content/drive/MyDrive/Cs412Projectdata/nonlabeled_test2/755.jpg'),\n",
              " PosixPath('/content/drive/MyDrive/Cs412Projectdata/nonlabeled_test2/2714.jpg'),\n",
              " PosixPath('/content/drive/MyDrive/Cs412Projectdata/nonlabeled_test2/2937.jpg'),\n",
              " PosixPath('/content/drive/MyDrive/Cs412Projectdata/nonlabeled_test2/12941.jpg'),\n",
              " PosixPath('/content/drive/MyDrive/Cs412Projectdata/nonlabeled_test2/6397.jpg'),\n",
              " PosixPath('/content/drive/MyDrive/Cs412Projectdata/nonlabeled_test2/9978.jpg'),\n",
              " PosixPath('/content/drive/MyDrive/Cs412Projectdata/nonlabeled_test2/12041.jpg'),\n",
              " PosixPath('/content/drive/MyDrive/Cs412Projectdata/nonlabeled_test2/5794.jpg'),\n",
              " PosixPath('/content/drive/MyDrive/Cs412Projectdata/nonlabeled_test2/14276.jpg'),\n",
              " PosixPath('/content/drive/MyDrive/Cs412Projectdata/nonlabeled_test2/1816.jpg'),\n",
              " PosixPath('/content/drive/MyDrive/Cs412Projectdata/nonlabeled_test2/4388.jpg'),\n",
              " PosixPath('/content/drive/MyDrive/Cs412Projectdata/nonlabeled_test2/6838.jpg'),\n",
              " PosixPath('/content/drive/MyDrive/Cs412Projectdata/nonlabeled_test2/13480.jpg'),\n",
              " PosixPath('/content/drive/MyDrive/Cs412Projectdata/nonlabeled_test2/2722.jpg'),\n",
              " PosixPath('/content/drive/MyDrive/Cs412Projectdata/nonlabeled_test2/4038.jpg'),\n",
              " PosixPath('/content/drive/MyDrive/Cs412Projectdata/nonlabeled_test2/10268.jpg'),\n",
              " PosixPath('/content/drive/MyDrive/Cs412Projectdata/nonlabeled_test2/708.jpg'),\n",
              " PosixPath('/content/drive/MyDrive/Cs412Projectdata/nonlabeled_test2/11997.jpg'),\n",
              " PosixPath('/content/drive/MyDrive/Cs412Projectdata/nonlabeled_test2/6390.jpg'),\n",
              " PosixPath('/content/drive/MyDrive/Cs412Projectdata/nonlabeled_test2/11065.jpg'),\n",
              " PosixPath('/content/drive/MyDrive/Cs412Projectdata/nonlabeled_test2/7299.jpg'),\n",
              " PosixPath('/content/drive/MyDrive/Cs412Projectdata/nonlabeled_test2/12762.jpg'),\n",
              " PosixPath('/content/drive/MyDrive/Cs412Projectdata/nonlabeled_test2/10897.jpg'),\n",
              " PosixPath('/content/drive/MyDrive/Cs412Projectdata/nonlabeled_test2/3119.jpg'),\n",
              " PosixPath('/content/drive/MyDrive/Cs412Projectdata/nonlabeled_test2/11209.jpg'),\n",
              " PosixPath('/content/drive/MyDrive/Cs412Projectdata/nonlabeled_test2/3308.jpg'),\n",
              " PosixPath('/content/drive/MyDrive/Cs412Projectdata/nonlabeled_test2/3886.jpg'),\n",
              " PosixPath('/content/drive/MyDrive/Cs412Projectdata/nonlabeled_test2/9434.jpg'),\n",
              " PosixPath('/content/drive/MyDrive/Cs412Projectdata/nonlabeled_test2/2812.jpg'),\n",
              " PosixPath('/content/drive/MyDrive/Cs412Projectdata/nonlabeled_test2/1622.jpg'),\n",
              " PosixPath('/content/drive/MyDrive/Cs412Projectdata/nonlabeled_test2/12550.jpg'),\n",
              " PosixPath('/content/drive/MyDrive/Cs412Projectdata/nonlabeled_test2/1305.jpg'),\n",
              " PosixPath('/content/drive/MyDrive/Cs412Projectdata/nonlabeled_test2/4931.jpg'),\n",
              " PosixPath('/content/drive/MyDrive/Cs412Projectdata/nonlabeled_test2/10738.jpg'),\n",
              " PosixPath('/content/drive/MyDrive/Cs412Projectdata/nonlabeled_test2/3416.jpg'),\n",
              " PosixPath('/content/drive/MyDrive/Cs412Projectdata/nonlabeled_test2/9508.jpg'),\n",
              " PosixPath('/content/drive/MyDrive/Cs412Projectdata/nonlabeled_test2/9550.jpg'),\n",
              " PosixPath('/content/drive/MyDrive/Cs412Projectdata/nonlabeled_test2/1871.jpg'),\n",
              " PosixPath('/content/drive/MyDrive/Cs412Projectdata/nonlabeled_test2/14336.jpg'),\n",
              " PosixPath('/content/drive/MyDrive/Cs412Projectdata/nonlabeled_test2/11585.jpg'),\n",
              " PosixPath('/content/drive/MyDrive/Cs412Projectdata/nonlabeled_test2/7866.jpg'),\n",
              " PosixPath('/content/drive/MyDrive/Cs412Projectdata/nonlabeled_test2/2281.jpg'),\n",
              " PosixPath('/content/drive/MyDrive/Cs412Projectdata/nonlabeled_test2/12931.jpg'),\n",
              " PosixPath('/content/drive/MyDrive/Cs412Projectdata/nonlabeled_test2/5148.jpg'),\n",
              " PosixPath('/content/drive/MyDrive/Cs412Projectdata/nonlabeled_test2/4558.jpg'),\n",
              " PosixPath('/content/drive/MyDrive/Cs412Projectdata/nonlabeled_test2/8745.jpg'),\n",
              " PosixPath('/content/drive/MyDrive/Cs412Projectdata/nonlabeled_test2/3717.jpg'),\n",
              " PosixPath('/content/drive/MyDrive/Cs412Projectdata/nonlabeled_test2/11386.jpg'),\n",
              " PosixPath('/content/drive/MyDrive/Cs412Projectdata/nonlabeled_test2/596.jpg'),\n",
              " PosixPath('/content/drive/MyDrive/Cs412Projectdata/nonlabeled_test2/2847.jpg'),\n",
              " PosixPath('/content/drive/MyDrive/Cs412Projectdata/nonlabeled_test2/5463.jpg'),\n",
              " PosixPath('/content/drive/MyDrive/Cs412Projectdata/nonlabeled_test2/7573.jpg'),\n",
              " PosixPath('/content/drive/MyDrive/Cs412Projectdata/nonlabeled_test2/3793.jpg'),\n",
              " PosixPath('/content/drive/MyDrive/Cs412Projectdata/nonlabeled_test2/9635.jpg'),\n",
              " PosixPath('/content/drive/MyDrive/Cs412Projectdata/nonlabeled_test2/14173.jpg'),\n",
              " PosixPath('/content/drive/MyDrive/Cs412Projectdata/nonlabeled_test2/8767.jpg'),\n",
              " PosixPath('/content/drive/MyDrive/Cs412Projectdata/nonlabeled_test2/13554.jpg'),\n",
              " PosixPath('/content/drive/MyDrive/Cs412Projectdata/nonlabeled_test2/6706.jpg'),\n",
              " PosixPath('/content/drive/MyDrive/Cs412Projectdata/nonlabeled_test2/13244.jpg'),\n",
              " PosixPath('/content/drive/MyDrive/Cs412Projectdata/nonlabeled_test2/6905.jpg'),\n",
              " PosixPath('/content/drive/MyDrive/Cs412Projectdata/nonlabeled_test2/364.jpg'),\n",
              " PosixPath('/content/drive/MyDrive/Cs412Projectdata/nonlabeled_test2/5035.jpg'),\n",
              " PosixPath('/content/drive/MyDrive/Cs412Projectdata/nonlabeled_test2/12157.jpg'),\n",
              " PosixPath('/content/drive/MyDrive/Cs412Projectdata/nonlabeled_test2/10055.jpg'),\n",
              " PosixPath('/content/drive/MyDrive/Cs412Projectdata/nonlabeled_test2/10359.jpg'),\n",
              " PosixPath('/content/drive/MyDrive/Cs412Projectdata/nonlabeled_test2/13662.jpg'),\n",
              " PosixPath('/content/drive/MyDrive/Cs412Projectdata/nonlabeled_test2/7358.jpg'),\n",
              " PosixPath('/content/drive/MyDrive/Cs412Projectdata/nonlabeled_test2/958.jpg'),\n",
              " PosixPath('/content/drive/MyDrive/Cs412Projectdata/nonlabeled_test2/7030.jpg'),\n",
              " PosixPath('/content/drive/MyDrive/Cs412Projectdata/nonlabeled_test2/9777.jpg'),\n",
              " PosixPath('/content/drive/MyDrive/Cs412Projectdata/nonlabeled_test2/303.jpg'),\n",
              " PosixPath('/content/drive/MyDrive/Cs412Projectdata/nonlabeled_test2/6025.jpg'),\n",
              " PosixPath('/content/drive/MyDrive/Cs412Projectdata/nonlabeled_test2/191.jpg'),\n",
              " PosixPath('/content/drive/MyDrive/Cs412Projectdata/nonlabeled_test2/3376.jpg'),\n",
              " PosixPath('/content/drive/MyDrive/Cs412Projectdata/nonlabeled_test2/10455.jpg'),\n",
              " PosixPath('/content/drive/MyDrive/Cs412Projectdata/nonlabeled_test2/772.jpg'),\n",
              " PosixPath('/content/drive/MyDrive/Cs412Projectdata/nonlabeled_test2/2707.jpg'),\n",
              " PosixPath('/content/drive/MyDrive/Cs412Projectdata/nonlabeled_test2/3816.jpg'),\n",
              " PosixPath('/content/drive/MyDrive/Cs412Projectdata/nonlabeled_test2/7075.jpg'),\n",
              " PosixPath('/content/drive/MyDrive/Cs412Projectdata/nonlabeled_test2/374.jpg'),\n",
              " PosixPath('/content/drive/MyDrive/Cs412Projectdata/nonlabeled_test2/660.jpg'),\n",
              " PosixPath('/content/drive/MyDrive/Cs412Projectdata/nonlabeled_test2/5515.jpg'),\n",
              " PosixPath('/content/drive/MyDrive/Cs412Projectdata/nonlabeled_test2/11672.jpg'),\n",
              " PosixPath('/content/drive/MyDrive/Cs412Projectdata/nonlabeled_test2/4575.jpg'),\n",
              " PosixPath('/content/drive/MyDrive/Cs412Projectdata/nonlabeled_test2/7778.jpg'),\n",
              " PosixPath('/content/drive/MyDrive/Cs412Projectdata/nonlabeled_test2/11752.jpg'),\n",
              " PosixPath('/content/drive/MyDrive/Cs412Projectdata/nonlabeled_test2/1329.jpg'),\n",
              " PosixPath('/content/drive/MyDrive/Cs412Projectdata/nonlabeled_test2/6412.jpg'),\n",
              " PosixPath('/content/drive/MyDrive/Cs412Projectdata/nonlabeled_test2/12261.jpg'),\n",
              " PosixPath('/content/drive/MyDrive/Cs412Projectdata/nonlabeled_test2/11989.jpg'),\n",
              " PosixPath('/content/drive/MyDrive/Cs412Projectdata/nonlabeled_test2/5164.jpg'),\n",
              " PosixPath('/content/drive/MyDrive/Cs412Projectdata/nonlabeled_test2/7088.jpg'),\n",
              " PosixPath('/content/drive/MyDrive/Cs412Projectdata/nonlabeled_test2/8171.jpg'),\n",
              " PosixPath('/content/drive/MyDrive/Cs412Projectdata/nonlabeled_test2/6403.jpg'),\n",
              " PosixPath('/content/drive/MyDrive/Cs412Projectdata/nonlabeled_test2/11600.jpg'),\n",
              " PosixPath('/content/drive/MyDrive/Cs412Projectdata/nonlabeled_test2/5795.jpg'),\n",
              " PosixPath('/content/drive/MyDrive/Cs412Projectdata/nonlabeled_test2/7899.jpg'),\n",
              " PosixPath('/content/drive/MyDrive/Cs412Projectdata/nonlabeled_test2/12198.jpg'),\n",
              " PosixPath('/content/drive/MyDrive/Cs412Projectdata/nonlabeled_test2/9320.jpg'),\n",
              " PosixPath('/content/drive/MyDrive/Cs412Projectdata/nonlabeled_test2/5842.jpg'),\n",
              " PosixPath('/content/drive/MyDrive/Cs412Projectdata/nonlabeled_test2/4822.jpg'),\n",
              " PosixPath('/content/drive/MyDrive/Cs412Projectdata/nonlabeled_test2/13090.jpg'),\n",
              " PosixPath('/content/drive/MyDrive/Cs412Projectdata/nonlabeled_test2/9338.jpg'),\n",
              " PosixPath('/content/drive/MyDrive/Cs412Projectdata/nonlabeled_test2/3785.jpg'),\n",
              " PosixPath('/content/drive/MyDrive/Cs412Projectdata/nonlabeled_test2/13394.jpg'),\n",
              " PosixPath('/content/drive/MyDrive/Cs412Projectdata/nonlabeled_test2/31.jpg'),\n",
              " PosixPath('/content/drive/MyDrive/Cs412Projectdata/nonlabeled_test2/11999.jpg'),\n",
              " PosixPath('/content/drive/MyDrive/Cs412Projectdata/nonlabeled_test2/7975.jpg'),\n",
              " PosixPath('/content/drive/MyDrive/Cs412Projectdata/nonlabeled_test2/7083.jpg'),\n",
              " PosixPath('/content/drive/MyDrive/Cs412Projectdata/nonlabeled_test2/14323.jpg'),\n",
              " PosixPath('/content/drive/MyDrive/Cs412Projectdata/nonlabeled_test2/1868.jpg'),\n",
              " PosixPath('/content/drive/MyDrive/Cs412Projectdata/nonlabeled_test2/13440.jpg'),\n",
              " PosixPath('/content/drive/MyDrive/Cs412Projectdata/nonlabeled_test2/12984.jpg'),\n",
              " PosixPath('/content/drive/MyDrive/Cs412Projectdata/nonlabeled_test2/3506.jpg'),\n",
              " PosixPath('/content/drive/MyDrive/Cs412Projectdata/nonlabeled_test2/2911.jpg'),\n",
              " PosixPath('/content/drive/MyDrive/Cs412Projectdata/nonlabeled_test2/13340.jpg'),\n",
              " PosixPath('/content/drive/MyDrive/Cs412Projectdata/nonlabeled_test2/7555.jpg'),\n",
              " PosixPath('/content/drive/MyDrive/Cs412Projectdata/nonlabeled_test2/8026.jpg'),\n",
              " PosixPath('/content/drive/MyDrive/Cs412Projectdata/nonlabeled_test2/6014.jpg'),\n",
              " PosixPath('/content/drive/MyDrive/Cs412Projectdata/nonlabeled_test2/11624.jpg'),\n",
              " PosixPath('/content/drive/MyDrive/Cs412Projectdata/nonlabeled_test2/5455.jpg'),\n",
              " PosixPath('/content/drive/MyDrive/Cs412Projectdata/nonlabeled_test2/1998.jpg'),\n",
              " PosixPath('/content/drive/MyDrive/Cs412Projectdata/nonlabeled_test2/6995.jpg'),\n",
              " PosixPath('/content/drive/MyDrive/Cs412Projectdata/nonlabeled_test2/2228.jpg'),\n",
              " PosixPath('/content/drive/MyDrive/Cs412Projectdata/nonlabeled_test2/12467.jpg'),\n",
              " PosixPath('/content/drive/MyDrive/Cs412Projectdata/nonlabeled_test2/8440.jpg'),\n",
              " PosixPath('/content/drive/MyDrive/Cs412Projectdata/nonlabeled_test2/11045.jpg'),\n",
              " PosixPath('/content/drive/MyDrive/Cs412Projectdata/nonlabeled_test2/11400.jpg'),\n",
              " PosixPath('/content/drive/MyDrive/Cs412Projectdata/nonlabeled_test2/5313.jpg'),\n",
              " PosixPath('/content/drive/MyDrive/Cs412Projectdata/nonlabeled_test2/11107.jpg'),\n",
              " PosixPath('/content/drive/MyDrive/Cs412Projectdata/nonlabeled_test2/3259.jpg'),\n",
              " PosixPath('/content/drive/MyDrive/Cs412Projectdata/nonlabeled_test2/4844.jpg'),\n",
              " PosixPath('/content/drive/MyDrive/Cs412Projectdata/nonlabeled_test2/7152.jpg'),\n",
              " PosixPath('/content/drive/MyDrive/Cs412Projectdata/nonlabeled_test2/11695.jpg'),\n",
              " PosixPath('/content/drive/MyDrive/Cs412Projectdata/nonlabeled_test2/5152.jpg'),\n",
              " PosixPath('/content/drive/MyDrive/Cs412Projectdata/nonlabeled_test2/12514.jpg'),\n",
              " PosixPath('/content/drive/MyDrive/Cs412Projectdata/nonlabeled_test2/7787.jpg'),\n",
              " PosixPath('/content/drive/MyDrive/Cs412Projectdata/nonlabeled_test2/8151.jpg'),\n",
              " PosixPath('/content/drive/MyDrive/Cs412Projectdata/nonlabeled_test2/14404.jpg'),\n",
              " PosixPath('/content/drive/MyDrive/Cs412Projectdata/nonlabeled_test2/7287.jpg'),\n",
              " PosixPath('/content/drive/MyDrive/Cs412Projectdata/nonlabeled_test2/7236.jpg'),\n",
              " PosixPath('/content/drive/MyDrive/Cs412Projectdata/nonlabeled_test2/14243.jpg'),\n",
              " PosixPath('/content/drive/MyDrive/Cs412Projectdata/nonlabeled_test2/7300.jpg'),\n",
              " PosixPath('/content/drive/MyDrive/Cs412Projectdata/nonlabeled_test2/6444.jpg'),\n",
              " PosixPath('/content/drive/MyDrive/Cs412Projectdata/nonlabeled_test2/11717.jpg'),\n",
              " PosixPath('/content/drive/MyDrive/Cs412Projectdata/nonlabeled_test2/1289.jpg'),\n",
              " PosixPath('/content/drive/MyDrive/Cs412Projectdata/nonlabeled_test2/1314.jpg'),\n",
              " PosixPath('/content/drive/MyDrive/Cs412Projectdata/nonlabeled_test2/1908.jpg'),\n",
              " PosixPath('/content/drive/MyDrive/Cs412Projectdata/nonlabeled_test2/2821.jpg'),\n",
              " PosixPath('/content/drive/MyDrive/Cs412Projectdata/nonlabeled_test2/12701.jpg'),\n",
              " PosixPath('/content/drive/MyDrive/Cs412Projectdata/nonlabeled_test2/3621.jpg'),\n",
              " PosixPath('/content/drive/MyDrive/Cs412Projectdata/nonlabeled_test2/3751.jpg'),\n",
              " PosixPath('/content/drive/MyDrive/Cs412Projectdata/nonlabeled_test2/1743.jpg'),\n",
              " PosixPath('/content/drive/MyDrive/Cs412Projectdata/nonlabeled_test2/14081.jpg'),\n",
              " PosixPath('/content/drive/MyDrive/Cs412Projectdata/nonlabeled_test2/11433.jpg'),\n",
              " PosixPath('/content/drive/MyDrive/Cs412Projectdata/nonlabeled_test2/9024.jpg'),\n",
              " PosixPath('/content/drive/MyDrive/Cs412Projectdata/nonlabeled_test2/10983.jpg'),\n",
              " PosixPath('/content/drive/MyDrive/Cs412Projectdata/nonlabeled_test2/10459.jpg'),\n",
              " PosixPath('/content/drive/MyDrive/Cs412Projectdata/nonlabeled_test2/14196.jpg'),\n",
              " PosixPath('/content/drive/MyDrive/Cs412Projectdata/nonlabeled_test2/10833.jpg'),\n",
              " PosixPath('/content/drive/MyDrive/Cs412Projectdata/nonlabeled_test2/6154.jpg'),\n",
              " PosixPath('/content/drive/MyDrive/Cs412Projectdata/nonlabeled_test2/14260.jpg'),\n",
              " PosixPath('/content/drive/MyDrive/Cs412Projectdata/nonlabeled_test2/853.jpg'),\n",
              " PosixPath('/content/drive/MyDrive/Cs412Projectdata/nonlabeled_test2/11636.jpg'),\n",
              " PosixPath('/content/drive/MyDrive/Cs412Projectdata/nonlabeled_test2/4641.jpg'),\n",
              " PosixPath('/content/drive/MyDrive/Cs412Projectdata/nonlabeled_test2/12614.jpg'),\n",
              " PosixPath('/content/drive/MyDrive/Cs412Projectdata/nonlabeled_test2/5173.jpg'),\n",
              " PosixPath('/content/drive/MyDrive/Cs412Projectdata/nonlabeled_test2/1118.jpg'),\n",
              " PosixPath('/content/drive/MyDrive/Cs412Projectdata/nonlabeled_test2/10922.jpg'),\n",
              " PosixPath('/content/drive/MyDrive/Cs412Projectdata/nonlabeled_test2/7855.jpg'),\n",
              " PosixPath('/content/drive/MyDrive/Cs412Projectdata/nonlabeled_test2/7776.jpg'),\n",
              " PosixPath('/content/drive/MyDrive/Cs412Projectdata/nonlabeled_test2/1903.jpg'),\n",
              " PosixPath('/content/drive/MyDrive/Cs412Projectdata/nonlabeled_test2/12737.jpg'),\n",
              " PosixPath('/content/drive/MyDrive/Cs412Projectdata/nonlabeled_test2/4798.jpg'),\n",
              " PosixPath('/content/drive/MyDrive/Cs412Projectdata/nonlabeled_test2/6072.jpg'),\n",
              " PosixPath('/content/drive/MyDrive/Cs412Projectdata/nonlabeled_test2/10621.jpg'),\n",
              " PosixPath('/content/drive/MyDrive/Cs412Projectdata/nonlabeled_test2/2789.jpg'),\n",
              " PosixPath('/content/drive/MyDrive/Cs412Projectdata/nonlabeled_test2/13868.jpg'),\n",
              " PosixPath('/content/drive/MyDrive/Cs412Projectdata/nonlabeled_test2/5112.jpg'),\n",
              " PosixPath('/content/drive/MyDrive/Cs412Projectdata/nonlabeled_test2/12606.jpg'),\n",
              " PosixPath('/content/drive/MyDrive/Cs412Projectdata/nonlabeled_test2/6560.jpg'),\n",
              " PosixPath('/content/drive/MyDrive/Cs412Projectdata/nonlabeled_test2/9485.jpg'),\n",
              " PosixPath('/content/drive/MyDrive/Cs412Projectdata/nonlabeled_test2/13465.jpg'),\n",
              " PosixPath('/content/drive/MyDrive/Cs412Projectdata/nonlabeled_test2/10950.jpg'),\n",
              " PosixPath('/content/drive/MyDrive/Cs412Projectdata/nonlabeled_test2/8730.jpg'),\n",
              " PosixPath('/content/drive/MyDrive/Cs412Projectdata/nonlabeled_test2/1626.jpg'),\n",
              " PosixPath('/content/drive/MyDrive/Cs412Projectdata/nonlabeled_test2/9208.jpg'),\n",
              " PosixPath('/content/drive/MyDrive/Cs412Projectdata/nonlabeled_test2/4368.jpg'),\n",
              " PosixPath('/content/drive/MyDrive/Cs412Projectdata/nonlabeled_test2/11639.jpg'),\n",
              " PosixPath('/content/drive/MyDrive/Cs412Projectdata/nonlabeled_test2/13552.jpg'),\n",
              " PosixPath('/content/drive/MyDrive/Cs412Projectdata/nonlabeled_test2/9842.jpg'),\n",
              " PosixPath('/content/drive/MyDrive/Cs412Projectdata/nonlabeled_test2/9074.jpg'),\n",
              " PosixPath('/content/drive/MyDrive/Cs412Projectdata/nonlabeled_test2/12050.jpg'),\n",
              " PosixPath('/content/drive/MyDrive/Cs412Projectdata/nonlabeled_test2/4212.jpg'),\n",
              " PosixPath('/content/drive/MyDrive/Cs412Projectdata/nonlabeled_test2/4342.jpg'),\n",
              " PosixPath('/content/drive/MyDrive/Cs412Projectdata/nonlabeled_test2/1781.jpg'),\n",
              " PosixPath('/content/drive/MyDrive/Cs412Projectdata/nonlabeled_test2/4642.jpg'),\n",
              " PosixPath('/content/drive/MyDrive/Cs412Projectdata/nonlabeled_test2/13309.jpg'),\n",
              " PosixPath('/content/drive/MyDrive/Cs412Projectdata/nonlabeled_test2/5431.jpg'),\n",
              " PosixPath('/content/drive/MyDrive/Cs412Projectdata/nonlabeled_test2/9632.jpg'),\n",
              " PosixPath('/content/drive/MyDrive/Cs412Projectdata/nonlabeled_test2/4411.jpg'),\n",
              " PosixPath('/content/drive/MyDrive/Cs412Projectdata/nonlabeled_test2/5064.jpg'),\n",
              " PosixPath('/content/drive/MyDrive/Cs412Projectdata/nonlabeled_test2/3697.jpg'),\n",
              " PosixPath('/content/drive/MyDrive/Cs412Projectdata/nonlabeled_test2/13274.jpg'),\n",
              " PosixPath('/content/drive/MyDrive/Cs412Projectdata/nonlabeled_test2/8890.jpg'),\n",
              " PosixPath('/content/drive/MyDrive/Cs412Projectdata/nonlabeled_test2/5975.jpg'),\n",
              " PosixPath('/content/drive/MyDrive/Cs412Projectdata/nonlabeled_test2/7274.jpg'),\n",
              " PosixPath('/content/drive/MyDrive/Cs412Projectdata/nonlabeled_test2/5279.jpg'),\n",
              " PosixPath('/content/drive/MyDrive/Cs412Projectdata/nonlabeled_test2/8047.jpg'),\n",
              " PosixPath('/content/drive/MyDrive/Cs412Projectdata/nonlabeled_test2/14178.jpg'),\n",
              " PosixPath('/content/drive/MyDrive/Cs412Projectdata/nonlabeled_test2/3433.jpg'),\n",
              " PosixPath('/content/drive/MyDrive/Cs412Projectdata/nonlabeled_test2/8900.jpg'),\n",
              " PosixPath('/content/drive/MyDrive/Cs412Projectdata/nonlabeled_test2/4206.jpg'),\n",
              " PosixPath('/content/drive/MyDrive/Cs412Projectdata/nonlabeled_test2/11283.jpg'),\n",
              " PosixPath('/content/drive/MyDrive/Cs412Projectdata/nonlabeled_test2/13355.jpg'),\n",
              " PosixPath('/content/drive/MyDrive/Cs412Projectdata/nonlabeled_test2/5911.jpg'),\n",
              " PosixPath('/content/drive/MyDrive/Cs412Projectdata/nonlabeled_test2/339.jpg'),\n",
              " PosixPath('/content/drive/MyDrive/Cs412Projectdata/nonlabeled_test2/2870.jpg'),\n",
              " PosixPath('/content/drive/MyDrive/Cs412Projectdata/nonlabeled_test2/5902.jpg'),\n",
              " PosixPath('/content/drive/MyDrive/Cs412Projectdata/nonlabeled_test2/4256.jpg'),\n",
              " PosixPath('/content/drive/MyDrive/Cs412Projectdata/nonlabeled_test2/1806.jpg'),\n",
              " PosixPath('/content/drive/MyDrive/Cs412Projectdata/nonlabeled_test2/11556.jpg'),\n",
              " PosixPath('/content/drive/MyDrive/Cs412Projectdata/nonlabeled_test2/9463.jpg'),\n",
              " PosixPath('/content/drive/MyDrive/Cs412Projectdata/nonlabeled_test2/5548.jpg'),\n",
              " PosixPath('/content/drive/MyDrive/Cs412Projectdata/nonlabeled_test2/8406.jpg'),\n",
              " PosixPath('/content/drive/MyDrive/Cs412Projectdata/nonlabeled_test2/7687.jpg'),\n",
              " PosixPath('/content/drive/MyDrive/Cs412Projectdata/nonlabeled_test2/7466.jpg'),\n",
              " PosixPath('/content/drive/MyDrive/Cs412Projectdata/nonlabeled_test2/14308.jpg'),\n",
              " PosixPath('/content/drive/MyDrive/Cs412Projectdata/nonlabeled_test2/8465.jpg'),\n",
              " PosixPath('/content/drive/MyDrive/Cs412Projectdata/nonlabeled_test2/9560.jpg'),\n",
              " PosixPath('/content/drive/MyDrive/Cs412Projectdata/nonlabeled_test2/13310.jpg'),\n",
              " PosixPath('/content/drive/MyDrive/Cs412Projectdata/nonlabeled_test2/5298.jpg'),\n",
              " PosixPath('/content/drive/MyDrive/Cs412Projectdata/nonlabeled_test2/2558.jpg'),\n",
              " PosixPath('/content/drive/MyDrive/Cs412Projectdata/nonlabeled_test2/13111.jpg'),\n",
              " PosixPath('/content/drive/MyDrive/Cs412Projectdata/nonlabeled_test2/2887.jpg'),\n",
              " PosixPath('/content/drive/MyDrive/Cs412Projectdata/nonlabeled_test2/4982.jpg'),\n",
              " PosixPath('/content/drive/MyDrive/Cs412Projectdata/nonlabeled_test2/5246.jpg'),\n",
              " PosixPath('/content/drive/MyDrive/Cs412Projectdata/nonlabeled_test2/13289.jpg'),\n",
              " PosixPath('/content/drive/MyDrive/Cs412Projectdata/nonlabeled_test2/13426.jpg'),\n",
              " PosixPath('/content/drive/MyDrive/Cs412Projectdata/nonlabeled_test2/7909.jpg'),\n",
              " PosixPath('/content/drive/MyDrive/Cs412Projectdata/nonlabeled_test2/10106.jpg'),\n",
              " PosixPath('/content/drive/MyDrive/Cs412Projectdata/nonlabeled_test2/12504.jpg'),\n",
              " PosixPath('/content/drive/MyDrive/Cs412Projectdata/nonlabeled_test2/100.jpg'),\n",
              " PosixPath('/content/drive/MyDrive/Cs412Projectdata/nonlabeled_test2/9838.jpg'),\n",
              " PosixPath('/content/drive/MyDrive/Cs412Projectdata/nonlabeled_test2/6520.jpg'),\n",
              " PosixPath('/content/drive/MyDrive/Cs412Projectdata/nonlabeled_test2/5657.jpg'),\n",
              " PosixPath('/content/drive/MyDrive/Cs412Projectdata/nonlabeled_test2/7639.jpg'),\n",
              " PosixPath('/content/drive/MyDrive/Cs412Projectdata/nonlabeled_test2/7634.jpg'),\n",
              " PosixPath('/content/drive/MyDrive/Cs412Projectdata/nonlabeled_test2/5136.jpg'),\n",
              " PosixPath('/content/drive/MyDrive/Cs412Projectdata/nonlabeled_test2/5549.jpg'),\n",
              " PosixPath('/content/drive/MyDrive/Cs412Projectdata/nonlabeled_test2/1047.jpg'),\n",
              " PosixPath('/content/drive/MyDrive/Cs412Projectdata/nonlabeled_test2/12180.jpg'),\n",
              " PosixPath('/content/drive/MyDrive/Cs412Projectdata/nonlabeled_test2/11315.jpg'),\n",
              " PosixPath('/content/drive/MyDrive/Cs412Projectdata/nonlabeled_test2/14105.jpg'),\n",
              " PosixPath('/content/drive/MyDrive/Cs412Projectdata/nonlabeled_test2/10687.jpg'),\n",
              " PosixPath('/content/drive/MyDrive/Cs412Projectdata/nonlabeled_test2/3369.jpg'),\n",
              " PosixPath('/content/drive/MyDrive/Cs412Projectdata/nonlabeled_test2/3065.jpg'),\n",
              " PosixPath('/content/drive/MyDrive/Cs412Projectdata/nonlabeled_test2/7892.jpg'),\n",
              " PosixPath('/content/drive/MyDrive/Cs412Projectdata/nonlabeled_test2/2706.jpg'),\n",
              " PosixPath('/content/drive/MyDrive/Cs412Projectdata/nonlabeled_test2/7409.jpg'),\n",
              " PosixPath('/content/drive/MyDrive/Cs412Projectdata/nonlabeled_test2/13672.jpg'),\n",
              " PosixPath('/content/drive/MyDrive/Cs412Projectdata/nonlabeled_test2/12799.jpg'),\n",
              " PosixPath('/content/drive/MyDrive/Cs412Projectdata/nonlabeled_test2/11419.jpg'),\n",
              " PosixPath('/content/drive/MyDrive/Cs412Projectdata/nonlabeled_test2/14306.jpg'),\n",
              " PosixPath('/content/drive/MyDrive/Cs412Projectdata/nonlabeled_test2/11586.jpg'),\n",
              " PosixPath('/content/drive/MyDrive/Cs412Projectdata/nonlabeled_test2/10885.jpg'),\n",
              " PosixPath('/content/drive/MyDrive/Cs412Projectdata/nonlabeled_test2/8601.jpg'),\n",
              " PosixPath('/content/drive/MyDrive/Cs412Projectdata/nonlabeled_test2/14026.jpg'),\n",
              " PosixPath('/content/drive/MyDrive/Cs412Projectdata/nonlabeled_test2/12599.jpg'),\n",
              " PosixPath('/content/drive/MyDrive/Cs412Projectdata/nonlabeled_test2/9442.jpg'),\n",
              " PosixPath('/content/drive/MyDrive/Cs412Projectdata/nonlabeled_test2/2186.jpg'),\n",
              " PosixPath('/content/drive/MyDrive/Cs412Projectdata/nonlabeled_test2/3454.jpg'),\n",
              " PosixPath('/content/drive/MyDrive/Cs412Projectdata/nonlabeled_test2/2347.jpg'),\n",
              " PosixPath('/content/drive/MyDrive/Cs412Projectdata/nonlabeled_test2/11236.jpg'),\n",
              " PosixPath('/content/drive/MyDrive/Cs412Projectdata/nonlabeled_test2/13946.jpg'),\n",
              " PosixPath('/content/drive/MyDrive/Cs412Projectdata/nonlabeled_test2/591.jpg'),\n",
              " PosixPath('/content/drive/MyDrive/Cs412Projectdata/nonlabeled_test2/13885.jpg'),\n",
              " PosixPath('/content/drive/MyDrive/Cs412Projectdata/nonlabeled_test2/11570.jpg'),\n",
              " PosixPath('/content/drive/MyDrive/Cs412Projectdata/nonlabeled_test2/3015.jpg'),\n",
              " PosixPath('/content/drive/MyDrive/Cs412Projectdata/nonlabeled_test2/11085.jpg'),\n",
              " PosixPath('/content/drive/MyDrive/Cs412Projectdata/nonlabeled_test2/2083.jpg'),\n",
              " PosixPath('/content/drive/MyDrive/Cs412Projectdata/nonlabeled_test2/11447.jpg'),\n",
              " PosixPath('/content/drive/MyDrive/Cs412Projectdata/nonlabeled_test2/6208.jpg'),\n",
              " PosixPath('/content/drive/MyDrive/Cs412Projectdata/nonlabeled_test2/7704.jpg'),\n",
              " PosixPath('/content/drive/MyDrive/Cs412Projectdata/nonlabeled_test2/5346.jpg'),\n",
              " PosixPath('/content/drive/MyDrive/Cs412Projectdata/nonlabeled_test2/3605.jpg'),\n",
              " PosixPath('/content/drive/MyDrive/Cs412Projectdata/nonlabeled_test2/10986.jpg'),\n",
              " PosixPath('/content/drive/MyDrive/Cs412Projectdata/nonlabeled_test2/5520.jpg'),\n",
              " PosixPath('/content/drive/MyDrive/Cs412Projectdata/nonlabeled_test2/7252.jpg'),\n",
              " PosixPath('/content/drive/MyDrive/Cs412Projectdata/nonlabeled_test2/8152.jpg'),\n",
              " PosixPath('/content/drive/MyDrive/Cs412Projectdata/nonlabeled_test2/14339.jpg'),\n",
              " PosixPath('/content/drive/MyDrive/Cs412Projectdata/nonlabeled_test2/7659.jpg'),\n",
              " PosixPath('/content/drive/MyDrive/Cs412Projectdata/nonlabeled_test2/11768.jpg'),\n",
              " PosixPath('/content/drive/MyDrive/Cs412Projectdata/nonlabeled_test2/7066.jpg'),\n",
              " PosixPath('/content/drive/MyDrive/Cs412Projectdata/nonlabeled_test2/11825.jpg'),\n",
              " PosixPath('/content/drive/MyDrive/Cs412Projectdata/nonlabeled_test2/6099.jpg'),\n",
              " PosixPath('/content/drive/MyDrive/Cs412Projectdata/nonlabeled_test2/8781.jpg'),\n",
              " PosixPath('/content/drive/MyDrive/Cs412Projectdata/nonlabeled_test2/290.jpg'),\n",
              " PosixPath('/content/drive/MyDrive/Cs412Projectdata/nonlabeled_test2/12031.jpg'),\n",
              " PosixPath('/content/drive/MyDrive/Cs412Projectdata/nonlabeled_test2/638.jpg'),\n",
              " PosixPath('/content/drive/MyDrive/Cs412Projectdata/nonlabeled_test2/3423.jpg'),\n",
              " PosixPath('/content/drive/MyDrive/Cs412Projectdata/nonlabeled_test2/5686.jpg'),\n",
              " PosixPath('/content/drive/MyDrive/Cs412Projectdata/nonlabeled_test2/10683.jpg'),\n",
              " PosixPath('/content/drive/MyDrive/Cs412Projectdata/nonlabeled_test2/12140.jpg'),\n",
              " PosixPath('/content/drive/MyDrive/Cs412Projectdata/nonlabeled_test2/7369.jpg'),\n",
              " PosixPath('/content/drive/MyDrive/Cs412Projectdata/nonlabeled_test2/6481.jpg'),\n",
              " PosixPath('/content/drive/MyDrive/Cs412Projectdata/nonlabeled_test2/6813.jpg'),\n",
              " PosixPath('/content/drive/MyDrive/Cs412Projectdata/nonlabeled_test2/7928.jpg'),\n",
              " PosixPath('/content/drive/MyDrive/Cs412Projectdata/nonlabeled_test2/13981.jpg'),\n",
              " PosixPath('/content/drive/MyDrive/Cs412Projectdata/nonlabeled_test2/12549.jpg'),\n",
              " PosixPath('/content/drive/MyDrive/Cs412Projectdata/nonlabeled_test2/7139.jpg'),\n",
              " PosixPath('/content/drive/MyDrive/Cs412Projectdata/nonlabeled_test2/8466.jpg'),\n",
              " PosixPath('/content/drive/MyDrive/Cs412Projectdata/nonlabeled_test2/9429.jpg'),\n",
              " PosixPath('/content/drive/MyDrive/Cs412Projectdata/nonlabeled_test2/1181.jpg'),\n",
              " PosixPath('/content/drive/MyDrive/Cs412Projectdata/nonlabeled_test2/14169.jpg'),\n",
              " PosixPath('/content/drive/MyDrive/Cs412Projectdata/nonlabeled_test2/8478.jpg'),\n",
              " PosixPath('/content/drive/MyDrive/Cs412Projectdata/nonlabeled_test2/8238.jpg'),\n",
              " PosixPath('/content/drive/MyDrive/Cs412Projectdata/nonlabeled_test2/4478.jpg'),\n",
              " PosixPath('/content/drive/MyDrive/Cs412Projectdata/nonlabeled_test2/1186.jpg'),\n",
              " PosixPath('/content/drive/MyDrive/Cs412Projectdata/nonlabeled_test2/10415.jpg'),\n",
              " PosixPath('/content/drive/MyDrive/Cs412Projectdata/nonlabeled_test2/12957.jpg'),\n",
              " PosixPath('/content/drive/MyDrive/Cs412Projectdata/nonlabeled_test2/10861.jpg'),\n",
              " PosixPath('/content/drive/MyDrive/Cs412Projectdata/nonlabeled_test2/7234.jpg'),\n",
              " PosixPath('/content/drive/MyDrive/Cs412Projectdata/nonlabeled_test2/13378.jpg'),\n",
              " PosixPath('/content/drive/MyDrive/Cs412Projectdata/nonlabeled_test2/14219.jpg'),\n",
              " PosixPath('/content/drive/MyDrive/Cs412Projectdata/nonlabeled_test2/7863.jpg'),\n",
              " PosixPath('/content/drive/MyDrive/Cs412Projectdata/nonlabeled_test2/10522.jpg'),\n",
              " PosixPath('/content/drive/MyDrive/Cs412Projectdata/nonlabeled_test2/14498.jpg'),\n",
              " PosixPath('/content/drive/MyDrive/Cs412Projectdata/nonlabeled_test2/12764.jpg'),\n",
              " PosixPath('/content/drive/MyDrive/Cs412Projectdata/nonlabeled_test2/13840.jpg'),\n",
              " PosixPath('/content/drive/MyDrive/Cs412Projectdata/nonlabeled_test2/1110.jpg'),\n",
              " PosixPath('/content/drive/MyDrive/Cs412Projectdata/nonlabeled_test2/13331.jpg'),\n",
              " PosixPath('/content/drive/MyDrive/Cs412Projectdata/nonlabeled_test2/2282.jpg'),\n",
              " PosixPath('/content/drive/MyDrive/Cs412Projectdata/nonlabeled_test2/544.jpg'),\n",
              " PosixPath('/content/drive/MyDrive/Cs412Projectdata/nonlabeled_test2/805.jpg'),\n",
              " PosixPath('/content/drive/MyDrive/Cs412Projectdata/nonlabeled_test2/13314.jpg'),\n",
              " PosixPath('/content/drive/MyDrive/Cs412Projectdata/nonlabeled_test2/10472.jpg'),\n",
              " ...]"
            ]
          },
          "metadata": {
            "tags": []
          },
          "execution_count": 26
        }
      ]
    },
    {
      "cell_type": "code",
      "metadata": {
        "id": "pHViqK267Z-b"
      },
      "source": [
        "classes_test = list(map(lambda x: os.path.split(os.path.split(x)[0])[1],filepath_Test))"
      ],
      "execution_count": 27,
      "outputs": []
    },
    {
      "cell_type": "code",
      "metadata": {
        "id": "_FVsDShu7Zfy"
      },
      "source": [
        "df_test = pd.concat([pd.Series(filepath_Test).astype(str), pd.Series(classes_test)], axis=1)\n",
        "df_test.columns = ['Images', 'Image_label']"
      ],
      "execution_count": 28,
      "outputs": []
    },
    {
      "cell_type": "code",
      "metadata": {
        "colab": {
          "base_uri": "https://localhost:8080/"
        },
        "id": "VPsr-aXfYaQy",
        "outputId": "ce71128d-527e-4194-aef6-13957ad05d23"
      },
      "source": [
        "df_test.shape"
      ],
      "execution_count": 29,
      "outputs": [
        {
          "output_type": "execute_result",
          "data": {
            "text/plain": [
              "(14500, 2)"
            ]
          },
          "metadata": {
            "tags": []
          },
          "execution_count": 29
        }
      ]
    },
    {
      "cell_type": "markdown",
      "metadata": {
        "id": "rbGG-0z4IzTZ"
      },
      "source": [
        "#Splitting data and Image process"
      ]
    },
    {
      "cell_type": "markdown",
      "metadata": {
        "id": "PyZmDZv6Xh8Q"
      },
      "source": [
        "##TRAIN DATA"
      ]
    },
    {
      "cell_type": "code",
      "metadata": {
        "colab": {
          "base_uri": "https://localhost:8080/"
        },
        "id": "kvDKgrClE4b0",
        "outputId": "77c73cee-7737-4e84-c7da-42869665196d"
      },
      "source": [
        "train_new, valid = train_test_split(df, test_size = 0.2, random_state = 42)\n",
        "print(f\"train set shape: {train_new.shape}\")\n",
        "\n",
        "print(f\"validation set shape: {valid.shape}\")"
      ],
      "execution_count": 17,
      "outputs": [
        {
          "output_type": "stream",
          "text": [
            "train set shape: (17400, 2)\n",
            "validation set shape: (4350, 2)\n"
          ],
          "name": "stdout"
        }
      ]
    },
    {
      "cell_type": "code",
      "metadata": {
        "id": "OKfAgH9a_9JZ"
      },
      "source": [
        "train_datagen = ImageDataGenerator(rescale = 1.0/255.)\n"
      ],
      "execution_count": 18,
      "outputs": []
    },
    {
      "cell_type": "code",
      "metadata": {
        "colab": {
          "base_uri": "https://localhost:8080/"
        },
        "id": "X-7agdUM_-e6",
        "outputId": "bd931088-9efc-4365-aaad-db3529f65458"
      },
      "source": [
        "train_gen = train_datagen.flow_from_dataframe(dataframe = train_new,\n",
        "                                              x_col = 'Images', y_col ='Image_label',\n",
        "                                              target_size = (200,200), batch_size = 16, \n",
        "                                              class_mode = 'categorical', shuffle = True,featurewise_center=True )\n",
        "val_gen = train_datagen.flow_from_dataframe(valid, \n",
        "                                            target_size=(200,200), x_col = 'Images', y_col ='Image_label', \n",
        "                                            class_mode='categorical',\n",
        "                                            batch_size= 16, shuffle=False ,featurewise_center=True)\n"
      ],
      "execution_count": 19,
      "outputs": [
        {
          "output_type": "stream",
          "text": [
            "Found 17400 validated image filenames belonging to 29 classes.\n",
            "Found 4350 validated image filenames belonging to 29 classes.\n"
          ],
          "name": "stdout"
        }
      ]
    },
    {
      "cell_type": "markdown",
      "metadata": {
        "id": "xJ8cAOX8Xs9h"
      },
      "source": [
        "##TEST DATA"
      ]
    },
    {
      "cell_type": "code",
      "metadata": {
        "id": "GxStJx0HXof7"
      },
      "source": [
        "test_datagen = ImageDataGenerator(rescale = 1.0/255.)"
      ],
      "execution_count": 31,
      "outputs": []
    },
    {
      "cell_type": "code",
      "metadata": {
        "colab": {
          "base_uri": "https://localhost:8080/"
        },
        "id": "_DhYJDXe-F57",
        "outputId": "78be9834-4221-40e2-8b66-aee8879fd7a3"
      },
      "source": [
        "test_gen = test_datagen.flow_from_dataframe(df_test,\n",
        "                                           target_size = (200,200), x_col = 'Images', y_col ='Image_label',\n",
        "                                            class_mode = 'categorical',\n",
        "                                           batch_size = 16, shuffle = False,featurewise_center = True)"
      ],
      "execution_count": 32,
      "outputs": [
        {
          "output_type": "stream",
          "text": [
            "Found 14500 validated image filenames belonging to 1 classes.\n"
          ],
          "name": "stdout"
        }
      ]
    },
    {
      "cell_type": "code",
      "metadata": {
        "colab": {
          "base_uri": "https://localhost:8080/"
        },
        "id": "wCsLdUlZCMAv",
        "outputId": "8ee78e1c-fc65-48fa-c479-6361e929c079"
      },
      "source": [
        "import tensorflow as tf\n",
        "tf.test.gpu_device_name()"
      ],
      "execution_count": null,
      "outputs": [
        {
          "output_type": "execute_result",
          "data": {
            "application/vnd.google.colaboratory.intrinsic+json": {
              "type": "string"
            },
            "text/plain": [
              "'/device:GPU:0'"
            ]
          },
          "metadata": {
            "tags": []
          },
          "execution_count": 68
        }
      ]
    },
    {
      "cell_type": "markdown",
      "metadata": {
        "id": "CE04F53kV1uN"
      },
      "source": [
        "#Creating model"
      ]
    },
    {
      "cell_type": "code",
      "metadata": {
        "id": "KoryGrNBbeOa"
      },
      "source": [
        "base_model = tf.keras.applications.ResNet50V2(weights='imagenet', input_shape = (200,200,3),\n",
        "                                                     include_top=False)\n",
        "\n",
        "for layer in base_model.layers:\n",
        "    layer.trainable = False\n",
        "    \n",
        "base_model.summary()    "
      ],
      "execution_count": null,
      "outputs": []
    },
    {
      "cell_type": "code",
      "metadata": {
        "colab": {
          "base_uri": "https://localhost:8080/"
        },
        "id": "5kXOrpf1x-Nq",
        "outputId": "59d8ad55-1503-43ec-ad5e-9d57e1652338"
      },
      "source": [
        "model = Sequential()\n",
        "model.add(base_model)\n",
        "\n",
        "model.add(GlobalAveragePooling2D())\n",
        "model.add(Dropout(0.2))\n",
        "model.add(Dense(256,activation=\"relu\"))\n",
        "model.add(Dropout(0.2))\n",
        "model.add(Dense(29,activation=\"softmax\"))\n",
        "\n",
        "\n",
        "callbacks = tf.keras.callbacks.EarlyStopping(monitor='val_loss', patience=5)\n",
        "model.compile(loss='categorical_crossentropy', optimizer=Adam(lr=0.001), metrics=['accuracy'])\n",
        "\n",
        "history_onelayer = model.fit(train_gen, validation_data = val_gen, epochs = 5000, \n",
        "                    callbacks = [callbacks], verbose = 1)"
      ],
      "execution_count": 22,
      "outputs": [
        {
          "output_type": "stream",
          "text": [
            "/usr/local/lib/python3.7/dist-packages/tensorflow/python/keras/optimizer_v2/optimizer_v2.py:375: UserWarning: The `lr` argument is deprecated, use `learning_rate` instead.\n",
            "  \"The `lr` argument is deprecated, use `learning_rate` instead.\")\n"
          ],
          "name": "stderr"
        },
        {
          "output_type": "stream",
          "text": [
            "Epoch 1/5000\n",
            "1088/1088 [==============================] - 6172s 6s/step - loss: 1.2507 - accuracy: 0.6406 - val_loss: 0.1945 - val_accuracy: 0.9398\n",
            "Epoch 2/5000\n",
            "1088/1088 [==============================] - 66s 60ms/step - loss: 0.2484 - accuracy: 0.9208 - val_loss: 0.1086 - val_accuracy: 0.9671\n",
            "Epoch 3/5000\n",
            "1088/1088 [==============================] - 67s 61ms/step - loss: 0.1730 - accuracy: 0.9438 - val_loss: 0.0769 - val_accuracy: 0.9777\n",
            "Epoch 4/5000\n",
            "1088/1088 [==============================] - 68s 62ms/step - loss: 0.1455 - accuracy: 0.9518 - val_loss: 0.0885 - val_accuracy: 0.9694\n",
            "Epoch 5/5000\n",
            "1088/1088 [==============================] - 68s 62ms/step - loss: 0.1248 - accuracy: 0.9577 - val_loss: 0.0611 - val_accuracy: 0.9789\n",
            "Epoch 6/5000\n",
            "1088/1088 [==============================] - 68s 63ms/step - loss: 0.1182 - accuracy: 0.9623 - val_loss: 0.0544 - val_accuracy: 0.9818\n",
            "Epoch 7/5000\n",
            "1088/1088 [==============================] - 69s 63ms/step - loss: 0.0936 - accuracy: 0.9681 - val_loss: 0.1013 - val_accuracy: 0.9674\n",
            "Epoch 8/5000\n",
            "1088/1088 [==============================] - 68s 63ms/step - loss: 0.1019 - accuracy: 0.9662 - val_loss: 0.0858 - val_accuracy: 0.9736\n",
            "Epoch 9/5000\n",
            "1088/1088 [==============================] - 68s 63ms/step - loss: 0.0984 - accuracy: 0.9656 - val_loss: 0.0394 - val_accuracy: 0.9846\n",
            "Epoch 10/5000\n",
            "1088/1088 [==============================] - 68s 63ms/step - loss: 0.0772 - accuracy: 0.9738 - val_loss: 0.0508 - val_accuracy: 0.9841\n",
            "Epoch 11/5000\n",
            "1088/1088 [==============================] - 68s 63ms/step - loss: 0.0687 - accuracy: 0.9764 - val_loss: 0.0367 - val_accuracy: 0.9878\n",
            "Epoch 12/5000\n",
            "1088/1088 [==============================] - 68s 63ms/step - loss: 0.0738 - accuracy: 0.9731 - val_loss: 0.0426 - val_accuracy: 0.9857\n",
            "Epoch 13/5000\n",
            "1088/1088 [==============================] - 68s 63ms/step - loss: 0.0777 - accuracy: 0.9756 - val_loss: 0.0374 - val_accuracy: 0.9869\n",
            "Epoch 14/5000\n",
            "1088/1088 [==============================] - 68s 63ms/step - loss: 0.0702 - accuracy: 0.9763 - val_loss: 0.0414 - val_accuracy: 0.9871\n",
            "Epoch 15/5000\n",
            "1088/1088 [==============================] - 68s 63ms/step - loss: 0.0691 - accuracy: 0.9757 - val_loss: 0.0476 - val_accuracy: 0.9844\n",
            "Epoch 16/5000\n",
            "1088/1088 [==============================] - 68s 63ms/step - loss: 0.0767 - accuracy: 0.9762 - val_loss: 0.0478 - val_accuracy: 0.9834\n"
          ],
          "name": "stdout"
        }
      ]
    },
    {
      "cell_type": "markdown",
      "metadata": {
        "id": "Yl8cMNtlVivX"
      },
      "source": [
        "#Prediction"
      ]
    },
    {
      "cell_type": "code",
      "metadata": {
        "colab": {
          "base_uri": "https://localhost:8080/"
        },
        "id": "ZWDwR6TE_fBv",
        "outputId": "406eefa6-4945-468b-a899-b78723414665"
      },
      "source": [
        "predictions = model.predict(test_gen)\n",
        "predictions"
      ],
      "execution_count": 33,
      "outputs": [
        {
          "output_type": "execute_result",
          "data": {
            "text/plain": [
              "array([[2.8201522e-10, 5.0363060e-17, 4.2517753e-13, ..., 1.6945346e-11,\n",
              "        3.7170473e-13, 1.7063763e-05],\n",
              "       [3.1388556e-09, 1.7838001e-15, 3.0615532e-15, ..., 1.4294701e-13,\n",
              "        4.7790899e-15, 1.0071911e-07],\n",
              "       [5.4667136e-19, 4.2568782e-20, 7.9186806e-14, ..., 1.9584471e-12,\n",
              "        2.5528728e-17, 8.4698941e-06],\n",
              "       ...,\n",
              "       [9.9999845e-01, 1.4983343e-12, 6.9023897e-23, ..., 3.5922721e-21,\n",
              "        5.7853497e-20, 2.3240623e-24],\n",
              "       [1.0000000e+00, 1.6827906e-13, 2.4001952e-21, ..., 2.4795890e-22,\n",
              "        8.0035210e-19, 1.4993266e-26],\n",
              "       [1.0000000e+00, 5.7253827e-11, 4.7215867e-19, ..., 4.2103716e-20,\n",
              "        1.3993783e-17, 8.1734556e-21]], dtype=float32)"
            ]
          },
          "metadata": {
            "tags": []
          },
          "execution_count": 33
        }
      ]
    },
    {
      "cell_type": "code",
      "metadata": {
        "colab": {
          "base_uri": "https://localhost:8080/"
        },
        "id": "dkoICprx_x48",
        "outputId": "affae937-db0a-4ede-8e41-eb4606907ecd"
      },
      "source": [
        "preds = np.argmax(predictions, axis=1 )\n",
        "labels = train_gen.class_indices\n",
        "labels\n"
      ],
      "execution_count": 34,
      "outputs": [
        {
          "output_type": "execute_result",
          "data": {
            "text/plain": [
              "{'A': 0,\n",
              " 'B': 1,\n",
              " 'C': 2,\n",
              " 'D': 3,\n",
              " 'E': 4,\n",
              " 'F': 5,\n",
              " 'G': 6,\n",
              " 'H': 7,\n",
              " 'I': 8,\n",
              " 'J': 9,\n",
              " 'K': 10,\n",
              " 'L': 11,\n",
              " 'M': 12,\n",
              " 'N': 13,\n",
              " 'O': 14,\n",
              " 'P': 15,\n",
              " 'Q': 16,\n",
              " 'R': 17,\n",
              " 'S': 18,\n",
              " 'T': 19,\n",
              " 'U': 20,\n",
              " 'V': 21,\n",
              " 'W': 22,\n",
              " 'X': 23,\n",
              " 'Y': 24,\n",
              " 'Z': 25,\n",
              " 'del': 26,\n",
              " 'nothing': 27,\n",
              " 'space': 28}"
            ]
          },
          "metadata": {
            "tags": []
          },
          "execution_count": 34
        }
      ]
    },
    {
      "cell_type": "code",
      "metadata": {
        "colab": {
          "base_uri": "https://localhost:8080/"
        },
        "id": "Wat2Go3KROSQ",
        "outputId": "9e4498f7-bd13-4772-9c1f-2178f3e1ebdc"
      },
      "source": [
        "preds"
      ],
      "execution_count": 35,
      "outputs": [
        {
          "output_type": "execute_result",
          "data": {
            "text/plain": [
              "array([24, 24, 24, ...,  0,  0,  0])"
            ]
          },
          "metadata": {
            "tags": []
          },
          "execution_count": 35
        }
      ]
    },
    {
      "cell_type": "markdown",
      "metadata": {
        "id": "TeDstB5JVTQD"
      },
      "source": [
        "#Uploading"
      ]
    },
    {
      "cell_type": "code",
      "metadata": {
        "colab": {
          "base_uri": "https://localhost:8080/",
          "height": 35
        },
        "id": "XTkP8FzScMMk",
        "outputId": "20d175c6-14c2-40a8-8059-2f89157c127a"
      },
      "source": [
        "test_gen.filenames[1][56]"
      ],
      "execution_count": 40,
      "outputs": [
        {
          "output_type": "execute_result",
          "data": {
            "application/vnd.google.colaboratory.intrinsic+json": {
              "type": "string"
            },
            "text/plain": [
              "'/'"
            ]
          },
          "metadata": {
            "tags": []
          },
          "execution_count": 40
        }
      ]
    },
    {
      "cell_type": "code",
      "metadata": {
        "id": "w3jfeQ-sG8g5"
      },
      "source": [
        "\n",
        "new = []\n",
        "for each in test_gen.filenames:\n",
        "  a = each[57::]\n",
        "  a = int(a.strip(\".jpg\"))\n",
        "  new.append(a)"
      ],
      "execution_count": 42,
      "outputs": []
    },
    {
      "cell_type": "code",
      "metadata": {
        "id": "XN4i0wroFK9e"
      },
      "source": [
        "\n",
        "labels = dict((v,k) for k,v in labels.items())\n",
        "preds = [labels[k] for k in preds]"
      ],
      "execution_count": 43,
      "outputs": []
    },
    {
      "cell_type": "code",
      "metadata": {
        "id": "YUWJoC1oPhgX"
      },
      "source": [
        "\n",
        "last = pd.DataFrame({'Id':new, 'Prediction':preds} )\n",
        "\n",
        "last = last.sort_values(\"Id\")"
      ],
      "execution_count": 44,
      "outputs": []
    },
    {
      "cell_type": "code",
      "metadata": {
        "id": "5kQnC-Ouc04F"
      },
      "source": [
        "last"
      ],
      "execution_count": null,
      "outputs": []
    },
    {
      "cell_type": "code",
      "metadata": {
        "id": "6pBpoVJlTFJM"
      },
      "source": [
        "last.to_csv(\"submission.csv\" , index = False)"
      ],
      "execution_count": 45,
      "outputs": []
    },
    {
      "cell_type": "code",
      "metadata": {
        "id": "qD_JNoMMczrZ"
      },
      "source": [
        ""
      ],
      "execution_count": null,
      "outputs": []
    }
  ]
}